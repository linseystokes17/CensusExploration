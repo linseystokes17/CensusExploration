{
 "metadata": {
  "language_info": {
   "codemirror_mode": {
    "name": "ipython",
    "version": 3
   },
   "file_extension": ".py",
   "mimetype": "text/x-python",
   "name": "python",
   "nbconvert_exporter": "python",
   "pygments_lexer": "ipython3",
   "version": "3.9.2"
  },
  "orig_nbformat": 4,
  "kernelspec": {
   "name": "python3",
   "display_name": "Python 3.9.2 64-bit"
  },
  "interpreter": {
   "hash": "38740d3277777e2cd7c6c2cc9d8addf5118fdf3f82b1b39231fd12aeac8aee8b"
  }
 },
 "nbformat": 4,
 "nbformat_minor": 2,
 "cells": [
  {
   "cell_type": "code",
   "execution_count": 7,
   "metadata": {},
   "outputs": [],
   "source": [
    "from typing import Text\n",
    "import requests\n",
    "import pandas as pd\n",
    "import plotly.express as px"
   ]
  },
  {
   "cell_type": "code",
   "execution_count": 8,
   "metadata": {},
   "outputs": [],
   "source": [
    "company_summary_base_url = 'https://api.census.gov/data/2018/abscs'\n",
    "business_char_base_url = 'https://api.census.gov/data/2018/abscb'\n",
    "owner_char_base_url = 'https://api.census.gov/data/2018/abscbo'\n",
    "tech_char_base_url = 'https://api.census.gov/data/2018/abstcb'\n",
    "api_key = 'key=54fdac0557ae012c182506724253e238427a8b27'\n",
    "state = 'for=state:*'\n",
    "country = 'for=us:*'\n",
    "metro = 'for=metropolitan%20statistical%20area/micropolitan%20statistical%20area:*'"
   ]
  },
  {
   "cell_type": "code",
   "execution_count": 9,
   "metadata": {},
   "outputs": [
    {
     "output_type": "execute_result",
     "data": {
      "text/plain": [
       "          GEO_ID           NAME NAICS2017  \\\n",
       "26515  0100000US  United States        54   \n",
       "26516  0100000US  United States        54   \n",
       "26517  0100000US  United States        54   \n",
       "26518  0100000US  United States        54   \n",
       "26519  0100000US  United States        54   \n",
       "\n",
       "                                        NAICS2017_LABEL  SEX SEX_LABEL  \\\n",
       "26515  Professional, scientific, and technical services  002    Female   \n",
       "26516  Professional, scientific, and technical services  002    Female   \n",
       "26517  Professional, scientific, and technical services  002    Female   \n",
       "26518  Professional, scientific, and technical services  002    Female   \n",
       "26519  Professional, scientific, and technical services  002    Female   \n",
       "\n",
       "      ETH_GROUP ETH_GROUP_LABEL RACE_GROUP                   RACE_GROUP_LABEL  \\\n",
       "26515       001           Total         50  American Indian and Alaska Native   \n",
       "26516       001           Total         50  American Indian and Alaska Native   \n",
       "26517       001           Total         50  American Indian and Alaska Native   \n",
       "26518       001           Total         50  American Indian and Alaska Native   \n",
       "26519       001           Total         50  American Indian and Alaska Native   \n",
       "\n",
       "       ... FIRMPDEMP_S_F RCPPDEMP_S RCPPDEMP_S_F EMP_S EMP_S_F PAYANN_S  \\\n",
       "26515  ...          None        0.0            S  72.9    None     49.9   \n",
       "26516  ...             S        0.0            S   0.0       S      0.0   \n",
       "26517  ...             S        0.0            S   0.0       S      0.0   \n",
       "26518  ...          None        0.0            S  27.5    None     28.6   \n",
       "26519  ...             S        0.0            S   0.0       S      0.0   \n",
       "\n",
       "      PAYANN_S_F RCPSZFI YIBSZFI us  \n",
       "26515       None     001     311  1  \n",
       "26516          S     001     318  1  \n",
       "26517          S     001     319  1  \n",
       "26518       None     001     321  1  \n",
       "26519          S     001     322  1  \n",
       "\n",
       "[5 rows x 34 columns]"
      ],
      "text/html": "<div>\n<style scoped>\n    .dataframe tbody tr th:only-of-type {\n        vertical-align: middle;\n    }\n\n    .dataframe tbody tr th {\n        vertical-align: top;\n    }\n\n    .dataframe thead th {\n        text-align: right;\n    }\n</style>\n<table border=\"1\" class=\"dataframe\">\n  <thead>\n    <tr style=\"text-align: right;\">\n      <th></th>\n      <th>GEO_ID</th>\n      <th>NAME</th>\n      <th>NAICS2017</th>\n      <th>NAICS2017_LABEL</th>\n      <th>SEX</th>\n      <th>SEX_LABEL</th>\n      <th>ETH_GROUP</th>\n      <th>ETH_GROUP_LABEL</th>\n      <th>RACE_GROUP</th>\n      <th>RACE_GROUP_LABEL</th>\n      <th>...</th>\n      <th>FIRMPDEMP_S_F</th>\n      <th>RCPPDEMP_S</th>\n      <th>RCPPDEMP_S_F</th>\n      <th>EMP_S</th>\n      <th>EMP_S_F</th>\n      <th>PAYANN_S</th>\n      <th>PAYANN_S_F</th>\n      <th>RCPSZFI</th>\n      <th>YIBSZFI</th>\n      <th>us</th>\n    </tr>\n  </thead>\n  <tbody>\n    <tr>\n      <th>26515</th>\n      <td>0100000US</td>\n      <td>United States</td>\n      <td>54</td>\n      <td>Professional, scientific, and technical services</td>\n      <td>002</td>\n      <td>Female</td>\n      <td>001</td>\n      <td>Total</td>\n      <td>50</td>\n      <td>American Indian and Alaska Native</td>\n      <td>...</td>\n      <td>None</td>\n      <td>0.0</td>\n      <td>S</td>\n      <td>72.9</td>\n      <td>None</td>\n      <td>49.9</td>\n      <td>None</td>\n      <td>001</td>\n      <td>311</td>\n      <td>1</td>\n    </tr>\n    <tr>\n      <th>26516</th>\n      <td>0100000US</td>\n      <td>United States</td>\n      <td>54</td>\n      <td>Professional, scientific, and technical services</td>\n      <td>002</td>\n      <td>Female</td>\n      <td>001</td>\n      <td>Total</td>\n      <td>50</td>\n      <td>American Indian and Alaska Native</td>\n      <td>...</td>\n      <td>S</td>\n      <td>0.0</td>\n      <td>S</td>\n      <td>0.0</td>\n      <td>S</td>\n      <td>0.0</td>\n      <td>S</td>\n      <td>001</td>\n      <td>318</td>\n      <td>1</td>\n    </tr>\n    <tr>\n      <th>26517</th>\n      <td>0100000US</td>\n      <td>United States</td>\n      <td>54</td>\n      <td>Professional, scientific, and technical services</td>\n      <td>002</td>\n      <td>Female</td>\n      <td>001</td>\n      <td>Total</td>\n      <td>50</td>\n      <td>American Indian and Alaska Native</td>\n      <td>...</td>\n      <td>S</td>\n      <td>0.0</td>\n      <td>S</td>\n      <td>0.0</td>\n      <td>S</td>\n      <td>0.0</td>\n      <td>S</td>\n      <td>001</td>\n      <td>319</td>\n      <td>1</td>\n    </tr>\n    <tr>\n      <th>26518</th>\n      <td>0100000US</td>\n      <td>United States</td>\n      <td>54</td>\n      <td>Professional, scientific, and technical services</td>\n      <td>002</td>\n      <td>Female</td>\n      <td>001</td>\n      <td>Total</td>\n      <td>50</td>\n      <td>American Indian and Alaska Native</td>\n      <td>...</td>\n      <td>None</td>\n      <td>0.0</td>\n      <td>S</td>\n      <td>27.5</td>\n      <td>None</td>\n      <td>28.6</td>\n      <td>None</td>\n      <td>001</td>\n      <td>321</td>\n      <td>1</td>\n    </tr>\n    <tr>\n      <th>26519</th>\n      <td>0100000US</td>\n      <td>United States</td>\n      <td>54</td>\n      <td>Professional, scientific, and technical services</td>\n      <td>002</td>\n      <td>Female</td>\n      <td>001</td>\n      <td>Total</td>\n      <td>50</td>\n      <td>American Indian and Alaska Native</td>\n      <td>...</td>\n      <td>S</td>\n      <td>0.0</td>\n      <td>S</td>\n      <td>0.0</td>\n      <td>S</td>\n      <td>0.0</td>\n      <td>S</td>\n      <td>001</td>\n      <td>322</td>\n      <td>1</td>\n    </tr>\n  </tbody>\n</table>\n<p>5 rows × 34 columns</p>\n</div>"
     },
     "metadata": {},
     "execution_count": 9
    }
   ],
   "source": [
    "# Company summary to dataframe\n",
    "variables = 'GEO_ID,NAME,NAICS2017,NAICS2017_LABEL,SEX,SEX_LABEL,ETH_GROUP,ETH_GROUP_LABEL,RACE_GROUP,RACE_GROUP_LABEL,VET_GROUP,VET_GROUP_LABEL,EMPSZFI,EMPSZFI_LABEL,YEAR,FIRMPDEMP,FIRMPDEMP_F,RCPPDEMP,RCPPDEMP_F,EMP,EMP_F,PAYANN,PAYANN_F,FIRMPDEMP_S,FIRMPDEMP_S_F,RCPPDEMP_S,RCPPDEMP_S_F,EMP_S,EMP_S_F,PAYANN_S,PAYANN_S_F,RCPSZFI,YIBSZFI'\n",
    "\n",
    "# country, state, or metro options\n",
    "region = f'get={variables}&{country}'\n",
    "response = requests.get(f'{company_summary_base_url}?{region}&{api_key}')\n",
    "comp_summary_text = response.json()\n",
    "comp_summary_df = pd.DataFrame(comp_summary_text[1:], columns=comp_summary_text[0])\n",
    "comp_summary_df = comp_summary_df[(comp_summary_df['NAICS2017_LABEL']=='Professional, scientific, and technical services')]\n",
    "\n",
    "comp_summary_df.head()"
   ]
  },
  {
   "cell_type": "code",
   "execution_count": 10,
   "metadata": {},
   "outputs": [
    {
     "output_type": "execute_result",
     "data": {
      "text/plain": [
       "          GEO_ID           NAME NAICS2017  \\\n",
       "39346  0100000US  United States        54   \n",
       "39347  0100000US  United States        54   \n",
       "39348  0100000US  United States        54   \n",
       "39349  0100000US  United States        54   \n",
       "39350  0100000US  United States        54   \n",
       "\n",
       "                                        NAICS2017_LABEL  SEX SEX_LABEL  \\\n",
       "39346  Professional, scientific, and technical services  001     Total   \n",
       "39347  Professional, scientific, and technical services  001     Total   \n",
       "39348  Professional, scientific, and technical services  001     Total   \n",
       "39349  Professional, scientific, and technical services  001     Total   \n",
       "39350  Professional, scientific, and technical services  001     Total   \n",
       "\n",
       "      ETH_GROUP ETH_GROUP_LABEL RACE_GROUP              RACE_GROUP_LABEL  ...  \\\n",
       "39346       001           Total         90                      Minority  ...   \n",
       "39347       001           Total         90                      Minority  ...   \n",
       "39348       001           Total         91  Equally minority/nonminority  ...   \n",
       "39349       001           Total         91  Equally minority/nonminority  ...   \n",
       "39350       001           Total         91  Equally minority/nonminority  ...   \n",
       "\n",
       "      EMP_S EMP_S_F EMP_PCT_S EMP_PCT_S_F PAYANN_S PAYANN_S_F PAYANN_PCT_S  \\\n",
       "39346  36.0    None       0.0        None     49.5       None          0.0   \n",
       "39347  36.0    None       0.0        None     49.5       None          0.0   \n",
       "39348  18.2    None       0.0           X     23.2       None          0.0   \n",
       "39349  17.3    None       2.1        None     23.4       None          1.3   \n",
       "39350   0.0       S       0.0           S      0.0          S          0.0   \n",
       "\n",
       "      PAYANN_PCT_S_F EMPSZFI us  \n",
       "39346           None     001  1  \n",
       "39347           None     001  1  \n",
       "39348              X     001  1  \n",
       "39349           None     001  1  \n",
       "39350              S     001  1  \n",
       "\n",
       "[5 rows x 51 columns]"
      ],
      "text/html": "<div>\n<style scoped>\n    .dataframe tbody tr th:only-of-type {\n        vertical-align: middle;\n    }\n\n    .dataframe tbody tr th {\n        vertical-align: top;\n    }\n\n    .dataframe thead th {\n        text-align: right;\n    }\n</style>\n<table border=\"1\" class=\"dataframe\">\n  <thead>\n    <tr style=\"text-align: right;\">\n      <th></th>\n      <th>GEO_ID</th>\n      <th>NAME</th>\n      <th>NAICS2017</th>\n      <th>NAICS2017_LABEL</th>\n      <th>SEX</th>\n      <th>SEX_LABEL</th>\n      <th>ETH_GROUP</th>\n      <th>ETH_GROUP_LABEL</th>\n      <th>RACE_GROUP</th>\n      <th>RACE_GROUP_LABEL</th>\n      <th>...</th>\n      <th>EMP_S</th>\n      <th>EMP_S_F</th>\n      <th>EMP_PCT_S</th>\n      <th>EMP_PCT_S_F</th>\n      <th>PAYANN_S</th>\n      <th>PAYANN_S_F</th>\n      <th>PAYANN_PCT_S</th>\n      <th>PAYANN_PCT_S_F</th>\n      <th>EMPSZFI</th>\n      <th>us</th>\n    </tr>\n  </thead>\n  <tbody>\n    <tr>\n      <th>39346</th>\n      <td>0100000US</td>\n      <td>United States</td>\n      <td>54</td>\n      <td>Professional, scientific, and technical services</td>\n      <td>001</td>\n      <td>Total</td>\n      <td>001</td>\n      <td>Total</td>\n      <td>90</td>\n      <td>Minority</td>\n      <td>...</td>\n      <td>36.0</td>\n      <td>None</td>\n      <td>0.0</td>\n      <td>None</td>\n      <td>49.5</td>\n      <td>None</td>\n      <td>0.0</td>\n      <td>None</td>\n      <td>001</td>\n      <td>1</td>\n    </tr>\n    <tr>\n      <th>39347</th>\n      <td>0100000US</td>\n      <td>United States</td>\n      <td>54</td>\n      <td>Professional, scientific, and technical services</td>\n      <td>001</td>\n      <td>Total</td>\n      <td>001</td>\n      <td>Total</td>\n      <td>90</td>\n      <td>Minority</td>\n      <td>...</td>\n      <td>36.0</td>\n      <td>None</td>\n      <td>0.0</td>\n      <td>None</td>\n      <td>49.5</td>\n      <td>None</td>\n      <td>0.0</td>\n      <td>None</td>\n      <td>001</td>\n      <td>1</td>\n    </tr>\n    <tr>\n      <th>39348</th>\n      <td>0100000US</td>\n      <td>United States</td>\n      <td>54</td>\n      <td>Professional, scientific, and technical services</td>\n      <td>001</td>\n      <td>Total</td>\n      <td>001</td>\n      <td>Total</td>\n      <td>91</td>\n      <td>Equally minority/nonminority</td>\n      <td>...</td>\n      <td>18.2</td>\n      <td>None</td>\n      <td>0.0</td>\n      <td>X</td>\n      <td>23.2</td>\n      <td>None</td>\n      <td>0.0</td>\n      <td>X</td>\n      <td>001</td>\n      <td>1</td>\n    </tr>\n    <tr>\n      <th>39349</th>\n      <td>0100000US</td>\n      <td>United States</td>\n      <td>54</td>\n      <td>Professional, scientific, and technical services</td>\n      <td>001</td>\n      <td>Total</td>\n      <td>001</td>\n      <td>Total</td>\n      <td>91</td>\n      <td>Equally minority/nonminority</td>\n      <td>...</td>\n      <td>17.3</td>\n      <td>None</td>\n      <td>2.1</td>\n      <td>None</td>\n      <td>23.4</td>\n      <td>None</td>\n      <td>1.3</td>\n      <td>None</td>\n      <td>001</td>\n      <td>1</td>\n    </tr>\n    <tr>\n      <th>39350</th>\n      <td>0100000US</td>\n      <td>United States</td>\n      <td>54</td>\n      <td>Professional, scientific, and technical services</td>\n      <td>001</td>\n      <td>Total</td>\n      <td>001</td>\n      <td>Total</td>\n      <td>91</td>\n      <td>Equally minority/nonminority</td>\n      <td>...</td>\n      <td>0.0</td>\n      <td>S</td>\n      <td>0.0</td>\n      <td>S</td>\n      <td>0.0</td>\n      <td>S</td>\n      <td>0.0</td>\n      <td>S</td>\n      <td>001</td>\n      <td>1</td>\n    </tr>\n  </tbody>\n</table>\n<p>5 rows × 51 columns</p>\n</div>"
     },
     "metadata": {},
     "execution_count": 10
    }
   ],
   "source": [
    "# Business Characteristics to dataframe\n",
    "variables = 'GEO_ID,NAME,NAICS2017,NAICS2017_LABEL,SEX,SEX_LABEL,ETH_GROUP,ETH_GROUP_LABEL,RACE_GROUP,RACE_GROUP_LABEL,VET_GROUP,VET_GROUP_LABEL,QDESC,QDESC_LABEL,BUSCHAR,BUSCHAR_LABEL,YEAR,FIRMPDEMP,FIRMPDEMP_F,FIRMPDEMP_PCT,FIRMPDEMP_PCT_F,RCPPDEMP,RCPPDEMP_F,RCPPDEMP_PCT,RCPPDEMP_PCT_F,EMP,EMP_F,EMP_PCT,EMP_PCT_F,PAYANN,PAYANN_F,PAYANN_PCT,PAYANN_PCT_F,FIRMPDEMP_S,FIRMPDEMP_S_F,FIRMPDEMP_PCT_S,FIRMPDEMP_PCT_S_F,RCPPDEMP_S,RCPPDEMP_S_F,RCPPDEMP_PCT_S,RCPPDEMP_PCT_S_F,EMP_S,EMP_S_F,EMP_PCT_S,EMP_PCT_S_F,PAYANN_S,PAYANN_S_F,PAYANN_PCT_S,PAYANN_PCT_S_F,EMPSZFI'\n",
    "\n",
    "# country, state, or metro options\n",
    "region = f'get={variables}&{country}'\n",
    "response = requests.get(f'{business_char_base_url}?{region}&{api_key}')\n",
    "business_char_text = response.json()\n",
    "business_char_df = pd.DataFrame(business_char_text[1:],columns=business_char_text[0])\n",
    "business_char_df = business_char_df[(business_char_df['NAICS2017_LABEL']=='Professional, scientific, and technical services')]\n",
    "business_char_df.tail()"
   ]
  },
  {
   "cell_type": "code",
   "execution_count": 11,
   "metadata": {},
   "outputs": [
    {
     "output_type": "execute_result",
     "data": {
      "text/plain": [
       "         GEO_ID           NAME NAICS2017  \\\n",
       "3952  0100000US  United States        54   \n",
       "3953  0100000US  United States        54   \n",
       "3954  0100000US  United States        54   \n",
       "3955  0100000US  United States        54   \n",
       "3956  0100000US  United States        54   \n",
       "\n",
       "                                       NAICS2017_LABEL VET_GROUP  \\\n",
       "3952  Professional, scientific, and technical services       001   \n",
       "3953  Professional, scientific, and technical services       001   \n",
       "3954  Professional, scientific, and technical services       001   \n",
       "3955  Professional, scientific, and technical services       001   \n",
       "3956  Professional, scientific, and technical services       001   \n",
       "\n",
       "     VET_GROUP_LABEL NSFSZFI NSFSZFI_LABEL FACTORS_P  \\\n",
       "3952           Total     001     All firms  T3E36R03   \n",
       "3953           Total     001     All firms  T3E36R04   \n",
       "3954           Total     001     All firms  T3E36R05   \n",
       "3955           Total     001     All firms  T3E36R06   \n",
       "3956           Total     001     All firms  T3E36R07   \n",
       "\n",
       "                                        FACTORS_P_LABEL  ... EMP_S EMP_S_F  \\\n",
       "3952  Specialized Software: Lacked access to require...  ...   3.6    None   \n",
       "3953   Specialized Software: Required data not reliable  ...   2.6    None   \n",
       "3954  Specialized Software: Lacked access to require...  ...   3.8    None   \n",
       "3955         Specialized Software: Laws and regulations  ...   4.2    None   \n",
       "3956  Specialized Software: Concerns regarding safet...  ...   4.0    None   \n",
       "\n",
       "     EMP_PCT_S EMP_PCT_S_F PAYANN_S PAYANN_S_F PAYANN_PCT_S PAYANN_PCT_S_F  \\\n",
       "3952       2.5        None      2.4       None          3.8           None   \n",
       "3953       2.8        None      1.5       None          4.0           None   \n",
       "3954       5.7        None      3.4       None          7.2           None   \n",
       "3955       5.7        None      2.1       None          8.3           None   \n",
       "3956       6.8        None      2.6       None         10.0           None   \n",
       "\n",
       "     IMPACTWK_U us  \n",
       "3952         00  1  \n",
       "3953         00  1  \n",
       "3954         00  1  \n",
       "3955         00  1  \n",
       "3956         00  1  \n",
       "\n",
       "[5 rows x 45 columns]"
      ],
      "text/html": "<div>\n<style scoped>\n    .dataframe tbody tr th:only-of-type {\n        vertical-align: middle;\n    }\n\n    .dataframe tbody tr th {\n        vertical-align: top;\n    }\n\n    .dataframe thead th {\n        text-align: right;\n    }\n</style>\n<table border=\"1\" class=\"dataframe\">\n  <thead>\n    <tr style=\"text-align: right;\">\n      <th></th>\n      <th>GEO_ID</th>\n      <th>NAME</th>\n      <th>NAICS2017</th>\n      <th>NAICS2017_LABEL</th>\n      <th>VET_GROUP</th>\n      <th>VET_GROUP_LABEL</th>\n      <th>NSFSZFI</th>\n      <th>NSFSZFI_LABEL</th>\n      <th>FACTORS_P</th>\n      <th>FACTORS_P_LABEL</th>\n      <th>...</th>\n      <th>EMP_S</th>\n      <th>EMP_S_F</th>\n      <th>EMP_PCT_S</th>\n      <th>EMP_PCT_S_F</th>\n      <th>PAYANN_S</th>\n      <th>PAYANN_S_F</th>\n      <th>PAYANN_PCT_S</th>\n      <th>PAYANN_PCT_S_F</th>\n      <th>IMPACTWK_U</th>\n      <th>us</th>\n    </tr>\n  </thead>\n  <tbody>\n    <tr>\n      <th>3952</th>\n      <td>0100000US</td>\n      <td>United States</td>\n      <td>54</td>\n      <td>Professional, scientific, and technical services</td>\n      <td>001</td>\n      <td>Total</td>\n      <td>001</td>\n      <td>All firms</td>\n      <td>T3E36R03</td>\n      <td>Specialized Software: Lacked access to require...</td>\n      <td>...</td>\n      <td>3.6</td>\n      <td>None</td>\n      <td>2.5</td>\n      <td>None</td>\n      <td>2.4</td>\n      <td>None</td>\n      <td>3.8</td>\n      <td>None</td>\n      <td>00</td>\n      <td>1</td>\n    </tr>\n    <tr>\n      <th>3953</th>\n      <td>0100000US</td>\n      <td>United States</td>\n      <td>54</td>\n      <td>Professional, scientific, and technical services</td>\n      <td>001</td>\n      <td>Total</td>\n      <td>001</td>\n      <td>All firms</td>\n      <td>T3E36R04</td>\n      <td>Specialized Software: Required data not reliable</td>\n      <td>...</td>\n      <td>2.6</td>\n      <td>None</td>\n      <td>2.8</td>\n      <td>None</td>\n      <td>1.5</td>\n      <td>None</td>\n      <td>4.0</td>\n      <td>None</td>\n      <td>00</td>\n      <td>1</td>\n    </tr>\n    <tr>\n      <th>3954</th>\n      <td>0100000US</td>\n      <td>United States</td>\n      <td>54</td>\n      <td>Professional, scientific, and technical services</td>\n      <td>001</td>\n      <td>Total</td>\n      <td>001</td>\n      <td>All firms</td>\n      <td>T3E36R05</td>\n      <td>Specialized Software: Lacked access to require...</td>\n      <td>...</td>\n      <td>3.8</td>\n      <td>None</td>\n      <td>5.7</td>\n      <td>None</td>\n      <td>3.4</td>\n      <td>None</td>\n      <td>7.2</td>\n      <td>None</td>\n      <td>00</td>\n      <td>1</td>\n    </tr>\n    <tr>\n      <th>3955</th>\n      <td>0100000US</td>\n      <td>United States</td>\n      <td>54</td>\n      <td>Professional, scientific, and technical services</td>\n      <td>001</td>\n      <td>Total</td>\n      <td>001</td>\n      <td>All firms</td>\n      <td>T3E36R06</td>\n      <td>Specialized Software: Laws and regulations</td>\n      <td>...</td>\n      <td>4.2</td>\n      <td>None</td>\n      <td>5.7</td>\n      <td>None</td>\n      <td>2.1</td>\n      <td>None</td>\n      <td>8.3</td>\n      <td>None</td>\n      <td>00</td>\n      <td>1</td>\n    </tr>\n    <tr>\n      <th>3956</th>\n      <td>0100000US</td>\n      <td>United States</td>\n      <td>54</td>\n      <td>Professional, scientific, and technical services</td>\n      <td>001</td>\n      <td>Total</td>\n      <td>001</td>\n      <td>All firms</td>\n      <td>T3E36R07</td>\n      <td>Specialized Software: Concerns regarding safet...</td>\n      <td>...</td>\n      <td>4.0</td>\n      <td>None</td>\n      <td>6.8</td>\n      <td>None</td>\n      <td>2.6</td>\n      <td>None</td>\n      <td>10.0</td>\n      <td>None</td>\n      <td>00</td>\n      <td>1</td>\n    </tr>\n  </tbody>\n</table>\n<p>5 rows × 45 columns</p>\n</div>"
     },
     "metadata": {},
     "execution_count": 11
    }
   ],
   "source": [
    "# Tech Characteristics to dataframe\n",
    "variables = 'GEO_ID,NAME,NAICS2017,NAICS2017_LABEL,VET_GROUP,VET_GROUP_LABEL,NSFSZFI,NSFSZFI_LABEL,FACTORS_P,FACTORS_P_LABEL,YEAR,FIRMPDEMP,FIRMPDEMP_F,FIRMPDEMP_PCT,FIRMPDEMP_PCT_F,RCPPDEMP,RCPPDEMP_F,RCPPDEMP_PCT,RCPPDEMP_PCT_F,EMP,EMP_F,EMP_PCT,EMP_PCT_F,PAYANN,PAYANN_F,PAYANN_PCT,PAYANN_PCT_F,FIRMPDEMP_S,FIRMPDEMP_S_F,FIRMPDEMP_PCT_S,FIRMPDEMP_PCT_S_F,RCPPDEMP_S,RCPPDEMP_S_F,RCPPDEMP_PCT_S,RCPPDEMP_PCT_S_F,EMP_S,EMP_S_F,EMP_PCT_S,EMP_PCT_S_F,PAYANN_S,PAYANN_S_F,PAYANN_PCT_S,PAYANN_PCT_S_F,IMPACTWK_U'\n",
    "\n",
    "# country, state, or metro options\n",
    "region = f'get={variables}&{country}'\n",
    "response = requests.get(f'{tech_char_base_url}?{region}&{api_key}')\n",
    "tech_char_text = response.json()\n",
    "tech_char_df = pd.DataFrame(tech_char_text[1:], columns=tech_char_text[0])\n",
    "tech_char_df = tech_char_df[(tech_char_df['NAICS2017_LABEL']=='Professional, scientific, and technical services')]\n",
    "\n",
    "tech_char_df.tail()"
   ]
  },
  {
   "cell_type": "code",
   "execution_count": 12,
   "metadata": {},
   "outputs": [
    {
     "output_type": "execute_result",
     "data": {
      "text/plain": [
       "          GEO_ID           NAME NAICS2017  \\\n",
       "58612  0100000US  United States        54   \n",
       "58613  0100000US  United States        54   \n",
       "58614  0100000US  United States        54   \n",
       "58615  0100000US  United States        54   \n",
       "58616  0100000US  United States        54   \n",
       "\n",
       "                                        NAICS2017_LABEL OWNER_SEX  \\\n",
       "58612  Professional, scientific, and technical services       003   \n",
       "58613  Professional, scientific, and technical services       003   \n",
       "58614  Professional, scientific, and technical services       001   \n",
       "58615  Professional, scientific, and technical services       001   \n",
       "58616  Professional, scientific, and technical services       001   \n",
       "\n",
       "                      OWNER_SEX_LABEL OWNER_ETH  \\\n",
       "58612                            Male       001   \n",
       "58613                            Male       001   \n",
       "58614  All owners of respondent firms       001   \n",
       "58615  All owners of respondent firms       001   \n",
       "58616  All owners of respondent firms       001   \n",
       "\n",
       "                      OWNER_ETH_LABEL OWNER_RACE           OWNER_RACE_LABEL  \\\n",
       "58612  All owners of respondent firms         30                      White   \n",
       "58613  All owners of respondent firms         30                      White   \n",
       "58614  All owners of respondent firms         40  Black or African American   \n",
       "58615  All owners of respondent firms         40  Black or African American   \n",
       "58616  All owners of respondent firms         40  Black or African American   \n",
       "\n",
       "       ...  YEAR OWNPDEMP OWNPDEMP_F OWNPDEMP_PCT OWNPDEMP_PCT_F OWNPDEMP_S  \\\n",
       "58612  ...  2018   416348       None        100.0           None        0.9   \n",
       "58613  ...  2018    16319       None          0.0              X        3.3   \n",
       "58614  ...  2018       79       None          0.7           None       32.5   \n",
       "58615  ...  2018      689       None          5.8           None       15.1   \n",
       "58616  ...  2018     1667       None         13.9           None       12.7   \n",
       "\n",
       "      OWNPDEMP_S_F OWNPDEMP_PCT_S OWNPDEMP_PCT_S_F us  \n",
       "58612         None            0.0             None  1  \n",
       "58613         None            0.0                X  1  \n",
       "58614         None            0.2             None  1  \n",
       "58615         None            0.9             None  1  \n",
       "58616         None            1.6             None  1  \n",
       "\n",
       "[5 rows x 26 columns]"
      ],
      "text/html": "<div>\n<style scoped>\n    .dataframe tbody tr th:only-of-type {\n        vertical-align: middle;\n    }\n\n    .dataframe tbody tr th {\n        vertical-align: top;\n    }\n\n    .dataframe thead th {\n        text-align: right;\n    }\n</style>\n<table border=\"1\" class=\"dataframe\">\n  <thead>\n    <tr style=\"text-align: right;\">\n      <th></th>\n      <th>GEO_ID</th>\n      <th>NAME</th>\n      <th>NAICS2017</th>\n      <th>NAICS2017_LABEL</th>\n      <th>OWNER_SEX</th>\n      <th>OWNER_SEX_LABEL</th>\n      <th>OWNER_ETH</th>\n      <th>OWNER_ETH_LABEL</th>\n      <th>OWNER_RACE</th>\n      <th>OWNER_RACE_LABEL</th>\n      <th>...</th>\n      <th>YEAR</th>\n      <th>OWNPDEMP</th>\n      <th>OWNPDEMP_F</th>\n      <th>OWNPDEMP_PCT</th>\n      <th>OWNPDEMP_PCT_F</th>\n      <th>OWNPDEMP_S</th>\n      <th>OWNPDEMP_S_F</th>\n      <th>OWNPDEMP_PCT_S</th>\n      <th>OWNPDEMP_PCT_S_F</th>\n      <th>us</th>\n    </tr>\n  </thead>\n  <tbody>\n    <tr>\n      <th>58612</th>\n      <td>0100000US</td>\n      <td>United States</td>\n      <td>54</td>\n      <td>Professional, scientific, and technical services</td>\n      <td>003</td>\n      <td>Male</td>\n      <td>001</td>\n      <td>All owners of respondent firms</td>\n      <td>30</td>\n      <td>White</td>\n      <td>...</td>\n      <td>2018</td>\n      <td>416348</td>\n      <td>None</td>\n      <td>100.0</td>\n      <td>None</td>\n      <td>0.9</td>\n      <td>None</td>\n      <td>0.0</td>\n      <td>None</td>\n      <td>1</td>\n    </tr>\n    <tr>\n      <th>58613</th>\n      <td>0100000US</td>\n      <td>United States</td>\n      <td>54</td>\n      <td>Professional, scientific, and technical services</td>\n      <td>003</td>\n      <td>Male</td>\n      <td>001</td>\n      <td>All owners of respondent firms</td>\n      <td>30</td>\n      <td>White</td>\n      <td>...</td>\n      <td>2018</td>\n      <td>16319</td>\n      <td>None</td>\n      <td>0.0</td>\n      <td>X</td>\n      <td>3.3</td>\n      <td>None</td>\n      <td>0.0</td>\n      <td>X</td>\n      <td>1</td>\n    </tr>\n    <tr>\n      <th>58614</th>\n      <td>0100000US</td>\n      <td>United States</td>\n      <td>54</td>\n      <td>Professional, scientific, and technical services</td>\n      <td>001</td>\n      <td>All owners of respondent firms</td>\n      <td>001</td>\n      <td>All owners of respondent firms</td>\n      <td>40</td>\n      <td>Black or African American</td>\n      <td>...</td>\n      <td>2018</td>\n      <td>79</td>\n      <td>None</td>\n      <td>0.7</td>\n      <td>None</td>\n      <td>32.5</td>\n      <td>None</td>\n      <td>0.2</td>\n      <td>None</td>\n      <td>1</td>\n    </tr>\n    <tr>\n      <th>58615</th>\n      <td>0100000US</td>\n      <td>United States</td>\n      <td>54</td>\n      <td>Professional, scientific, and technical services</td>\n      <td>001</td>\n      <td>All owners of respondent firms</td>\n      <td>001</td>\n      <td>All owners of respondent firms</td>\n      <td>40</td>\n      <td>Black or African American</td>\n      <td>...</td>\n      <td>2018</td>\n      <td>689</td>\n      <td>None</td>\n      <td>5.8</td>\n      <td>None</td>\n      <td>15.1</td>\n      <td>None</td>\n      <td>0.9</td>\n      <td>None</td>\n      <td>1</td>\n    </tr>\n    <tr>\n      <th>58616</th>\n      <td>0100000US</td>\n      <td>United States</td>\n      <td>54</td>\n      <td>Professional, scientific, and technical services</td>\n      <td>001</td>\n      <td>All owners of respondent firms</td>\n      <td>001</td>\n      <td>All owners of respondent firms</td>\n      <td>40</td>\n      <td>Black or African American</td>\n      <td>...</td>\n      <td>2018</td>\n      <td>1667</td>\n      <td>None</td>\n      <td>13.9</td>\n      <td>None</td>\n      <td>12.7</td>\n      <td>None</td>\n      <td>1.6</td>\n      <td>None</td>\n      <td>1</td>\n    </tr>\n  </tbody>\n</table>\n<p>5 rows × 26 columns</p>\n</div>"
     },
     "metadata": {},
     "execution_count": 12
    }
   ],
   "source": [
    "# Owner Characteristics to dataframe\n",
    "variables = 'GEO_ID,NAME,NAICS2017,NAICS2017_LABEL,OWNER_SEX,OWNER_SEX_LABEL,OWNER_ETH,OWNER_ETH_LABEL,OWNER_RACE,OWNER_RACE_LABEL,OWNER_VET,OWNER_VET_LABEL,QDESC,QDESC_LABEL,OWNCHAR,OWNCHAR_LABEL,YEAR,OWNPDEMP,OWNPDEMP_F,OWNPDEMP_PCT,OWNPDEMP_PCT_F,OWNPDEMP_S,OWNPDEMP_S_F,OWNPDEMP_PCT_S,OWNPDEMP_PCT_S_F'\n",
    "\n",
    "# country, state, or metro options\n",
    "region = f'get={variables}&{country}'\n",
    "response = requests.get(f'{owner_char_base_url}?{region}&{api_key}')\n",
    "owner_char_text = response.json()\n",
    "owner_char_df = pd.DataFrame(owner_char_text[1:], columns=owner_char_text[0])\n",
    "owner_char_df = owner_char_df[(owner_char_df['NAICS2017_LABEL']=='Professional, scientific, and technical services')]\n",
    "owner_char_df.head()"
   ]
  },
  {
   "cell_type": "code",
   "execution_count": 22,
   "metadata": {},
   "outputs": [
    {
     "output_type": "stream",
     "name": "stdout",
     "text": [
      "GEO_ID ['0100000US']\nNAME ['United States']\nNAICS2017 ['54']\nNAICS2017_LABEL ['Professional, scientific, and technical services']\nSEX ['002' '003' '001' '004' '096' '098']\nSEX_LABEL ['Female' 'Male' 'Total' 'Equally male/female' 'Classifiable'\n 'Unclassifiable']\nETH_GROUP ['001' '020' '028' '029' '096' '098']\nETH_GROUP_LABEL ['Total' 'Hispanic' 'Equally Hispanic/non-Hispanic' 'Non-Hispanic'\n 'Classifiable' 'Unclassifiable']\nRACE_GROUP ['50' '00' '30' '60' '40' '70' '90' '92' '96' '98' '91']\nRACE_GROUP_LABEL ['American Indian and Alaska Native' 'Total' 'White' 'Asian'\n 'Black or African American' 'Native Hawaiian and Other Pacific Islander'\n 'Minority' 'Nonminority' 'Classifiable' 'Unclassifiable'\n 'Equally minority/nonminority']\nVET_GROUP ['001' '002' '003' '004' '096' '098']\nVET_GROUP_LABEL ['Total' 'Veteran' 'Equally veteran/nonveteran' 'Nonveteran'\n 'Classifiable' 'Unclassifiable']\nEMPSZFI ['001' '611' '612' '620' '630' '641' '642' '651' '652' '657']\nEMPSZFI_LABEL ['All firms' 'Firms with no employees' 'Firms with 1 to 4 employees'\n 'Firms with 5 to 9 employees' 'Firms with 10 to 19 employees'\n 'Firms with 20 to 49 employees' 'Firms with 50 to 99 employees'\n 'Firms with 100 to 249 employees' 'Firms with 250 to 499 employees'\n 'Firms with 500 employees or more']\nYEAR ['2018']\nFIRMPDEMP ['225' '0' '262' ... '874' '126' '533']\nFIRMPDEMP_F [None 'S' 'D']\nRCPPDEMP ['0']\nRCPPDEMP_F ['L' 'S' 'R' 'U' 'D' 'K' 'O' 'W' 'M' 'I' 'T' 'B']\nEMP ['493' '0' '1167' ... '7740' '1049' '1589']\nEMP_F [None 'f' 'g' 'i' 'a' 'b' 'm' 'h' 'c' 'k' 'e' 'j']\nPAYANN ['16389' '0' '67632' ... '178067' '120' '65']\nPAYANN_F [None 'S' 'D']\nFIRMPDEMP_S ['40.5' '0.0' '33.0' '39.4' '12.0' '13.4' '34.8' '74.6' '49.9' '40.1'\n '41.0' '34.4' '16.3' '30.7' '41.1' '24.0' '6.2' '7.6' '9.2' '5.8' '3.9'\n '2.5' '1.4' '1.6' '2.6' '0.9' '2.2' '1.9' '2.4' '1.2' '3.8' '2.7' '5.3'\n '9.5' '8.9' '17.9' '23.9' '48.1' '22.0' '8.7' '0.1' '4.6' '8.4' '7.2'\n '15.2' '32.5' '33.1' '40.6' '37.1' '58.5' '20.1' '41.9' '5.2' '4.7' '3.1'\n '4.3' '6.6' '4.8' '3.0' '5.1' '3.5' '0.5' '3.3' '3.6' '4.2' '12.9' '15.5'\n '27.2' '11.5' '9.0' '10.6' '6.4' '11.8' '13.7' '22.5' '8.0' '9.4' '6.0'\n '1.3' '1.8' '2.3' '2.0' '2.1' '1.5' '3.2' '10.0' '11.9' '22.4' '23.6'\n '45.7' '49.8' '26.8' '1.7' '5.4' '6.3' '32.3' '34.2' '72.4' '25.3' '21.6'\n '14.9' '9.7' '8.3' '6.5' '4.5' '5.5' '2.9' '6.9' '5.7' '5.6' '3.7' '0.8'\n '5.0' '15.1' '16.6' '29.0' '12.6' '8.8' '10.1' '7.1' '10.4' '15.0' '25.2'\n '30.0' '74.1' '31.7' '33.8' '21.7' '23.5' '20.6' '23.0' '26.7' '9.6'\n '7.0' '4.1' '15.9' '17.6' '28.9' '28.6' '48.8' '18.7' '7.9' '6.8' '7.3'\n '3.4' '4.0' '6.1' '7.4' '13.0' '37.0' '35.8' '78.4' '24.6' '24.3' '10.2'\n '4.9' '26.1' '16.1' '85.4' '2.8' '14.4' '19.3' '39.3' '56.8' '22.2'\n '25.1' '14.0' '4.4' '7.7' '5.9' '9.1' '9.3' '7.8' '14.3' '22.9' '27.8'\n '105.2' '31.1' '17.1' '12.3' '19.4' '16.8' '12.5' '28.3' '17.8' '16.4'\n '21.9' '20.3' '15.7' '8.6' '10.5' '17.3' '28.8' '48.9' '20.9' '20.0'\n '8.2' '20.2' '33.5' '30.9' '31.5' '34.3' '18.6' '13.5' '10.9' '12.1'\n '19.8' '11.1' '35.6' '36.9' '14.6' '10.8' '15.3' '10.3' '14.8' '20.7'\n '50.3' '18.3' '16.9' '11.6' '63.8' '40.7' '35.4' '46.5' '36.6' '30.5'\n '28.0' '17.5' '9.9' '20.5' '15.8' '16.0' '44.3' '39.5' '21.8' '24.1'\n '7.5' '9.8' '13.2' '16.7' '35.2' '31.8' '46.2' '48.3' '16.5' '32.0'\n '54.7' '18.1' '29.3' '22.7' '22.1' '0.3' '11.7' '23.1' '40.9' '34.7'\n '21.1' '28.2' '20.8' '31.9' '28.7' '36.2' '44.7' '30.1' '29.2' '19.9'\n '21.5' '19.6' '39.0' '26.2' '49.7' '58.2' '14.7' '26.9' '51.1' '38.2'\n '27.6' '28.1' '12.7' '12.2' '13.1' '24.2' '37.2' '43.2' '53.5' '30.4'\n '49.3' '38.7' '19.5' '18.4' '27.3' '8.5' '37.3' '27.5' '43.8' '46.9'\n '35.3' '38.5' '25.7' '19.2' '36.8' '29.1' '25.0' '21.0' '24.8' '22.3'\n '23.7' '31.3' '66.1' '30.6' '40.8' '42.2' '15.6' '54.5' '35.1' '44.6'\n '52.3' '37.5' '49.1' '66.9' '39.6' '27.0' '69.4' '54.3' '69.5' '45.6'\n '46.4' '38.0' '43.6' '65.3' '72.3' '47.8' '78.7' '44.1' '26.6' '39.1'\n '55.0' '46.8' '48.5' '23.3' '11.2' '0.4' '14.2' '48.7' '19.1' '55.7'\n '27.7' '45.2' '64.1' '42.4' '37.8' '124.9' '43.4' '51.7' '87.5' '17.0'\n '18.9' '26.5' '50.2' '32.4' '19.7' '37.7' '32.1' '73.5' '8.1' '6.7' '0.2'\n '1.0' '46.0' '33.3' '27.1' '18.0' '18.5' '55.4' '67.6' '24.4' '25.9'\n '70.1' '49.2' '37.6' '13.9' '61.5' '44.8' '51.4' '60.1' '69.8' '42.8'\n '52.1' '13.8' '78.1' '36.4' '73.2' '31.0' '0.7' '18.8' '64.8' '80.7'\n '50.6' '22.6' '26.0' '21.4' '23.2' '32.7' '28.5' '41.2' '17.7' '29.9'\n '36.7' '40.2' '35.7' '12.4' '23.4' '82.6' '68.0' '42.7' '19.0' '36.5'\n '13.3' '40.3' '26.3' '29.4' '48.6' '22.8' '25.8' '73.6' '88.4' '42.9'\n '47.3' '34.9' '17.2' '47.0' '11.4' '26.4' '46.7' '24.7' '25.6' '33.7'\n '0.6' '17.4' '79.7' '24.5' '31.4' '31.6' '11.3' '11.0' '42.0' '76.0'\n '66.0' '10.7' '43.0' '44.5' '34.0' '29.6' '29.8' '50.7' '16.2' '13.6'\n '12.8' '40.0' '78.2' '36.1' '80.3' '38.8' '42.5' '49.6' '47.6' '30.3'\n '42.3' '52.9' '58.6' '49.0' '57.5' '38.3' '70.9' '48.2' '39.8' '73.0'\n '41.3' '53.2' '62.4' '74.9' '49.5' '14.5' '29.7' '59.0' '43.7' '45.3'\n '55.6' '70.8' '51.0' '20.4' '38.4' '45.1' '43.1' '29.5' '38.1' '89.2'\n '63.9' '34.5' '36.0' '18.2' '15.4' '40.4' '87.4' '60.7' '63.3' '64.4']\nFIRMPDEMP_S_F [None 'S' 'D']\nRCPPDEMP_S ['0.0']\nRCPPDEMP_S_F ['S' 'D']\nEMP_S ['72.9' '0.0' '27.5' '31.4' '14.1' '14.3' '36.7' '64.1' '38.6' '1.7'\n '51.9' '38.1' '27.6' '48.1' '61.9' '16.9' '11.1' '3.2' '13.3' '10.3'\n '25.1' '4.3' '3.1' '2.3' '2.7' '2.2' '6.3' '8.7' '9.6' '12.3' '9.9' '8.3'\n '5.8' '10.7' '9.1' '16.0' '23.4' '49.4' '36.8' '1.9' '0.9' '2.8' '3.0'\n '4.6' '8.1' '9.2' '15.8' '28.6' '47.8' '11.4' '46.6' '29.2' '32.1' '10.4'\n '4.4' '7.3' '5.7' '7.6' '12.9' '8.6' '19.3' '14.9' '11.3' '30.2' '8.9'\n '4.0' '1.0' '3.4' '2.5' '4.2' '12.8' '15.6' '25.5' '15.3' '17.5' '18.0'\n '15.1' '37.8' '11.0' '13.6' '21.2' '17.2' '13.5' '27.2' '3.8' '3.3' '2.9'\n '3.5' '6.5' '12.7' '6.7' '3.9' '21.8' '25.2' '80.3' '67.2' '81.3' '60.0'\n '5.6' '5.0' '7.4' '16.4' '13.2' '5.5' '11.9' '7.2' '6.2' '17.4' '34.4'\n '75.3' '35.3' '79.8' '29.1' '13.0' '16.2' '10.8' '12.2' '8.8' '44.0'\n '21.0' '11.2' '3.7' '7.9' '10.9' '10.1' '16.8' '14.5' '16.3' '27.4'\n '17.1' '16.6' '20.2' '40.6' '30.0' '13.4' '29.3' '26.0' '62.1' '28.3'\n '39.6' '35.4' '30.9' '32.0' '41.9' '16.7' '45.2' '37.6' '17.0' '15.9'\n '40.4' '9.3' '4.8' '85.6' '55.1' '41.1' '14.4' '27.0' '14.2' '12.5'\n '28.9' '6.1' '8.2' '18.8' '7.1' '8.4' '7.0' '15.5' '39.7' '35.1' '39.5'\n '48.8' '28.8' '13.1' '15.2' '15.4' '34.8' '9.0' '18.1' '40.9' '53.7'\n '5.1' '39.4' '70.6' '26.9' '14.8' '11.7' '14.0' '33.6' '19.2' '20.0'\n '23.7' '91.0' '0.6' '49.5' '27.3' '23.1' '67.8' '37.2' '19.8' '22.9'\n '52.5' '47.0' '25.3' '19.1' '18.2' '26.2' '14.7' '9.7' '4.5' '20.9' '1.1'\n '85.7' '39.3' '27.7' '13.9' '30.3' '28.2' '28.5' '7.5' '20.4' '34.2'\n '32.6' '31.7' '24.0' '57.4' '47.3' '21.3' '19.7' '69.6' '54.3' '36.2'\n '14.6' '23.6' '1.4' '50.0' '45.0' '18.6' '20.3' '21.1' '21.9' '17.7'\n '32.3' '25.6' '22.5' '52.0' '17.6' '21.5' '21.7' '10.5' '20.7' '13.8'\n '37.7' '2.1' '18.5' '107.2' '58.9' '38.3' '54.4' '33.4' '46.1' '34.5'\n '30.6' '4.9' '20.8' '1.6' '59.2' '83.4' '29.5' '10.0' '12.4' '28.4'\n '39.9' '11.6' '18.3' '37.9' '38.9' '44.2' '50.3' '33.8' '29.9' '62.2'\n '42.2' '82.1' '33.3' '22.2' '30.1' '2.6' '40.2' '65.3' '32.2' '33.2'\n '26.5' '33.5' '45.1' '50.6' '37.3' '27.9' '43.3' '32.7' '57.3' '41.2'\n '76.1' '42.0' '7.8' '13.7' '22.1' '24.2' '0.2' '53.6' '35.6' '82.4'\n '56.4' '68.2' '34.6' '43.2' '25.8' '41.7' '9.8' '17.9' '25.9' '38.0'\n '0.7' '69.9' '31.3' '38.4' '22.0' '29.7' '49.0' '9.5' '33.7' '10.2'\n '45.9' '24.5' '28.7' '143.2' '70.5' '46.9' '54.2' '71.7' '39.1' '6.8'\n '12.6' '44.6' '12.1' '0.1' '68.5' '81.4' '35.2' '43.0' '36.1' '17.3'\n '42.4' '53.5' '22.8' '65.6' '42.6' '47.1' '28.1' '2.4' '19.0' '15.7'\n '26.4' '2.0' '17.8' '24.7' '44.4' '57.0' '102.9' '43.6' '33.0' '45.5'\n '68.3' '56.7' '16.1' '60.8' '125.9' '5.4' '49.7' '25.4' '31.5' '37.0'\n '80.5' '34.1' '40.1' '62.4' '61.8' '44.7' '32.5' '60.3' '57.9' '3.6'\n '4.7' '5.3' '65.1' '6.6' '32.8' '41.8' '32.4' '22.4' '26.1' '26.3' '35.0'\n '65.5' '50.2' '32.9' '71.9' '44.9' '22.7' '31.9' '60.6' '51.1' '39.8'\n '48.7' '42.8' '42.5' '10.6' '7.7' '8.5' '27.8' '28.0' '51.3' '58.7'\n '36.9' '19.9' '64.7' '149.4' '61.2' '4.1' '0.3' '46.0' '25.7' '11.5'\n '23.2' '29.8' '19.6' '11.8' '47.2' '18.7' '36.5' '62.3' '24.1' '19.4'\n '43.5' '9.4' '12.0' '74.2' '57.1' '22.6' '23.8' '50.5' '24.3' '1.5'\n '30.4' '31.6' '49.6' '30.8' '1.3' '63.1' '45.7' '31.0' '46.4' '30.7'\n '29.6' '45.3' '23.5' '48.3' '6.0' '0.8' '23.3' '44.3' '106.6' '64.6'\n '34.7' '48.5' '77.6' '43.8' '34.9' '6.9' '36.6' '115.2' '5.2' '77.2'\n '84.0' '34.3' '18.4' '44.1' '87.5' '55.6' '41.6' '5.9' '45.4' '160.5'\n '181.6' '27.1' '43.4' '38.8' '41.3' '74.1' '67.3' '65.0' '36.3' '24.8'\n '39.2' '15.0' '41.4' '29.0' '62.0' '78.9' '20.5' '16.5' '50.8' '113.0'\n '1.2' '58.8' '48.0' '20.6' '31.1' '38.2' '30.5' '56.2' '29.4' '37.4'\n '71.2' '49.1' '34.0' '55.4' '31.8' '114.6' '42.3' '25.0' '24.4' '40.5'\n '53.8' '38.5' '66.1' '24.6' '21.6' '35.7' '26.8' '38.7' '50.7' '31.2'\n '84.6' '52.3' '48.9' '20.1' '60.4' '26.6' '51.0' '113.1' '71.1' '64.2'\n '51.4' '78.3' '54.5' '23.9' '35.9' '45.6' '115.1' '139.8' '139.7' '46.8'\n '60.2' '47.7' '59.1' '69.3' '67.7' '83.7' '58.3' '66.6' '26.7' '42.7'\n '64.8' '48.6' '44.8' '64.9' '18.9' '8.0' '74.3' '1.8' '93.0' '220.6']\nEMP_S_F [None 'S' 'D']\nPAYANN_S ['49.9' '0.0' '28.6' '31.3' '14.7' '18.2' '39.4' '48.7' '39.9' '1.2'\n '42.0' '39.1' '19.2' '35.3' '55.5' '16.9' '2.0' '23.0' '19.8' '6.9'\n '88.2' '6.0' '2.4' '1.6' '3.5' '7.7' '7.1' '8.5' '14.6' '1.7' '9.1' '4.8'\n '4.9' '6.6' '11.5' '10.2' '16.1' '27.6' '38.8' '29.9' '40.1' '1.0' '3.9'\n '2.7' '4.2' '10.3' '6.5' '17.5' '33.1' '27.8' '14.0' '39.0' '24.0' '22.7'\n '1.9' '22.3' '19.5' '22.5' '5.1' '2.1' '4.6' '8.3' '11.8' '8.8' '16.3'\n '16.6' '36.5' '9.9' '3.4' '5.3' '4.1' '13.6' '29.5' '27.9' '34.7' '13.9'\n '106.6' '5.0' '12.9' '12.4' '27.0' '18.7' '25.1' '28.3' '7.8' '93.6'\n '3.1' '2.3' '3.2' '3.3' '9.0' '12.1' '8.9' '20.2' '4.4' '5.9' '5.8' '6.7'\n '10.8' '14.2' '21.7' '32.3' '13.5' '48.3' '58.2' '47.9' '3.0' '6.4' '4.0'\n '9.6' '10.9' '11.0' '20.8' '7.6' '12.3' '9.8' '20.7' '35.0' '5.2' '34.0'\n '57.6' '43.6' '23.4' '37.4' '9.4' '7.9' '35.9' '21.6' '4.7' '12.0' '8.7'\n '17.8' '18.8' '19.0' '3.6' '4.3' '15.6' '15.0' '31.9' '21.5' '28.9'\n '38.5' '109.3' '35.8' '16.4' '29.2' '27.7' '44.6' '41.5' '37.8' '24.5'\n '28.1' '32.9' '45.0' '39.6' '8.6' '26.5' '11.9' '23.3' '7.5' '22.4' '8.4'\n '14.5' '22.8' '29.8' '0.8' '99.3' '95.4' '29.1' '9.3' '13.3' '19.9' '6.2'\n '14.4' '11.3' '25.0' '6.8' '10.0' '7.0' '11.4' '17.2' '5.7' '35.6' '69.2'\n '52.1' '25.3' '24.2' '15.8' '24.9' '16.5' '20.1' '43.8' '25.6' '90.3'\n '45.9' '52.2' '9.2' '13.0' '15.7' '17.7' '28.2' '16.0' '33.5' '44.2'\n '17.4' '31.5' '0.4' '0.5' '45.1' '20.6' '19.4' '25.9' '19.1' '21.3'\n '40.2' '23.5' '24.3' '26.6' '8.0' '30.0' '16.8' '9.7' '23.9' '15.3'\n '103.1' '18.9' '13.1' '13.2' '26.2' '11.7' '20.0' '34.4' '23.7' '58.8'\n '103.2' '17.0' '22.6' '17.9' '26.3' '51.3' '37.1' '11.6' '29.3' '10.5'\n '24.8' '43.5' '17.6' '14.1' '13.7' '18.5' '27.2' '49.7' '30.3' '126.8'\n '33.4' '21.0' '15.9' '34.3' '12.8' '30.4' '15.2' '56.5' '1.3' '75.0'\n '41.6' '44.1' '33.2' '30.2' '6.1' '9.5' '19.3' '21.1' '47.3' '95.7'\n '47.5' '26.7' '39.8' '33.8' '55.2' '41.9' '68.8' '20.9' '20.4' '55.3'\n '65.0' '60.2' '32.8' '2.8' '27.5' '25.7' '8.2' '95.6' '1.1' '47.6'\n '126.6' '28.7' '50.2' '56.1' '56.9' '7.4' '26.1' '31.2' '36.4' '42.9'\n '27.4' '61.6' '38.6' '55.6' '46.2' '50.9' '21.4' '12.7' '0.2' '79.2'\n '21.9' '74.0' '47.0' '36.2' '34.2' '30.8' '41.1' '43.2' '49.5' '23.8'\n '21.2' '13.4' '10.6' '29.6' '32.5' '34.9' '33.9' '121.9' '103.5' '42.4'\n '16.2' '38.1' '52.4' '65.9' '57.0' '0.7' '47.7' '44.5' '25.4' '25.5'\n '46.0' '77.4' '29.7' '50.3' '33.0' '32.1' '35.5' '18.3' '24.6' '31.8'\n '80.3' '46.7' '46.6' '15.4' '57.1' '38.7' '37.0' '32.0' '4.5' '24.4'\n '24.7' '92.2' '0.9' '2.6' '8.1' '26.9' '54.8' '49.8' '51.8' '48.5' '33.3'\n '16.7' '42.8' '38.9' '56.4' '37.9' '40.3' '19.6' '23.2' '37.6' '56.6'\n '30.5' '53.4' '52.9' '43.0' '17.1' '41.2' '30.9' '6.3' '49.2' '53.1'\n '18.0' '32.7' '5.6' '14.9' '36.0' '107.5' '5.5' '20.5' '12.2' '22.1'\n '0.3' '74.9' '17.3' '11.2' '66.1' '40.4' '30.1' '45.2' '14.3' '27.3'\n '33.7' '24.1' '2.9' '18.4' '32.2' '42.6' '42.7' '34.5' '48.1' '31.1'\n '31.4' '42.5' '29.0' '48.6' '32.6' '58.4' '37.7' '70.9' '7.3' '18.6'\n '28.8' '41.0' '0.1' '41.7' '55.9' '49.6' '35.2' '10.4' '13.8' '10.7'\n '90.2' '1.5' '47.2' '61.1' '15.5' '3.8' '42.1' '18.1' '76.0' '59.1'\n '10.1' '2.5' '22.9' '53.2' '63.0' '40.6' '28.5' '12.5' '41.8' '31.7'\n '28.4' '37.3' '39.3' '50.8' '3.7' '39.7' '36.1' '93.3' '64.6' '50.5'\n '34.1' '57.9' '72.9' '151.5' '36.3' '11.1' '5.4' '58.1' '50.0' '25.8'\n '95.9' '35.1' '73.4' '28.0' '53.8' '23.6' '99.5' '112.6' '22.2' '2.2'\n '61.7' '32.4' '39.5' '51.5' '34.8' '23.1' '35.7' '29.4' '22.0' '37.5'\n '110.5' '36.8' '85.8' '31.0' '44.9' '38.3' '26.0' '34.6' '72.3' '27.1'\n '37.2' '1.8' '55.7' '71.7' '150.8' '14.8' '30.6' '52.3' '54.0' '45.6'\n '40.8' '12.6' '81.1' '45.5' '25.2' '76.6' '151.0' '15.1' '74.2' '54.9'\n '40.0' '48.0' '39.2' '74.3' '40.5' '54.6' '44.4' '47.4' '36.7' '0.6'\n '80.5' '45.7' '87.0' '45.8' '90.6' '52.6' '66.2' '52.7' '57.4' '72.0'\n '150.9' '50.7' '35.4' '20.3' '72.5' '151.4' '73.6' '26.8' '19.7' '59.9'\n '75.9' '7.2' '26.4' '43.4' '55.0' '38.0' '46.8' '76.2' '42.2' '90.1'\n '46.5' '36.9' '46.3' '115.9' '44.8' '54.3' '45.3' '41.4' '58.0' '86.9']\nPAYANN_S_F [None 'S' 'D']\nRCPSZFI ['001' '511' '518' '519' '521' '522' '523' '525' '531' '532']\nYIBSZFI ['311' '318' '319' '321' '322' '323' '001']\nus ['1']\n"
     ]
    }
   ],
   "source": [
    "for column in comp_summary_df:\n",
    "    print(column, comp_summary_df[column].unique())"
   ]
  },
  {
   "cell_type": "code",
   "execution_count": 14,
   "metadata": {},
   "outputs": [
    {
     "output_type": "execute_result",
     "data": {
      "text/plain": [
       "           OWNCHAR_LABEL                 OWNER_VET_LABEL QDESC_LABEL  \\\n",
       "58612    Total reporting  All owners of respondent firms    YRACQBUS   \n",
       "58613  Item not reported  All owners of respondent firms    YRACQBUS   \n",
       "58614        Before 1980  All owners of respondent firms    YRACQBUS   \n",
       "58615       1980 to 1989  All owners of respondent firms    YRACQBUS   \n",
       "58616       1990 to 1999  All owners of respondent firms    YRACQBUS   \n",
       "\n",
       "                OWNER_RACE_LABEL                 OWNER_ETH_LABEL  \\\n",
       "58612                      White  All owners of respondent firms   \n",
       "58613                      White  All owners of respondent firms   \n",
       "58614  Black or African American  All owners of respondent firms   \n",
       "58615  Black or African American  All owners of respondent firms   \n",
       "58616  Black or African American  All owners of respondent firms   \n",
       "\n",
       "                      OWNER_SEX_LABEL  \\\n",
       "58612                            Male   \n",
       "58613                            Male   \n",
       "58614  All owners of respondent firms   \n",
       "58615  All owners of respondent firms   \n",
       "58616  All owners of respondent firms   \n",
       "\n",
       "                                        NAICS2017_LABEL OWNPDEMP OWNPDEMP_F  \\\n",
       "58612  Professional, scientific, and technical services   416348       None   \n",
       "58613  Professional, scientific, and technical services    16319       None   \n",
       "58614  Professional, scientific, and technical services       79       None   \n",
       "58615  Professional, scientific, and technical services      689       None   \n",
       "58616  Professional, scientific, and technical services     1667       None   \n",
       "\n",
       "      OWNPDEMP_PCT OWNPDEMP_S OWNPDEMP_PCT_S  \n",
       "58612        100.0        0.9            0.0  \n",
       "58613          0.0        3.3            0.0  \n",
       "58614          0.7       32.5            0.2  \n",
       "58615          5.8       15.1            0.9  \n",
       "58616         13.9       12.7            1.6  "
      ],
      "text/html": "<div>\n<style scoped>\n    .dataframe tbody tr th:only-of-type {\n        vertical-align: middle;\n    }\n\n    .dataframe tbody tr th {\n        vertical-align: top;\n    }\n\n    .dataframe thead th {\n        text-align: right;\n    }\n</style>\n<table border=\"1\" class=\"dataframe\">\n  <thead>\n    <tr style=\"text-align: right;\">\n      <th></th>\n      <th>OWNCHAR_LABEL</th>\n      <th>OWNER_VET_LABEL</th>\n      <th>QDESC_LABEL</th>\n      <th>OWNER_RACE_LABEL</th>\n      <th>OWNER_ETH_LABEL</th>\n      <th>OWNER_SEX_LABEL</th>\n      <th>NAICS2017_LABEL</th>\n      <th>OWNPDEMP</th>\n      <th>OWNPDEMP_F</th>\n      <th>OWNPDEMP_PCT</th>\n      <th>OWNPDEMP_S</th>\n      <th>OWNPDEMP_PCT_S</th>\n    </tr>\n  </thead>\n  <tbody>\n    <tr>\n      <th>58612</th>\n      <td>Total reporting</td>\n      <td>All owners of respondent firms</td>\n      <td>YRACQBUS</td>\n      <td>White</td>\n      <td>All owners of respondent firms</td>\n      <td>Male</td>\n      <td>Professional, scientific, and technical services</td>\n      <td>416348</td>\n      <td>None</td>\n      <td>100.0</td>\n      <td>0.9</td>\n      <td>0.0</td>\n    </tr>\n    <tr>\n      <th>58613</th>\n      <td>Item not reported</td>\n      <td>All owners of respondent firms</td>\n      <td>YRACQBUS</td>\n      <td>White</td>\n      <td>All owners of respondent firms</td>\n      <td>Male</td>\n      <td>Professional, scientific, and technical services</td>\n      <td>16319</td>\n      <td>None</td>\n      <td>0.0</td>\n      <td>3.3</td>\n      <td>0.0</td>\n    </tr>\n    <tr>\n      <th>58614</th>\n      <td>Before 1980</td>\n      <td>All owners of respondent firms</td>\n      <td>YRACQBUS</td>\n      <td>Black or African American</td>\n      <td>All owners of respondent firms</td>\n      <td>All owners of respondent firms</td>\n      <td>Professional, scientific, and technical services</td>\n      <td>79</td>\n      <td>None</td>\n      <td>0.7</td>\n      <td>32.5</td>\n      <td>0.2</td>\n    </tr>\n    <tr>\n      <th>58615</th>\n      <td>1980 to 1989</td>\n      <td>All owners of respondent firms</td>\n      <td>YRACQBUS</td>\n      <td>Black or African American</td>\n      <td>All owners of respondent firms</td>\n      <td>All owners of respondent firms</td>\n      <td>Professional, scientific, and technical services</td>\n      <td>689</td>\n      <td>None</td>\n      <td>5.8</td>\n      <td>15.1</td>\n      <td>0.9</td>\n    </tr>\n    <tr>\n      <th>58616</th>\n      <td>1990 to 1999</td>\n      <td>All owners of respondent firms</td>\n      <td>YRACQBUS</td>\n      <td>Black or African American</td>\n      <td>All owners of respondent firms</td>\n      <td>All owners of respondent firms</td>\n      <td>Professional, scientific, and technical services</td>\n      <td>1667</td>\n      <td>None</td>\n      <td>13.9</td>\n      <td>12.7</td>\n      <td>1.6</td>\n    </tr>\n  </tbody>\n</table>\n</div>"
     },
     "metadata": {},
     "execution_count": 14
    }
   ],
   "source": [
    "technical_fields_owners_df = owner_char_df[['OWNCHAR_LABEL', 'OWNER_VET_LABEL', 'QDESC_LABEL','OWNER_RACE_LABEL', 'OWNER_ETH_LABEL', 'OWNER_SEX_LABEL','NAICS2017_LABEL', 'OWNPDEMP', 'OWNPDEMP_F', 'OWNPDEMP_PCT','OWNPDEMP_S','OWNPDEMP_PCT_S']]\n",
    "\n",
    "technical_fields_owners_df.head()"
   ]
  },
  {
   "cell_type": "code",
   "execution_count": 15,
   "metadata": {},
   "outputs": [
    {
     "output_type": "stream",
     "name": "stderr",
     "text": [
      "<ipython-input-15-b27855247916>:1: SettingWithCopyWarning: \nA value is trying to be set on a copy of a slice from a DataFrame.\nTry using .loc[row_indexer,col_indexer] = value instead\n\nSee the caveats in the documentation: https://pandas.pydata.org/pandas-docs/stable/user_guide/indexing.html#returning-a-view-versus-a-copy\n  technical_fields_owners_df['OWNPDEMP'] = technical_fields_owners_df['OWNPDEMP'].astype(int)\n"
     ]
    },
    {
     "output_type": "display_data",
     "data": {
      "application/vnd.plotly.v1+json": {
       "config": {
        "plotlyServerURL": "https://plot.ly"
       },
       "data": [
        {
         "alignmentgroup": "True",
         "bingroup": "x",
         "histfunc": "sum",
         "hovertemplate": "Gender=Male<br>Minority Status=%{x}<br>sum of owners of respondent employer firms=%{y}<extra></extra>",
         "legendgroup": "Male",
         "marker": {
          "color": "blue",
          "pattern": {
           "shape": ""
          }
         },
         "name": "Male",
         "offsetgroup": "Male",
         "orientation": "v",
         "showlegend": true,
         "type": "histogram",
         "x": [
          "Minority",
          "Minority",
          "Minority",
          "Minority",
          "Minority",
          "Minority",
          "Minority",
          "Minority",
          "Minority",
          "Minority",
          "Nonminority",
          "Nonminority",
          "Nonminority",
          "Nonminority",
          "Nonminority",
          "Nonminority",
          "Nonminority",
          "Nonminority",
          "Nonminority",
          "Nonminority",
          "Minority",
          "Minority",
          "Minority",
          "Minority",
          "Minority",
          "Minority",
          "Minority",
          "Minority",
          "Minority",
          "Minority",
          "Minority",
          "Minority",
          "Minority",
          "Minority",
          "Minority",
          "Minority",
          "Minority",
          "Minority",
          "Minority",
          "Minority",
          "Minority",
          "Minority",
          "Minority",
          "Minority",
          "Minority",
          "Minority",
          "Minority",
          "Minority",
          "Minority",
          "Minority",
          "Nonminority",
          "Nonminority",
          "Nonminority",
          "Nonminority",
          "Nonminority",
          "Nonminority",
          "Minority",
          "Minority",
          "Minority",
          "Minority",
          "Nonminority",
          "Nonminority",
          "Nonminority",
          "Nonminority",
          "Nonminority",
          "Nonminority",
          "Nonminority",
          "Nonminority",
          "Nonminority",
          "Minority",
          "Minority",
          "Minority",
          "Minority",
          "Minority",
          "Minority",
          "Minority",
          "Minority",
          "Nonminority",
          "Nonminority",
          "Nonminority",
          "Nonminority",
          "Nonminority",
          "Nonminority",
          "Nonminority",
          "Nonminority",
          "Nonminority",
          "Nonminority",
          "Nonminority",
          "Nonminority",
          "Nonminority",
          "Nonminority",
          "Nonminority",
          "Nonminority",
          "Nonminority",
          "Nonminority",
          "Nonminority",
          "Nonminority",
          "Nonminority",
          "Nonminority",
          "Nonminority",
          "Minority",
          "Minority",
          "Minority",
          "Minority",
          "Nonminority",
          "Nonminority",
          "Nonminority",
          "Nonminority",
          "Minority",
          "Minority",
          "Minority",
          "Minority",
          "Minority",
          "Minority",
          "Minority",
          "Minority",
          "Minority",
          "Minority",
          "Minority",
          "Minority",
          "Minority",
          "Minority",
          "Minority",
          "Minority",
          "Minority",
          "Minority",
          "Minority",
          "Minority",
          "Minority",
          "Minority",
          "Minority",
          "Minority",
          "Minority",
          "Minority",
          "Minority",
          "Minority",
          "Minority",
          "Minority",
          "Minority",
          "Minority",
          "Minority",
          "Minority",
          "Minority",
          "Minority",
          "Minority",
          "Minority",
          "Minority",
          "Minority",
          "Minority",
          "Minority",
          "Nonminority",
          "Nonminority",
          "Nonminority",
          "Nonminority",
          "Nonminority",
          "Nonminority",
          "Nonminority",
          "Nonminority",
          "Nonminority",
          "Nonminority",
          "Nonminority",
          "Nonminority",
          "Nonminority",
          "Nonminority",
          "Nonminority",
          "Nonminority",
          "Nonminority",
          "Nonminority",
          "Nonminority",
          "Nonminority",
          "Nonminority",
          "Nonminority",
          "Nonminority",
          "Nonminority",
          "Nonminority",
          "Nonminority",
          "Nonminority",
          "Nonminority",
          "Nonminority",
          "Nonminority",
          "Nonminority",
          "Nonminority",
          "Nonminority",
          "Nonminority",
          "Nonminority",
          "Nonminority",
          "Nonminority",
          "Nonminority",
          "Nonminority",
          "Nonminority",
          "Nonminority",
          "Nonminority",
          "Nonminority",
          "Nonminority",
          "Nonminority",
          "Nonminority",
          "Minority",
          "Minority",
          "Minority",
          "Minority",
          "Minority",
          "Minority",
          "Minority",
          "Minority",
          "Nonminority",
          "Nonminority",
          "Nonminority",
          "Nonminority",
          "Nonminority",
          "Nonminority",
          "Nonminority",
          "Nonminority"
         ],
         "xaxis": "x",
         "y": [
          746,
          2687,
          6982,
          429,
          13507,
          12043,
          17754,
          5247,
          59391,
          1910,
          14600,
          37441,
          65347,
          81956,
          63063,
          79633,
          3689,
          48563,
          394288,
          15561,
          1492,
          902,
          12223,
          182,
          3304,
          12074,
          1595,
          453,
          364,
          2218,
          1928,
          272,
          9275,
          1902,
          48,
          374,
          11655,
          49817,
          11437,
          487,
          1929,
          900,
          4372,
          1533,
          19961,
          16694,
          2582,
          10629,
          59085,
          2216,
          1174,
          16000,
          6534,
          28371,
          11007,
          145787,
          14179,
          45362,
          59542,
          1759,
          58399,
          12552,
          112856,
          392677,
          17170,
          316797,
          79098,
          395896,
          13952,
          516,
          3147,
          14268,
          19819,
          14198,
          7583,
          59530,
          1772,
          559,
          15429,
          59519,
          98357,
          122549,
          100080,
          396490,
          13356,
          2103,
          26452,
          45227,
          9010,
          1571,
          17007,
          21490,
          3448,
          50306,
          13391,
          2115,
          128288,
          328680,
          914,
          80256,
          24216,
          35312,
          59527,
          1774,
          370112,
          26321,
          396432,
          13414,
          4973,
          14578,
          39650,
          8071,
          16947,
          34098,
          6602,
          17230,
          35138,
          3900,
          15186,
          39651,
          5095,
          14724,
          39337,
          44313,
          9406,
          4848,
          16700,
          23469,
          18935,
          8167,
          17240,
          17148,
          33258,
          27071,
          14715,
          46508,
          4533,
          5924,
          45106,
          8567,
          5221,
          20713,
          22097,
          15860,
          59248,
          2053,
          54007,
          5524,
          59529,
          1772,
          30094,
          93478,
          270595,
          391767,
          4750,
          396516,
          13330,
          56214,
          116581,
          220499,
          48075,
          124539,
          219811,
          28719,
          104794,
          237095,
          256440,
          39837,
          116106,
          318983,
          47559,
          22148,
          103186,
          159208,
          130258,
          83505,
          137034,
          168466,
          204564,
          104847,
          83219,
          327402,
          24491,
          27563,
          12894,
          4143,
          24824,
          2643,
          318980,
          38743,
          33577,
          188058,
          133559,
          68100,
          395387,
          14460,
          17532,
          36505,
          2688,
          314,
          329,
          2034,
          59398,
          1903,
          20661,
          119827,
          231364,
          3544,
          2945,
          16450,
          394790,
          15056
         ],
         "yaxis": "y"
        },
        {
         "alignmentgroup": "True",
         "bingroup": "x",
         "histfunc": "sum",
         "hovertemplate": "Gender=Female<br>Minority Status=%{x}<br>sum of owners of respondent employer firms=%{y}<extra></extra>",
         "legendgroup": "Female",
         "marker": {
          "color": "red",
          "pattern": {
           "shape": ""
          }
         },
         "name": "Female",
         "offsetgroup": "Female",
         "orientation": "v",
         "showlegend": true,
         "type": "histogram",
         "x": [
          "Nonminority",
          "Nonminority",
          "Nonminority",
          "Nonminority",
          "Nonminority",
          "Nonminority",
          "Nonminority",
          "Nonminority",
          "Nonminority",
          "Nonminority",
          "Minority",
          "Minority",
          "Minority",
          "Minority",
          "Minority",
          "Minority",
          "Minority",
          "Minority",
          "Minority",
          "Minority",
          "Minority",
          "Minority",
          "Minority",
          "Minority",
          "Minority",
          "Minority",
          "Minority",
          "Minority",
          "Minority",
          "Minority",
          "Minority",
          "Minority",
          "Minority",
          "Minority",
          "Minority",
          "Minority",
          "Minority",
          "Minority",
          "Minority",
          "Minority",
          "Nonminority",
          "Nonminority",
          "Nonminority",
          "Nonminority",
          "Nonminority",
          "Nonminority",
          "Nonminority",
          "Nonminority",
          "Nonminority",
          "Nonminority",
          "Nonminority",
          "Minority",
          "Minority",
          "Minority",
          "Minority",
          "Nonminority",
          "Nonminority",
          "Nonminority",
          "Nonminority",
          "Minority",
          "Minority",
          "Minority",
          "Minority",
          "Minority",
          "Minority",
          "Minority",
          "Minority",
          "Minority",
          "Minority",
          "Minority",
          "Minority",
          "Minority",
          "Minority",
          "Minority",
          "Minority",
          "Minority",
          "Minority",
          "Nonminority",
          "Nonminority",
          "Nonminority",
          "Nonminority",
          "Nonminority",
          "Nonminority",
          "Nonminority",
          "Nonminority",
          "Minority",
          "Minority",
          "Minority",
          "Minority",
          "Nonminority",
          "Nonminority",
          "Nonminority",
          "Nonminority",
          "Minority",
          "Minority",
          "Minority",
          "Minority",
          "Minority",
          "Minority",
          "Minority",
          "Minority",
          "Minority",
          "Minority",
          "Minority",
          "Minority",
          "Minority",
          "Minority",
          "Minority",
          "Minority",
          "Minority",
          "Minority",
          "Minority",
          "Minority",
          "Minority",
          "Minority",
          "Minority",
          "Minority",
          "Minority",
          "Minority",
          "Minority",
          "Minority",
          "Minority",
          "Minority",
          "Minority",
          "Minority",
          "Minority",
          "Minority",
          "Minority",
          "Minority",
          "Minority",
          "Minority",
          "Nonminority",
          "Nonminority",
          "Nonminority",
          "Nonminority",
          "Nonminority",
          "Nonminority",
          "Nonminority",
          "Nonminority",
          "Nonminority",
          "Nonminority",
          "Nonminority",
          "Nonminority",
          "Nonminority",
          "Nonminority",
          "Nonminority",
          "Minority",
          "Minority",
          "Minority",
          "Minority",
          "Nonminority",
          "Nonminority",
          "Nonminority",
          "Nonminority",
          "Nonminority",
          "Nonminority",
          "Nonminority",
          "Nonminority",
          "Nonminority",
          "Nonminority",
          "Nonminority",
          "Nonminority",
          "Nonminority",
          "Nonminority",
          "Nonminority",
          "Nonminority",
          "Nonminority",
          "Nonminority",
          "Nonminority",
          "Nonminority",
          "Nonminority",
          "Nonminority",
          "Nonminority",
          "Nonminority",
          "Nonminority",
          "Nonminority",
          "Nonminority",
          "Nonminority",
          "Nonminority",
          "Nonminority",
          "Nonminority",
          "Nonminority",
          "Nonminority",
          "Nonminority",
          "Nonminority",
          "Nonminority",
          "Nonminority",
          "Nonminority",
          "Nonminority",
          "Nonminority",
          "Nonminority",
          "Nonminority",
          "Nonminority",
          "Nonminority",
          "Nonminority",
          "Nonminority",
          "Minority",
          "Minority",
          "Minority",
          "Minority",
          "Minority",
          "Minority",
          "Minority",
          "Minority",
          "Nonminority",
          "Nonminority",
          "Nonminority",
          "Nonminority",
          "Nonminority",
          "Nonminority",
          "Nonminority",
          "Nonminority"
         ],
         "xaxis": "x",
         "y": [
          2354,
          10672,
          26596,
          36358,
          29178,
          36523,
          2237,
          17002,
          160922,
          4980,
          1387,
          477,
          3895,
          49,
          2746,
          2414,
          1419,
          93,
          230,
          955,
          2723,
          867,
          5243,
          1154,
          397,
          8106,
          27728,
          74,
          7853,
          180,
          1396,
          553,
          3339,
          1227,
          13211,
          8130,
          743,
          5719,
          34498,
          1157,
          10839,
          576,
          2630,
          17831,
          8513,
          60165,
          23841,
          3850,
          32410,
          160655,
          5246,
          24219,
          10378,
          34597,
          1058,
          121012,
          40094,
          161105,
          4797,
          245,
          736,
          3319,
          8291,
          7516,
          11197,
          598,
          2601,
          34504,
          1150,
          310,
          2538,
          9783,
          12136,
          6910,
          2918,
          34596,
          1058,
          457,
          6512,
          27839,
          26176,
          48334,
          52144,
          161460,
          4441,
          13614,
          20952,
          34567,
          1088,
          151712,
          9835,
          161546,
          4356,
          4768,
          10428,
          19282,
          3446,
          8282,
          22705,
          3006,
          8066,
          23237,
          3533,
          11084,
          19761,
          4525,
          11344,
          18635,
          25163,
          6380,
          2790,
          11874,
          13869,
          15127,
          8707,
          7904,
          11246,
          15038,
          2793,
          10144,
          9267,
          27541,
          3105,
          24988,
          5372,
          4059,
          11427,
          12908,
          10013,
          34537,
          1118,
          24850,
          41558,
          94520,
          20433,
          37951,
          102417,
          21483,
          37792,
          101140,
          22101,
          47856,
          48347,
          89216,
          28881,
          83927,
          31410,
          3135,
          34544,
          1111,
          135306,
          59605,
          16740,
          7380,
          58691,
          42242,
          58796,
          51210,
          49312,
          88338,
          39106,
          33039,
          135905,
          8027,
          12172,
          133700,
          14292,
          11975,
          79886,
          49954,
          29899,
          161202,
          4699,
          159860,
          1665,
          161524,
          4378,
          6617,
          1338,
          4805,
          484,
          8661,
          3517,
          7998,
          291,
          984,
          5232,
          6741,
          16295,
          7048,
          18112,
          2821,
          41388,
          120068,
          198,
          45636,
          11849,
          20164,
          904,
          57,
          166,
          1408,
          34548,
          1107,
          53122,
          92553,
          6785,
          1002,
          820,
          6520,
          160804,
          5098
         ],
         "yaxis": "y"
        }
       ],
       "layout": {
        "barmode": "group",
        "legend": {
         "title": {
          "text": "Gender"
         },
         "tracegroupgap": 0
        },
        "template": {
         "data": {
          "bar": [
           {
            "error_x": {
             "color": "#2a3f5f"
            },
            "error_y": {
             "color": "#2a3f5f"
            },
            "marker": {
             "line": {
              "color": "#E5ECF6",
              "width": 0.5
             },
             "pattern": {
              "fillmode": "overlay",
              "size": 10,
              "solidity": 0.2
             }
            },
            "type": "bar"
           }
          ],
          "barpolar": [
           {
            "marker": {
             "line": {
              "color": "#E5ECF6",
              "width": 0.5
             },
             "pattern": {
              "fillmode": "overlay",
              "size": 10,
              "solidity": 0.2
             }
            },
            "type": "barpolar"
           }
          ],
          "carpet": [
           {
            "aaxis": {
             "endlinecolor": "#2a3f5f",
             "gridcolor": "white",
             "linecolor": "white",
             "minorgridcolor": "white",
             "startlinecolor": "#2a3f5f"
            },
            "baxis": {
             "endlinecolor": "#2a3f5f",
             "gridcolor": "white",
             "linecolor": "white",
             "minorgridcolor": "white",
             "startlinecolor": "#2a3f5f"
            },
            "type": "carpet"
           }
          ],
          "choropleth": [
           {
            "colorbar": {
             "outlinewidth": 0,
             "ticks": ""
            },
            "type": "choropleth"
           }
          ],
          "contour": [
           {
            "colorbar": {
             "outlinewidth": 0,
             "ticks": ""
            },
            "colorscale": [
             [
              0,
              "#0d0887"
             ],
             [
              0.1111111111111111,
              "#46039f"
             ],
             [
              0.2222222222222222,
              "#7201a8"
             ],
             [
              0.3333333333333333,
              "#9c179e"
             ],
             [
              0.4444444444444444,
              "#bd3786"
             ],
             [
              0.5555555555555556,
              "#d8576b"
             ],
             [
              0.6666666666666666,
              "#ed7953"
             ],
             [
              0.7777777777777778,
              "#fb9f3a"
             ],
             [
              0.8888888888888888,
              "#fdca26"
             ],
             [
              1,
              "#f0f921"
             ]
            ],
            "type": "contour"
           }
          ],
          "contourcarpet": [
           {
            "colorbar": {
             "outlinewidth": 0,
             "ticks": ""
            },
            "type": "contourcarpet"
           }
          ],
          "heatmap": [
           {
            "colorbar": {
             "outlinewidth": 0,
             "ticks": ""
            },
            "colorscale": [
             [
              0,
              "#0d0887"
             ],
             [
              0.1111111111111111,
              "#46039f"
             ],
             [
              0.2222222222222222,
              "#7201a8"
             ],
             [
              0.3333333333333333,
              "#9c179e"
             ],
             [
              0.4444444444444444,
              "#bd3786"
             ],
             [
              0.5555555555555556,
              "#d8576b"
             ],
             [
              0.6666666666666666,
              "#ed7953"
             ],
             [
              0.7777777777777778,
              "#fb9f3a"
             ],
             [
              0.8888888888888888,
              "#fdca26"
             ],
             [
              1,
              "#f0f921"
             ]
            ],
            "type": "heatmap"
           }
          ],
          "heatmapgl": [
           {
            "colorbar": {
             "outlinewidth": 0,
             "ticks": ""
            },
            "colorscale": [
             [
              0,
              "#0d0887"
             ],
             [
              0.1111111111111111,
              "#46039f"
             ],
             [
              0.2222222222222222,
              "#7201a8"
             ],
             [
              0.3333333333333333,
              "#9c179e"
             ],
             [
              0.4444444444444444,
              "#bd3786"
             ],
             [
              0.5555555555555556,
              "#d8576b"
             ],
             [
              0.6666666666666666,
              "#ed7953"
             ],
             [
              0.7777777777777778,
              "#fb9f3a"
             ],
             [
              0.8888888888888888,
              "#fdca26"
             ],
             [
              1,
              "#f0f921"
             ]
            ],
            "type": "heatmapgl"
           }
          ],
          "histogram": [
           {
            "marker": {
             "pattern": {
              "fillmode": "overlay",
              "size": 10,
              "solidity": 0.2
             }
            },
            "type": "histogram"
           }
          ],
          "histogram2d": [
           {
            "colorbar": {
             "outlinewidth": 0,
             "ticks": ""
            },
            "colorscale": [
             [
              0,
              "#0d0887"
             ],
             [
              0.1111111111111111,
              "#46039f"
             ],
             [
              0.2222222222222222,
              "#7201a8"
             ],
             [
              0.3333333333333333,
              "#9c179e"
             ],
             [
              0.4444444444444444,
              "#bd3786"
             ],
             [
              0.5555555555555556,
              "#d8576b"
             ],
             [
              0.6666666666666666,
              "#ed7953"
             ],
             [
              0.7777777777777778,
              "#fb9f3a"
             ],
             [
              0.8888888888888888,
              "#fdca26"
             ],
             [
              1,
              "#f0f921"
             ]
            ],
            "type": "histogram2d"
           }
          ],
          "histogram2dcontour": [
           {
            "colorbar": {
             "outlinewidth": 0,
             "ticks": ""
            },
            "colorscale": [
             [
              0,
              "#0d0887"
             ],
             [
              0.1111111111111111,
              "#46039f"
             ],
             [
              0.2222222222222222,
              "#7201a8"
             ],
             [
              0.3333333333333333,
              "#9c179e"
             ],
             [
              0.4444444444444444,
              "#bd3786"
             ],
             [
              0.5555555555555556,
              "#d8576b"
             ],
             [
              0.6666666666666666,
              "#ed7953"
             ],
             [
              0.7777777777777778,
              "#fb9f3a"
             ],
             [
              0.8888888888888888,
              "#fdca26"
             ],
             [
              1,
              "#f0f921"
             ]
            ],
            "type": "histogram2dcontour"
           }
          ],
          "mesh3d": [
           {
            "colorbar": {
             "outlinewidth": 0,
             "ticks": ""
            },
            "type": "mesh3d"
           }
          ],
          "parcoords": [
           {
            "line": {
             "colorbar": {
              "outlinewidth": 0,
              "ticks": ""
             }
            },
            "type": "parcoords"
           }
          ],
          "pie": [
           {
            "automargin": true,
            "type": "pie"
           }
          ],
          "scatter": [
           {
            "marker": {
             "colorbar": {
              "outlinewidth": 0,
              "ticks": ""
             }
            },
            "type": "scatter"
           }
          ],
          "scatter3d": [
           {
            "line": {
             "colorbar": {
              "outlinewidth": 0,
              "ticks": ""
             }
            },
            "marker": {
             "colorbar": {
              "outlinewidth": 0,
              "ticks": ""
             }
            },
            "type": "scatter3d"
           }
          ],
          "scattercarpet": [
           {
            "marker": {
             "colorbar": {
              "outlinewidth": 0,
              "ticks": ""
             }
            },
            "type": "scattercarpet"
           }
          ],
          "scattergeo": [
           {
            "marker": {
             "colorbar": {
              "outlinewidth": 0,
              "ticks": ""
             }
            },
            "type": "scattergeo"
           }
          ],
          "scattergl": [
           {
            "marker": {
             "colorbar": {
              "outlinewidth": 0,
              "ticks": ""
             }
            },
            "type": "scattergl"
           }
          ],
          "scattermapbox": [
           {
            "marker": {
             "colorbar": {
              "outlinewidth": 0,
              "ticks": ""
             }
            },
            "type": "scattermapbox"
           }
          ],
          "scatterpolar": [
           {
            "marker": {
             "colorbar": {
              "outlinewidth": 0,
              "ticks": ""
             }
            },
            "type": "scatterpolar"
           }
          ],
          "scatterpolargl": [
           {
            "marker": {
             "colorbar": {
              "outlinewidth": 0,
              "ticks": ""
             }
            },
            "type": "scatterpolargl"
           }
          ],
          "scatterternary": [
           {
            "marker": {
             "colorbar": {
              "outlinewidth": 0,
              "ticks": ""
             }
            },
            "type": "scatterternary"
           }
          ],
          "surface": [
           {
            "colorbar": {
             "outlinewidth": 0,
             "ticks": ""
            },
            "colorscale": [
             [
              0,
              "#0d0887"
             ],
             [
              0.1111111111111111,
              "#46039f"
             ],
             [
              0.2222222222222222,
              "#7201a8"
             ],
             [
              0.3333333333333333,
              "#9c179e"
             ],
             [
              0.4444444444444444,
              "#bd3786"
             ],
             [
              0.5555555555555556,
              "#d8576b"
             ],
             [
              0.6666666666666666,
              "#ed7953"
             ],
             [
              0.7777777777777778,
              "#fb9f3a"
             ],
             [
              0.8888888888888888,
              "#fdca26"
             ],
             [
              1,
              "#f0f921"
             ]
            ],
            "type": "surface"
           }
          ],
          "table": [
           {
            "cells": {
             "fill": {
              "color": "#EBF0F8"
             },
             "line": {
              "color": "white"
             }
            },
            "header": {
             "fill": {
              "color": "#C8D4E3"
             },
             "line": {
              "color": "white"
             }
            },
            "type": "table"
           }
          ]
         },
         "layout": {
          "annotationdefaults": {
           "arrowcolor": "#2a3f5f",
           "arrowhead": 0,
           "arrowwidth": 1
          },
          "autotypenumbers": "strict",
          "coloraxis": {
           "colorbar": {
            "outlinewidth": 0,
            "ticks": ""
           }
          },
          "colorscale": {
           "diverging": [
            [
             0,
             "#8e0152"
            ],
            [
             0.1,
             "#c51b7d"
            ],
            [
             0.2,
             "#de77ae"
            ],
            [
             0.3,
             "#f1b6da"
            ],
            [
             0.4,
             "#fde0ef"
            ],
            [
             0.5,
             "#f7f7f7"
            ],
            [
             0.6,
             "#e6f5d0"
            ],
            [
             0.7,
             "#b8e186"
            ],
            [
             0.8,
             "#7fbc41"
            ],
            [
             0.9,
             "#4d9221"
            ],
            [
             1,
             "#276419"
            ]
           ],
           "sequential": [
            [
             0,
             "#0d0887"
            ],
            [
             0.1111111111111111,
             "#46039f"
            ],
            [
             0.2222222222222222,
             "#7201a8"
            ],
            [
             0.3333333333333333,
             "#9c179e"
            ],
            [
             0.4444444444444444,
             "#bd3786"
            ],
            [
             0.5555555555555556,
             "#d8576b"
            ],
            [
             0.6666666666666666,
             "#ed7953"
            ],
            [
             0.7777777777777778,
             "#fb9f3a"
            ],
            [
             0.8888888888888888,
             "#fdca26"
            ],
            [
             1,
             "#f0f921"
            ]
           ],
           "sequentialminus": [
            [
             0,
             "#0d0887"
            ],
            [
             0.1111111111111111,
             "#46039f"
            ],
            [
             0.2222222222222222,
             "#7201a8"
            ],
            [
             0.3333333333333333,
             "#9c179e"
            ],
            [
             0.4444444444444444,
             "#bd3786"
            ],
            [
             0.5555555555555556,
             "#d8576b"
            ],
            [
             0.6666666666666666,
             "#ed7953"
            ],
            [
             0.7777777777777778,
             "#fb9f3a"
            ],
            [
             0.8888888888888888,
             "#fdca26"
            ],
            [
             1,
             "#f0f921"
            ]
           ]
          },
          "colorway": [
           "#636efa",
           "#EF553B",
           "#00cc96",
           "#ab63fa",
           "#FFA15A",
           "#19d3f3",
           "#FF6692",
           "#B6E880",
           "#FF97FF",
           "#FECB52"
          ],
          "font": {
           "color": "#2a3f5f"
          },
          "geo": {
           "bgcolor": "white",
           "lakecolor": "white",
           "landcolor": "#E5ECF6",
           "showlakes": true,
           "showland": true,
           "subunitcolor": "white"
          },
          "hoverlabel": {
           "align": "left"
          },
          "hovermode": "closest",
          "mapbox": {
           "style": "light"
          },
          "paper_bgcolor": "white",
          "plot_bgcolor": "#E5ECF6",
          "polar": {
           "angularaxis": {
            "gridcolor": "white",
            "linecolor": "white",
            "ticks": ""
           },
           "bgcolor": "#E5ECF6",
           "radialaxis": {
            "gridcolor": "white",
            "linecolor": "white",
            "ticks": ""
           }
          },
          "scene": {
           "xaxis": {
            "backgroundcolor": "#E5ECF6",
            "gridcolor": "white",
            "gridwidth": 2,
            "linecolor": "white",
            "showbackground": true,
            "ticks": "",
            "zerolinecolor": "white"
           },
           "yaxis": {
            "backgroundcolor": "#E5ECF6",
            "gridcolor": "white",
            "gridwidth": 2,
            "linecolor": "white",
            "showbackground": true,
            "ticks": "",
            "zerolinecolor": "white"
           },
           "zaxis": {
            "backgroundcolor": "#E5ECF6",
            "gridcolor": "white",
            "gridwidth": 2,
            "linecolor": "white",
            "showbackground": true,
            "ticks": "",
            "zerolinecolor": "white"
           }
          },
          "shapedefaults": {
           "line": {
            "color": "#2a3f5f"
           }
          },
          "ternary": {
           "aaxis": {
            "gridcolor": "white",
            "linecolor": "white",
            "ticks": ""
           },
           "baxis": {
            "gridcolor": "white",
            "linecolor": "white",
            "ticks": ""
           },
           "bgcolor": "#E5ECF6",
           "caxis": {
            "gridcolor": "white",
            "linecolor": "white",
            "ticks": ""
           }
          },
          "title": {
           "x": 0.05
          },
          "xaxis": {
           "automargin": true,
           "gridcolor": "white",
           "linecolor": "white",
           "ticks": "",
           "title": {
            "standoff": 15
           },
           "zerolinecolor": "white",
           "zerolinewidth": 2
          },
          "yaxis": {
           "automargin": true,
           "gridcolor": "white",
           "linecolor": "white",
           "ticks": "",
           "title": {
            "standoff": 15
           },
           "zerolinecolor": "white",
           "zerolinewidth": 2
          }
         }
        },
        "title": {
         "text": "Count of Owners of Firms With Technical Classification by Minority Status and Gender",
         "x": 0.5,
         "xanchor": "center",
         "y": 0.9,
         "yanchor": "top"
        },
        "width": 1000,
        "xaxis": {
         "anchor": "y",
         "domain": [
          0,
          1
         ],
         "title": {
          "text": "Minority Status"
         }
        },
        "yaxis": {
         "anchor": "x",
         "domain": [
          0,
          1
         ],
         "title": {
          "text": "sum of owners of respondent employer firms"
         }
        }
       }
      }
     },
     "metadata": {}
    }
   ],
   "source": [
    "technical_fields_owners_df['OWNPDEMP'] = technical_fields_owners_df['OWNPDEMP'].astype(int)\n",
    "technical_fields_owners_min_df = technical_fields_owners_df.copy()\n",
    "\n",
    "technical_fields_owners_min_df.drop(technical_fields_owners_min_df.index[technical_fields_owners_min_df['OWNER_RACE_LABEL'] == 'American Indian and Alaska Native'], inplace=True)\n",
    "technical_fields_owners_min_df.drop(technical_fields_owners_min_df.index[technical_fields_owners_min_df['OWNER_RACE_LABEL'] == 'White'], inplace=True)\n",
    "technical_fields_owners_min_df.drop(technical_fields_owners_min_df.index[technical_fields_owners_min_df['OWNER_RACE_LABEL'] == 'Black or African American'], inplace=True)\n",
    "technical_fields_owners_min_df.drop(technical_fields_owners_min_df.index[technical_fields_owners_min_df['OWNER_RACE_LABEL'] == 'Asian'], inplace=True)\n",
    "technical_fields_owners_min_df.drop(technical_fields_owners_min_df.index[technical_fields_owners_min_df['OWNER_RACE_LABEL'] == 'Native Hawaiian and Other Pacific Islander'], inplace=True)\n",
    "technical_fields_owners_min_df.drop(technical_fields_owners_min_df.index[technical_fields_owners_min_df['OWNER_RACE_LABEL'] == 'All owners of respondent firms'], inplace=True)\n",
    "technical_fields_owners_min_df.drop(technical_fields_owners_min_df.index[technical_fields_owners_min_df['OWNER_SEX_LABEL'] == 'All owners of respondent firms'], inplace=True)\n",
    "\n",
    "fig = px.histogram(technical_fields_owners_min_df, color='OWNER_SEX_LABEL', x='OWNER_RACE_LABEL', barmode='group', y='OWNPDEMP', title='Count of Owners of Firms With Technical Classification by Minority Status and Gender', labels={'OWNER_SEX_LABEL':'Gender', 'OWNPDEMP': 'owners of respondent employer firms', 'OWNER_RACE_LABEL':'Minority Status'}, color_discrete_map={'Male': 'blue','Female': 'red'})\n",
    "fig.update_layout(\n",
    "    title={        \n",
    "        'y':0.9,\n",
    "        'x':0.5,\n",
    "        'xanchor': 'center',\n",
    "        'yanchor': 'top'},\n",
    "    width = 1000)\n",
    "fig.show()"
   ]
  },
  {
   "cell_type": "code",
   "execution_count": 16,
   "metadata": {},
   "outputs": [
    {
     "output_type": "display_data",
     "data": {
      "application/vnd.plotly.v1+json": {
       "config": {
        "plotlyServerURL": "https://plot.ly"
       },
       "data": [
        {
         "alignmentgroup": "True",
         "bingroup": "x",
         "histfunc": "sum",
         "hovertemplate": "Gender=Male<br>Race of Owner=%{x}<br>sum of owners of respondent employer firms=%{y}<extra></extra>",
         "legendgroup": "Male",
         "marker": {
          "color": "blue",
          "pattern": {
           "shape": ""
          }
         },
         "name": "Male",
         "offsetgroup": "Male",
         "orientation": "v",
         "showlegend": true,
         "type": "histogram",
         "x": [
          "White",
          "White",
          "Black or African American",
          "Black or African American",
          "Black or African American",
          "Black or African American",
          "Black or African American",
          "Black or African American",
          "Black or African American",
          "Black or African American",
          "Black or African American",
          "Black or African American",
          "American Indian and Alaska Native",
          "White",
          "White",
          "White",
          "White",
          "White",
          "White",
          "White",
          "White",
          "White",
          "White",
          "White",
          "White",
          "Black or African American",
          "Black or African American",
          "Black or African American",
          "Black or African American",
          "Black or African American",
          "Black or African American",
          "Black or African American",
          "Native Hawaiian and Other Pacific Islander",
          "Native Hawaiian and Other Pacific Islander",
          "Native Hawaiian and Other Pacific Islander",
          "Black or African American",
          "Black or African American",
          "Black or African American",
          "Black or African American",
          "Black or African American",
          "Black or African American",
          "Black or African American",
          "Black or African American",
          "Black or African American",
          "Black or African American",
          "Black or African American",
          "Black or African American",
          "White",
          "White",
          "White",
          "White",
          "White",
          "White",
          "White",
          "White",
          "White",
          "White",
          "White",
          "American Indian and Alaska Native",
          "American Indian and Alaska Native",
          "Black or African American",
          "Black or African American",
          "Black or African American",
          "Black or African American",
          "Black or African American",
          "Black or African American",
          "Black or African American",
          "Black or African American",
          "Black or African American",
          "Black or African American",
          "American Indian and Alaska Native",
          "American Indian and Alaska Native",
          "American Indian and Alaska Native",
          "American Indian and Alaska Native",
          "American Indian and Alaska Native",
          "American Indian and Alaska Native",
          "American Indian and Alaska Native",
          "American Indian and Alaska Native",
          "American Indian and Alaska Native",
          "American Indian and Alaska Native",
          "American Indian and Alaska Native",
          "American Indian and Alaska Native",
          "American Indian and Alaska Native",
          "American Indian and Alaska Native",
          "American Indian and Alaska Native",
          "American Indian and Alaska Native",
          "Black or African American",
          "American Indian and Alaska Native",
          "American Indian and Alaska Native",
          "American Indian and Alaska Native",
          "American Indian and Alaska Native",
          "American Indian and Alaska Native",
          "American Indian and Alaska Native",
          "American Indian and Alaska Native",
          "American Indian and Alaska Native",
          "American Indian and Alaska Native",
          "American Indian and Alaska Native",
          "American Indian and Alaska Native",
          "Asian",
          "Asian",
          "Asian",
          "Asian",
          "Asian",
          "Asian",
          "Asian",
          "Asian",
          "Asian",
          "Asian",
          "Asian",
          "Asian",
          "Asian",
          "Asian",
          "Asian",
          "Asian",
          "Asian",
          "Asian",
          "Asian",
          "Asian",
          "Asian",
          "Asian",
          "Asian",
          "Asian",
          "Asian",
          "Asian",
          "Asian",
          "Asian",
          "Asian",
          "Asian",
          "Native Hawaiian and Other Pacific Islander",
          "Native Hawaiian and Other Pacific Islander",
          "Native Hawaiian and Other Pacific Islander",
          "Native Hawaiian and Other Pacific Islander",
          "Native Hawaiian and Other Pacific Islander",
          "Native Hawaiian and Other Pacific Islander",
          "Native Hawaiian and Other Pacific Islander",
          "Native Hawaiian and Other Pacific Islander",
          "Native Hawaiian and Other Pacific Islander",
          "Native Hawaiian and Other Pacific Islander",
          "Native Hawaiian and Other Pacific Islander",
          "Native Hawaiian and Other Pacific Islander",
          "Native Hawaiian and Other Pacific Islander",
          "Native Hawaiian and Other Pacific Islander",
          "Native Hawaiian and Other Pacific Islander",
          "Native Hawaiian and Other Pacific Islander",
          "Native Hawaiian and Other Pacific Islander",
          "Native Hawaiian and Other Pacific Islander",
          "Native Hawaiian and Other Pacific Islander",
          "Native Hawaiian and Other Pacific Islander",
          "Native Hawaiian and Other Pacific Islander",
          "Native Hawaiian and Other Pacific Islander",
          "Native Hawaiian and Other Pacific Islander",
          "Native Hawaiian and Other Pacific Islander",
          "Native Hawaiian and Other Pacific Islander",
          "Native Hawaiian and Other Pacific Islander",
          "White",
          "White",
          "White",
          "White",
          "Black or African American",
          "Black or African American",
          "Black or African American",
          "Black or African American",
          "American Indian and Alaska Native",
          "American Indian and Alaska Native",
          "American Indian and Alaska Native",
          "American Indian and Alaska Native",
          "Asian",
          "Asian",
          "Asian",
          "Asian",
          "American Indian and Alaska Native",
          "American Indian and Alaska Native",
          "American Indian and Alaska Native",
          "American Indian and Alaska Native",
          "American Indian and Alaska Native",
          "American Indian and Alaska Native",
          "American Indian and Alaska Native",
          "American Indian and Alaska Native",
          "American Indian and Alaska Native",
          "Native Hawaiian and Other Pacific Islander",
          "Native Hawaiian and Other Pacific Islander",
          "Native Hawaiian and Other Pacific Islander",
          "Native Hawaiian and Other Pacific Islander",
          "Asian",
          "Asian",
          "Asian",
          "Asian",
          "Asian",
          "Asian",
          "Asian",
          "Asian",
          "Asian",
          "Asian",
          "Native Hawaiian and Other Pacific Islander",
          "White",
          "White",
          "White",
          "White",
          "White",
          "White",
          "White",
          "White",
          "White",
          "White",
          "White",
          "White",
          "White",
          "Native Hawaiian and Other Pacific Islander",
          "White",
          "White",
          "Native Hawaiian and Other Pacific Islander",
          "Native Hawaiian and Other Pacific Islander",
          "Native Hawaiian and Other Pacific Islander",
          "Native Hawaiian and Other Pacific Islander",
          "Native Hawaiian and Other Pacific Islander",
          "Native Hawaiian and Other Pacific Islander",
          "Native Hawaiian and Other Pacific Islander",
          "White",
          "White",
          "White",
          "White",
          "White",
          "White",
          "White",
          "White",
          "White",
          "White",
          "White",
          "White",
          "White",
          "White",
          "White",
          "White",
          "White",
          "White",
          "White",
          "White",
          "White",
          "White",
          "White",
          "White",
          "White",
          "White",
          "White",
          "White",
          "White",
          "White",
          "White",
          "White",
          "White",
          "White",
          "White",
          "White",
          "White",
          "White",
          "White",
          "White",
          "White",
          "White",
          "White",
          "White",
          "White",
          "White",
          "Black or African American",
          "Black or African American",
          "Black or African American",
          "Black or African American",
          "Black or African American",
          "Black or African American",
          "Black or African American",
          "Black or African American",
          "American Indian and Alaska Native",
          "American Indian and Alaska Native",
          "American Indian and Alaska Native",
          "American Indian and Alaska Native",
          "American Indian and Alaska Native",
          "American Indian and Alaska Native",
          "American Indian and Alaska Native",
          "American Indian and Alaska Native",
          "Asian",
          "Asian",
          "Asian",
          "Asian",
          "Asian",
          "Asian",
          "Asian",
          "Asian",
          "Native Hawaiian and Other Pacific Islander",
          "Native Hawaiian and Other Pacific Islander",
          "Native Hawaiian and Other Pacific Islander",
          "Native Hawaiian and Other Pacific Islander",
          "Native Hawaiian and Other Pacific Islander",
          "Native Hawaiian and Other Pacific Islander",
          "Native Hawaiian and Other Pacific Islander",
          "Black or African American",
          "Black or African American",
          "Black or African American",
          "Black or African American",
          "Black or African American",
          "Black or African American",
          "Black or African American",
          "Black or African American",
          "Black or African American",
          "Black or African American",
          "Black or African American",
          "Black or African American",
          "Black or African American",
          "Black or African American",
          "Black or African American",
          "Black or African American",
          "Black or African American",
          "Black or African American",
          "Black or African American",
          "Black or African American",
          "Black or African American",
          "Black or African American",
          "Black or African American",
          "Black or African American",
          "Black or African American",
          "Black or African American",
          "Black or African American",
          "Black or African American",
          "Black or African American",
          "Black or African American",
          "Black or African American",
          "Black or African American",
          "Black or African American",
          "Black or African American",
          "Black or African American",
          "Black or African American",
          "Black or African American",
          "Black or African American",
          "American Indian and Alaska Native",
          "American Indian and Alaska Native",
          "American Indian and Alaska Native",
          "American Indian and Alaska Native",
          "American Indian and Alaska Native",
          "American Indian and Alaska Native",
          "American Indian and Alaska Native",
          "American Indian and Alaska Native",
          "American Indian and Alaska Native",
          "American Indian and Alaska Native",
          "American Indian and Alaska Native",
          "American Indian and Alaska Native",
          "American Indian and Alaska Native",
          "American Indian and Alaska Native",
          "American Indian and Alaska Native",
          "American Indian and Alaska Native",
          "American Indian and Alaska Native",
          "American Indian and Alaska Native",
          "American Indian and Alaska Native",
          "American Indian and Alaska Native",
          "American Indian and Alaska Native",
          "American Indian and Alaska Native",
          "American Indian and Alaska Native",
          "American Indian and Alaska Native",
          "American Indian and Alaska Native",
          "American Indian and Alaska Native",
          "American Indian and Alaska Native",
          "American Indian and Alaska Native",
          "American Indian and Alaska Native",
          "American Indian and Alaska Native",
          "American Indian and Alaska Native",
          "American Indian and Alaska Native",
          "American Indian and Alaska Native",
          "American Indian and Alaska Native",
          "American Indian and Alaska Native",
          "American Indian and Alaska Native",
          "American Indian and Alaska Native",
          "American Indian and Alaska Native",
          "White",
          "White",
          "White",
          "White",
          "Black or African American",
          "Black or African American",
          "Black or African American",
          "Black or African American",
          "American Indian and Alaska Native",
          "American Indian and Alaska Native",
          "American Indian and Alaska Native",
          "American Indian and Alaska Native",
          "Native Hawaiian and Other Pacific Islander",
          "Native Hawaiian and Other Pacific Islander",
          "Asian",
          "Asian",
          "Asian",
          "Asian",
          "Native Hawaiian and Other Pacific Islander",
          "Native Hawaiian and Other Pacific Islander",
          "Native Hawaiian and Other Pacific Islander",
          "Native Hawaiian and Other Pacific Islander",
          "Native Hawaiian and Other Pacific Islander",
          "Native Hawaiian and Other Pacific Islander",
          "Native Hawaiian and Other Pacific Islander",
          "Native Hawaiian and Other Pacific Islander",
          "Native Hawaiian and Other Pacific Islander",
          "Native Hawaiian and Other Pacific Islander",
          "Native Hawaiian and Other Pacific Islander",
          "Native Hawaiian and Other Pacific Islander",
          "Native Hawaiian and Other Pacific Islander",
          "Native Hawaiian and Other Pacific Islander",
          "Native Hawaiian and Other Pacific Islander",
          "Native Hawaiian and Other Pacific Islander",
          "Native Hawaiian and Other Pacific Islander",
          "Native Hawaiian and Other Pacific Islander",
          "Native Hawaiian and Other Pacific Islander",
          "Native Hawaiian and Other Pacific Islander",
          "Native Hawaiian and Other Pacific Islander",
          "Native Hawaiian and Other Pacific Islander",
          "Native Hawaiian and Other Pacific Islander",
          "Native Hawaiian and Other Pacific Islander",
          "Native Hawaiian and Other Pacific Islander",
          "Native Hawaiian and Other Pacific Islander",
          "Native Hawaiian and Other Pacific Islander",
          "Native Hawaiian and Other Pacific Islander",
          "Native Hawaiian and Other Pacific Islander",
          "Native Hawaiian and Other Pacific Islander",
          "Native Hawaiian and Other Pacific Islander",
          "Native Hawaiian and Other Pacific Islander",
          "Native Hawaiian and Other Pacific Islander",
          "Native Hawaiian and Other Pacific Islander",
          "Native Hawaiian and Other Pacific Islander",
          "Native Hawaiian and Other Pacific Islander",
          "Native Hawaiian and Other Pacific Islander",
          "Native Hawaiian and Other Pacific Islander",
          "Native Hawaiian and Other Pacific Islander",
          "Native Hawaiian and Other Pacific Islander",
          "White",
          "White",
          "White",
          "White",
          "Black or African American",
          "Black or African American",
          "Black or African American",
          "Black or African American",
          "American Indian and Alaska Native",
          "American Indian and Alaska Native",
          "American Indian and Alaska Native",
          "Asian",
          "Asian",
          "Asian",
          "Asian",
          "Native Hawaiian and Other Pacific Islander",
          "Native Hawaiian and Other Pacific Islander",
          "Native Hawaiian and Other Pacific Islander",
          "Native Hawaiian and Other Pacific Islander",
          "Asian",
          "Asian",
          "Asian",
          "Asian",
          "Asian",
          "Asian",
          "Asian",
          "Asian",
          "Asian",
          "Asian",
          "Asian",
          "Asian",
          "Asian",
          "Asian",
          "Asian",
          "Asian",
          "Asian",
          "Asian",
          "Asian",
          "Asian",
          "Asian",
          "Asian",
          "Asian",
          "Asian",
          "Asian",
          "Asian",
          "Asian",
          "Asian",
          "Asian",
          "Asian",
          "Asian",
          "Asian",
          "Asian",
          "Asian",
          "Asian",
          "Asian",
          "Asian",
          "Asian",
          "White",
          "White",
          "White",
          "White",
          "White",
          "White",
          "White",
          "White",
          "Black or African American",
          "Black or African American",
          "Black or African American",
          "Black or African American",
          "Black or African American",
          "Black or African American",
          "Black or African American",
          "Black or African American",
          "American Indian and Alaska Native",
          "American Indian and Alaska Native",
          "American Indian and Alaska Native",
          "American Indian and Alaska Native",
          "American Indian and Alaska Native",
          "American Indian and Alaska Native",
          "American Indian and Alaska Native",
          "American Indian and Alaska Native",
          "Asian",
          "Asian",
          "Asian",
          "Asian",
          "Asian",
          "Asian",
          "Asian",
          "Asian",
          "Native Hawaiian and Other Pacific Islander",
          "Native Hawaiian and Other Pacific Islander",
          "Native Hawaiian and Other Pacific Islander",
          "Native Hawaiian and Other Pacific Islander",
          "Native Hawaiian and Other Pacific Islander",
          "Native Hawaiian and Other Pacific Islander"
         ],
         "xaxis": "x",
         "y": [
          416348,
          16319,
          534,
          75,
          1108,
          1869,
          1293,
          567,
          1885,
          27,
          7358,
          291,
          14,
          14928,
          38675,
          68146,
          87072,
          50617,
          67543,
          85567,
          3803,
          134047,
          344886,
          916,
          86865,
          58,
          32,
          1137,
          0,
          397,
          765,
          259,
          124,
          423,
          133,
          51,
          73,
          214,
          394,
          152,
          1054,
          188,
          116,
          1815,
          5879,
          31,
          1741,
          1426,
          17217,
          7163,
          30977,
          12135,
          152602,
          414719,
          61679,
          13179,
          118343,
          17946,
          156,
          0,
          35,
          321,
          144,
          686,
          154,
          2313,
          1662,
          174,
          1758,
          7251,
          134,
          77,
          0,
          129,
          0,
          0,
          0,
          63,
          73,
          0,
          298,
          59,
          453,
          1287,
          0,
          543,
          398,
          0,
          101,
          7,
          173,
          96,
          556,
          193,
          90,
          450,
          1706,
          123,
          796,
          681,
          9475,
          130,
          1545,
          8989,
          919,
          381,
          176,
          963,
          1037,
          819,
          51,
          5380,
          140,
          4534,
          28948,
          0,
          3483,
          157,
          490,
          99,
          1359,
          326,
          11316,
          12001,
          1780,
          3868,
          31395,
          1052,
          0,
          0,
          39,
          22,
          9,
          278,
          58,
          34,
          52,
          536,
          20,
          62,
          0,
          20,
          0,
          37,
          79,
          0,
          0,
          0,
          38,
          9,
          0,
          62,
          36,
          0,
          333921,
          84199,
          418119,
          14548,
          5600,
          1798,
          7397,
          252,
          1260,
          477,
          1736,
          93,
          23922,
          7636,
          31557,
          891,
          97,
          237,
          444,
          237,
          516,
          9,
          155,
          1706,
          123,
          401,
          105,
          506,
          50,
          366,
          954,
          3137,
          6961,
          6785,
          10374,
          294,
          2739,
          31609,
          839,
          5,
          13478,
          4315,
          26695,
          2694,
          27901,
          47746,
          9533,
          2149,
          1685,
          18033,
          22438,
          3518,
          53345,
          77,
          14127,
          2235,
          104,
          88,
          78,
          0,
          171,
          536,
          20,
          31728,
          97753,
          286830,
          59283,
          122079,
          233984,
          50672,
          130244,
          233544,
          42291,
          30358,
          109332,
          272227,
          120799,
          252049,
          336673,
          49967,
          23937,
          827,
          16756,
          64639,
          105213,
          128346,
          102940,
          418715,
          13950,
          109254,
          167208,
          138261,
          86949,
          142756,
          181159,
          215549,
          109959,
          89183,
          344675,
          25729,
          30298,
          336336,
          41206,
          35709,
          196942,
          140842,
          73827,
          417530,
          15135,
          363,
          37,
          1635,
          2245,
          1738,
          1353,
          7370,
          279,
          0,
          63,
          322,
          518,
          470,
          304,
          1735,
          94,
          239,
          1671,
          8237,
          11102,
          6982,
          3342,
          31572,
          875,
          98,
          39,
          220,
          73,
          107,
          536,
          20,
          724,
          1587,
          4956,
          991,
          1810,
          4459,
          970,
          1837,
          4459,
          573,
          1531,
          5040,
          1010,
          907,
          1633,
          4622,
          5615,
          609,
          2366,
          2149,
          2756,
          1231,
          1424,
          4456,
          3514,
          1883,
          1863,
          5875,
          514,
          556,
          6120,
          597,
          554,
          2401,
          2483,
          2263,
          7288,
          361,
          333,
          225,
          1154,
          348,
          450,
          911,
          375,
          872,
          466,
          172,
          256,
          1254,
          265,
          368,
          1049,
          1379,
          183,
          123,
          487,
          643,
          553,
          441,
          447,
          794,
          1115,
          243,
          327,
          1432,
          97,
          141,
          1409,
          93,
          182,
          836,
          539,
          309,
          1713,
          116,
          384305,
          34353,
          418657,
          14008,
          5312,
          2056,
          7367,
          282,
          1670,
          66,
          1735,
          94,
          72,
          130,
          5833,
          25741,
          31572,
          875,
          365,
          171,
          536,
          20,
          292,
          105,
          80,
          155,
          259,
          126,
          262,
          111,
          212,
          171,
          104,
          165,
          222,
          369,
          110,
          13,
          229,
          198,
          67,
          146,
          129,
          218,
          279,
          154,
          59,
          340,
          44,
          45,
          369,
          115,
          0,
          494,
          235,
          236,
          22,
          62,
          412908,
          5834,
          418741,
          13924,
          7242,
          129,
          7370,
          279,
          1735,
          1735,
          94,
          27244,
          4329,
          31572,
          875,
          488,
          46,
          534,
          22,
          2832,
          9224,
          19411,
          4299,
          9983,
          17203,
          3159,
          10242,
          17944,
          1894,
          9530,
          19853,
          1991,
          8796,
          20679,
          22469,
          13935,
          6149,
          2577,
          8710,
          8798,
          3898,
          10347,
          17006,
          13362,
          10661,
          7358,
          24851,
          2731,
          2861,
          23204,
          5521,
          2624,
          10291,
          12674,
          8311,
          31496,
          951,
          125930,
          245156,
          21664,
          3711,
          3110,
          17379,
          416950,
          15715,
          2201,
          4582,
          333,
          0,
          14,
          225,
          7359,
          292,
          493,
          1019,
          61,
          43,
          0,
          86,
          1733,
          96,
          9729,
          19215,
          1377,
          105,
          155,
          943,
          31520,
          928,
          185,
          257,
          0,
          58,
          535,
          21
         ],
         "yaxis": "y"
        },
        {
         "alignmentgroup": "True",
         "bingroup": "x",
         "histfunc": "sum",
         "hovertemplate": "Gender=Female<br>Race of Owner=%{x}<br>sum of owners of respondent employer firms=%{y}<extra></extra>",
         "legendgroup": "Female",
         "marker": {
          "color": "red",
          "pattern": {
           "shape": ""
          }
         },
         "name": "Female",
         "offsetgroup": "Female",
         "orientation": "v",
         "showlegend": true,
         "type": "histogram",
         "x": [
          "Black or African American",
          "Black or African American",
          "Black or African American",
          "Black or African American",
          "Black or African American",
          "Black or African American",
          "Black or African American",
          "Black or African American",
          "Black or African American",
          "Black or African American",
          "American Indian and Alaska Native",
          "American Indian and Alaska Native",
          "American Indian and Alaska Native",
          "American Indian and Alaska Native",
          "American Indian and Alaska Native",
          "American Indian and Alaska Native",
          "American Indian and Alaska Native",
          "American Indian and Alaska Native",
          "American Indian and Alaska Native",
          "American Indian and Alaska Native",
          "White",
          "White",
          "White",
          "White",
          "White",
          "White",
          "White",
          "White",
          "White",
          "White",
          "Black or African American",
          "Black or African American",
          "Black or African American",
          "Black or African American",
          "Black or African American",
          "Black or African American",
          "Black or African American",
          "Black or African American",
          "Black or African American",
          "Black or African American",
          "Black or African American",
          "Black or African American",
          "Black or African American",
          "Black or African American",
          "Black or African American",
          "Black or African American",
          "Black or African American",
          "Black or African American",
          "Black or African American",
          "White",
          "White",
          "White",
          "White",
          "White",
          "White",
          "White",
          "White",
          "White",
          "White",
          "White",
          "American Indian and Alaska Native",
          "American Indian and Alaska Native",
          "American Indian and Alaska Native",
          "American Indian and Alaska Native",
          "American Indian and Alaska Native",
          "American Indian and Alaska Native",
          "American Indian and Alaska Native",
          "American Indian and Alaska Native",
          "American Indian and Alaska Native",
          "American Indian and Alaska Native",
          "American Indian and Alaska Native",
          "American Indian and Alaska Native",
          "American Indian and Alaska Native",
          "American Indian and Alaska Native",
          "American Indian and Alaska Native",
          "Black or African American",
          "Black or African American",
          "Black or African American",
          "Black or African American",
          "Black or African American",
          "Black or African American",
          "Black or African American",
          "Black or African American",
          "Black or African American",
          "Black or African American",
          "Black or African American",
          "American Indian and Alaska Native",
          "American Indian and Alaska Native",
          "American Indian and Alaska Native",
          "American Indian and Alaska Native",
          "American Indian and Alaska Native",
          "American Indian and Alaska Native",
          "American Indian and Alaska Native",
          "American Indian and Alaska Native",
          "American Indian and Alaska Native",
          "American Indian and Alaska Native",
          "American Indian and Alaska Native",
          "Asian",
          "Asian",
          "Asian",
          "Asian",
          "Asian",
          "Asian",
          "Asian",
          "Asian",
          "Asian",
          "Asian",
          "Asian",
          "Asian",
          "Asian",
          "Asian",
          "Asian",
          "Asian",
          "Asian",
          "Asian",
          "Asian",
          "Asian",
          "Asian",
          "Asian",
          "Asian",
          "Asian",
          "Asian",
          "Asian",
          "Asian",
          "Asian",
          "Asian",
          "Asian",
          "Native Hawaiian and Other Pacific Islander",
          "Native Hawaiian and Other Pacific Islander",
          "Native Hawaiian and Other Pacific Islander",
          "Native Hawaiian and Other Pacific Islander",
          "Native Hawaiian and Other Pacific Islander",
          "Native Hawaiian and Other Pacific Islander",
          "Native Hawaiian and Other Pacific Islander",
          "Native Hawaiian and Other Pacific Islander",
          "Native Hawaiian and Other Pacific Islander",
          "Native Hawaiian and Other Pacific Islander",
          "Native Hawaiian and Other Pacific Islander",
          "Native Hawaiian and Other Pacific Islander",
          "Native Hawaiian and Other Pacific Islander",
          "Native Hawaiian and Other Pacific Islander",
          "Native Hawaiian and Other Pacific Islander",
          "Native Hawaiian and Other Pacific Islander",
          "Native Hawaiian and Other Pacific Islander",
          "Native Hawaiian and Other Pacific Islander",
          "Native Hawaiian and Other Pacific Islander",
          "Native Hawaiian and Other Pacific Islander",
          "Native Hawaiian and Other Pacific Islander",
          "Native Hawaiian and Other Pacific Islander",
          "Native Hawaiian and Other Pacific Islander",
          "Native Hawaiian and Other Pacific Islander",
          "Native Hawaiian and Other Pacific Islander",
          "Native Hawaiian and Other Pacific Islander",
          "White",
          "White",
          "White",
          "White",
          "Black or African American",
          "Black or African American",
          "Black or African American",
          "Black or African American",
          "American Indian and Alaska Native",
          "American Indian and Alaska Native",
          "American Indian and Alaska Native",
          "American Indian and Alaska Native",
          "Asian",
          "Asian",
          "Asian",
          "Asian",
          "Asian",
          "Asian",
          "Asian",
          "Asian",
          "Asian",
          "Asian",
          "Asian",
          "Asian",
          "Asian",
          "Native Hawaiian and Other Pacific Islander",
          "Native Hawaiian and Other Pacific Islander",
          "Native Hawaiian and Other Pacific Islander",
          "White",
          "White",
          "White",
          "White",
          "White",
          "White",
          "White",
          "Asian",
          "Native Hawaiian and Other Pacific Islander",
          "Native Hawaiian and Other Pacific Islander",
          "Native Hawaiian and Other Pacific Islander",
          "Native Hawaiian and Other Pacific Islander",
          "Native Hawaiian and Other Pacific Islander",
          "Native Hawaiian and Other Pacific Islander",
          "White",
          "White",
          "White",
          "White",
          "White",
          "White",
          "White",
          "White",
          "White",
          "White",
          "White",
          "White",
          "White",
          "White",
          "White",
          "White",
          "White",
          "White",
          "White",
          "White",
          "White",
          "White",
          "White",
          "White",
          "White",
          "White",
          "White",
          "White",
          "White",
          "White",
          "White",
          "White",
          "White",
          "White",
          "White",
          "White",
          "White",
          "White",
          "White",
          "White",
          "White",
          "White",
          "White",
          "White",
          "White",
          "White",
          "White",
          "White",
          "White",
          "White",
          "White",
          "White",
          "White",
          "White",
          "White",
          "White",
          "White",
          "White",
          "Black or African American",
          "Black or African American",
          "Black or African American",
          "Black or African American",
          "Black or African American",
          "Black or African American",
          "Black or African American",
          "Black or African American",
          "American Indian and Alaska Native",
          "American Indian and Alaska Native",
          "American Indian and Alaska Native",
          "American Indian and Alaska Native",
          "American Indian and Alaska Native",
          "American Indian and Alaska Native",
          "American Indian and Alaska Native",
          "Asian",
          "Asian",
          "Asian",
          "Asian",
          "Asian",
          "Asian",
          "Asian",
          "Asian",
          "Asian",
          "Asian",
          "Asian",
          "Asian",
          "Asian",
          "Asian",
          "Asian",
          "Asian",
          "Asian",
          "Asian",
          "Asian",
          "Asian",
          "Asian",
          "Asian",
          "Asian",
          "Asian",
          "Asian",
          "Asian",
          "Asian",
          "Asian",
          "Asian",
          "Asian",
          "Asian",
          "Asian",
          "Asian",
          "Asian",
          "Asian",
          "Asian",
          "Asian",
          "Asian",
          "Asian",
          "Asian",
          "Native Hawaiian and Other Pacific Islander",
          "Native Hawaiian and Other Pacific Islander",
          "Native Hawaiian and Other Pacific Islander",
          "Native Hawaiian and Other Pacific Islander",
          "Native Hawaiian and Other Pacific Islander",
          "Native Hawaiian and Other Pacific Islander",
          "Native Hawaiian and Other Pacific Islander",
          "Black or African American",
          "Black or African American",
          "Black or African American",
          "Black or African American",
          "Black or African American",
          "Black or African American",
          "Black or African American",
          "Black or African American",
          "Black or African American",
          "Black or African American",
          "Black or African American",
          "Black or African American",
          "Black or African American",
          "Black or African American",
          "Black or African American",
          "Black or African American",
          "Black or African American",
          "Black or African American",
          "Black or African American",
          "Black or African American",
          "Black or African American",
          "Black or African American",
          "Black or African American",
          "Black or African American",
          "Black or African American",
          "Black or African American",
          "Black or African American",
          "Black or African American",
          "Black or African American",
          "Black or African American",
          "Black or African American",
          "Black or African American",
          "Black or African American",
          "Black or African American",
          "Black or African American",
          "Black or African American",
          "Black or African American",
          "Black or African American",
          "American Indian and Alaska Native",
          "American Indian and Alaska Native",
          "American Indian and Alaska Native",
          "American Indian and Alaska Native",
          "American Indian and Alaska Native",
          "American Indian and Alaska Native",
          "American Indian and Alaska Native",
          "American Indian and Alaska Native",
          "American Indian and Alaska Native",
          "American Indian and Alaska Native",
          "American Indian and Alaska Native",
          "American Indian and Alaska Native",
          "American Indian and Alaska Native",
          "American Indian and Alaska Native",
          "American Indian and Alaska Native",
          "American Indian and Alaska Native",
          "American Indian and Alaska Native",
          "American Indian and Alaska Native",
          "American Indian and Alaska Native",
          "American Indian and Alaska Native",
          "American Indian and Alaska Native",
          "American Indian and Alaska Native",
          "American Indian and Alaska Native",
          "American Indian and Alaska Native",
          "American Indian and Alaska Native",
          "American Indian and Alaska Native",
          "American Indian and Alaska Native",
          "American Indian and Alaska Native",
          "American Indian and Alaska Native",
          "American Indian and Alaska Native",
          "American Indian and Alaska Native",
          "American Indian and Alaska Native",
          "American Indian and Alaska Native",
          "American Indian and Alaska Native",
          "American Indian and Alaska Native",
          "American Indian and Alaska Native",
          "American Indian and Alaska Native",
          "American Indian and Alaska Native",
          "White",
          "White",
          "White",
          "White",
          "Native Hawaiian and Other Pacific Islander",
          "Native Hawaiian and Other Pacific Islander",
          "Native Hawaiian and Other Pacific Islander",
          "Native Hawaiian and Other Pacific Islander",
          "Native Hawaiian and Other Pacific Islander",
          "Native Hawaiian and Other Pacific Islander",
          "Native Hawaiian and Other Pacific Islander",
          "Native Hawaiian and Other Pacific Islander",
          "Native Hawaiian and Other Pacific Islander",
          "Native Hawaiian and Other Pacific Islander",
          "Native Hawaiian and Other Pacific Islander",
          "Native Hawaiian and Other Pacific Islander",
          "Native Hawaiian and Other Pacific Islander",
          "Native Hawaiian and Other Pacific Islander",
          "Native Hawaiian and Other Pacific Islander",
          "Black or African American",
          "Black or African American",
          "Black or African American",
          "Black or African American",
          "American Indian and Alaska Native",
          "American Indian and Alaska Native",
          "American Indian and Alaska Native",
          "American Indian and Alaska Native",
          "Asian",
          "Native Hawaiian and Other Pacific Islander",
          "Native Hawaiian and Other Pacific Islander",
          "Native Hawaiian and Other Pacific Islander",
          "Native Hawaiian and Other Pacific Islander",
          "Native Hawaiian and Other Pacific Islander",
          "Native Hawaiian and Other Pacific Islander",
          "Native Hawaiian and Other Pacific Islander",
          "Native Hawaiian and Other Pacific Islander",
          "Native Hawaiian and Other Pacific Islander",
          "Native Hawaiian and Other Pacific Islander",
          "Native Hawaiian and Other Pacific Islander",
          "Native Hawaiian and Other Pacific Islander",
          "Native Hawaiian and Other Pacific Islander",
          "Native Hawaiian and Other Pacific Islander",
          "Native Hawaiian and Other Pacific Islander",
          "Native Hawaiian and Other Pacific Islander",
          "Native Hawaiian and Other Pacific Islander",
          "Native Hawaiian and Other Pacific Islander",
          "Native Hawaiian and Other Pacific Islander",
          "Native Hawaiian and Other Pacific Islander",
          "Native Hawaiian and Other Pacific Islander",
          "Native Hawaiian and Other Pacific Islander",
          "Asian",
          "Asian",
          "Asian",
          "Native Hawaiian and Other Pacific Islander",
          "Native Hawaiian and Other Pacific Islander",
          "Native Hawaiian and Other Pacific Islander",
          "Native Hawaiian and Other Pacific Islander",
          "White",
          "White",
          "White",
          "White",
          "Black or African American",
          "Black or African American",
          "Black or African American",
          "Black or African American",
          "American Indian and Alaska Native",
          "American Indian and Alaska Native",
          "American Indian and Alaska Native",
          "Asian",
          "Asian",
          "Asian",
          "Asian",
          "Native Hawaiian and Other Pacific Islander",
          "Native Hawaiian and Other Pacific Islander",
          "Native Hawaiian and Other Pacific Islander",
          "Asian",
          "Asian",
          "Asian",
          "Asian",
          "Asian",
          "Asian",
          "White",
          "White",
          "White",
          "White",
          "White",
          "White",
          "White",
          "White",
          "Black or African American",
          "Black or African American",
          "Black or African American",
          "Black or African American",
          "Black or African American",
          "Black or African American",
          "Black or African American",
          "American Indian and Alaska Native",
          "American Indian and Alaska Native",
          "American Indian and Alaska Native",
          "American Indian and Alaska Native",
          "American Indian and Alaska Native",
          "American Indian and Alaska Native",
          "American Indian and Alaska Native",
          "Asian",
          "Asian",
          "Asian",
          "Asian",
          "Asian",
          "Asian",
          "Asian",
          "Asian",
          "Native Hawaiian and Other Pacific Islander",
          "Native Hawaiian and Other Pacific Islander",
          "Native Hawaiian and Other Pacific Islander",
          "Native Hawaiian and Other Pacific Islander"
         ],
         "xaxis": "x",
         "y": [
          0,
          155,
          559,
          1047,
          1086,
          1344,
          33,
          376,
          4607,
          156,
          0,
          110,
          47,
          315,
          223,
          268,
          0,
          101,
          1144,
          91,
          2523,
          10890,
          27916,
          39200,
          31596,
          40123,
          2515,
          17837,
          172599,
          5297,
          134,
          22,
          138,
          0,
          465,
          194,
          233,
          0,
          0,
          1001,
          55,
          325,
          206,
          286,
          202,
          1181,
          3654,
          0,
          1072,
          643,
          11498,
          2995,
          19790,
          9060,
          63885,
          25414,
          4083,
          34998,
          172365,
          5531,
          41,
          11,
          51,
          34,
          65,
          0,
          0,
          63,
          109,
          184,
          855,
          77,
          0,
          354,
          379,
          0,
          240,
          0,
          435,
          182,
          1406,
          1012,
          106,
          1169,
          4594,
          170,
          0,
          61,
          0,
          219,
          21,
          342,
          246,
          0,
          263,
          1175,
          60,
          871,
          443,
          3523,
          35,
          1656,
          1942,
          852,
          90,
          176,
          663,
          1394,
          305,
          2853,
          509,
          93,
          3895,
          93,
          506,
          163,
          1064,
          647,
          8393,
          5594,
          16527,
          0,
          3186,
          444,
          2134,
          19037,
          714,
          7,
          0,
          6,
          7,
          0,
          37,
          9,
          0,
          0,
          13,
          36,
          0,
          51,
          9,
          0,
          0,
          139,
          0,
          6,
          0,
          9,
          0,
          0,
          24,
          75,
          65,
          130015,
          42849,
          172864,
          5032,
          3231,
          1379,
          4609,
          154,
          764,
          421,
          1184,
          51,
          12818,
          6250,
          19069,
          681,
          41,
          336,
          1463,
          4556,
          4310,
          6584,
          323,
          1447,
          19059,
          99,
          40,
          139,
          1387,
          7037,
          5050,
          498,
          9335,
          3875,
          8398,
          692,
          12,
          8,
          22,
          31,
          68,
          139,
          292,
          1002,
          5550,
          17334,
          7396,
          19558,
          7220,
          2927,
          44596,
          128183,
          198,
          49516,
          26373,
          44100,
          102216,
          21424,
          40172,
          110934,
          22370,
          39894,
          109908,
          23191,
          51485,
          96698,
          30478,
          18439,
          50909,
          91038,
          144235,
          8461,
          62216,
          64077,
          46004,
          61805,
          54307,
          54878,
          93815,
          42001,
          36426,
          145516,
          8561,
          526,
          7227,
          29130,
          13411,
          142243,
          15727,
          13739,
          83878,
          53722,
          33852,
          172964,
          4933,
          52342,
          54831,
          29166,
          173221,
          4675,
          1502,
          0,
          334,
          1037,
          1206,
          456,
          4596,
          168,
          69,
          171,
          506,
          315,
          125,
          1186,
          49,
          2705,
          6845,
          9441,
          2003,
          5082,
          212,
          1506,
          6164,
          6787,
          3247,
          1167,
          19082,
          669,
          11896,
          1624,
          5012,
          12240,
          2088,
          6703,
          10157,
          2380,
          6921,
          9717,
          13500,
          8025,
          4128,
          1292,
          7086,
          3853,
          4212,
          6893,
          7801,
          7880,
          6261,
          4824,
          15212,
          1946,
          1412,
          13668,
          3423,
          0,
          56,
          31,
          32,
          13,
          138,
          0,
          555,
          1177,
          2833,
          510,
          1127,
          2927,
          561,
          1154,
          2802,
          438,
          1497,
          2630,
          723,
          1515,
          2329,
          3333,
          775,
          440,
          1494,
          1437,
          1737,
          1336,
          973,
          2129,
          2107,
          1298,
          1162,
          3339,
          299,
          662,
          3544,
          570,
          437,
          1439,
          1431,
          1658,
          4567,
          197,
          134,
          330,
          705,
          112,
          111,
          332,
          727,
          262,
          794,
          113,
          399,
          663,
          227,
          457,
          486,
          852,
          210,
          96,
          375,
          468,
          327,
          366,
          397,
          395,
          576,
          304,
          290,
          966,
          36,
          84,
          942,
          128,
          96,
          439,
          419,
          303,
          1186,
          49,
          158787,
          14521,
          173307,
          4590,
          32,
          34,
          72,
          24,
          11,
          8,
          106,
          24,
          103,
          23,
          5,
          110,
          27,
          12,
          99,
          3779,
          787,
          4567,
          197,
          1121,
          65,
          1186,
          49,
          3383,
          84,
          0,
          44,
          48,
          44,
          46,
          38,
          16,
          85,
          71,
          9,
          58,
          114,
          21,
          90,
          0,
          0,
          70,
          11,
          57,
          138,
          0,
          669,
          15698,
          19082,
          107,
          31,
          138,
          0,
          173259,
          171319,
          1941,
          4638,
          4459,
          82,
          4541,
          223,
          1160,
          1160,
          75,
          666,
          16309,
          2776,
          19084,
          138,
          138,
          0,
          1880,
          6401,
          7939,
          4616,
          19052,
          699,
          56997,
          99593,
          880,
          7076,
          1017,
          6985,
          172548,
          5348,
          1298,
          2826,
          104,
          0,
          355,
          4586,
          177,
          264,
          791,
          38,
          47,
          44,
          1186,
          49,
          10845,
          6945,
          506,
          42,
          102,
          617,
          19056,
          694,
          72,
          55,
          13,
          139
         ],
         "yaxis": "y"
        }
       ],
       "layout": {
        "barmode": "group",
        "legend": {
         "title": {
          "text": "Gender"
         },
         "tracegroupgap": 0
        },
        "template": {
         "data": {
          "bar": [
           {
            "error_x": {
             "color": "#2a3f5f"
            },
            "error_y": {
             "color": "#2a3f5f"
            },
            "marker": {
             "line": {
              "color": "#E5ECF6",
              "width": 0.5
             },
             "pattern": {
              "fillmode": "overlay",
              "size": 10,
              "solidity": 0.2
             }
            },
            "type": "bar"
           }
          ],
          "barpolar": [
           {
            "marker": {
             "line": {
              "color": "#E5ECF6",
              "width": 0.5
             },
             "pattern": {
              "fillmode": "overlay",
              "size": 10,
              "solidity": 0.2
             }
            },
            "type": "barpolar"
           }
          ],
          "carpet": [
           {
            "aaxis": {
             "endlinecolor": "#2a3f5f",
             "gridcolor": "white",
             "linecolor": "white",
             "minorgridcolor": "white",
             "startlinecolor": "#2a3f5f"
            },
            "baxis": {
             "endlinecolor": "#2a3f5f",
             "gridcolor": "white",
             "linecolor": "white",
             "minorgridcolor": "white",
             "startlinecolor": "#2a3f5f"
            },
            "type": "carpet"
           }
          ],
          "choropleth": [
           {
            "colorbar": {
             "outlinewidth": 0,
             "ticks": ""
            },
            "type": "choropleth"
           }
          ],
          "contour": [
           {
            "colorbar": {
             "outlinewidth": 0,
             "ticks": ""
            },
            "colorscale": [
             [
              0,
              "#0d0887"
             ],
             [
              0.1111111111111111,
              "#46039f"
             ],
             [
              0.2222222222222222,
              "#7201a8"
             ],
             [
              0.3333333333333333,
              "#9c179e"
             ],
             [
              0.4444444444444444,
              "#bd3786"
             ],
             [
              0.5555555555555556,
              "#d8576b"
             ],
             [
              0.6666666666666666,
              "#ed7953"
             ],
             [
              0.7777777777777778,
              "#fb9f3a"
             ],
             [
              0.8888888888888888,
              "#fdca26"
             ],
             [
              1,
              "#f0f921"
             ]
            ],
            "type": "contour"
           }
          ],
          "contourcarpet": [
           {
            "colorbar": {
             "outlinewidth": 0,
             "ticks": ""
            },
            "type": "contourcarpet"
           }
          ],
          "heatmap": [
           {
            "colorbar": {
             "outlinewidth": 0,
             "ticks": ""
            },
            "colorscale": [
             [
              0,
              "#0d0887"
             ],
             [
              0.1111111111111111,
              "#46039f"
             ],
             [
              0.2222222222222222,
              "#7201a8"
             ],
             [
              0.3333333333333333,
              "#9c179e"
             ],
             [
              0.4444444444444444,
              "#bd3786"
             ],
             [
              0.5555555555555556,
              "#d8576b"
             ],
             [
              0.6666666666666666,
              "#ed7953"
             ],
             [
              0.7777777777777778,
              "#fb9f3a"
             ],
             [
              0.8888888888888888,
              "#fdca26"
             ],
             [
              1,
              "#f0f921"
             ]
            ],
            "type": "heatmap"
           }
          ],
          "heatmapgl": [
           {
            "colorbar": {
             "outlinewidth": 0,
             "ticks": ""
            },
            "colorscale": [
             [
              0,
              "#0d0887"
             ],
             [
              0.1111111111111111,
              "#46039f"
             ],
             [
              0.2222222222222222,
              "#7201a8"
             ],
             [
              0.3333333333333333,
              "#9c179e"
             ],
             [
              0.4444444444444444,
              "#bd3786"
             ],
             [
              0.5555555555555556,
              "#d8576b"
             ],
             [
              0.6666666666666666,
              "#ed7953"
             ],
             [
              0.7777777777777778,
              "#fb9f3a"
             ],
             [
              0.8888888888888888,
              "#fdca26"
             ],
             [
              1,
              "#f0f921"
             ]
            ],
            "type": "heatmapgl"
           }
          ],
          "histogram": [
           {
            "marker": {
             "pattern": {
              "fillmode": "overlay",
              "size": 10,
              "solidity": 0.2
             }
            },
            "type": "histogram"
           }
          ],
          "histogram2d": [
           {
            "colorbar": {
             "outlinewidth": 0,
             "ticks": ""
            },
            "colorscale": [
             [
              0,
              "#0d0887"
             ],
             [
              0.1111111111111111,
              "#46039f"
             ],
             [
              0.2222222222222222,
              "#7201a8"
             ],
             [
              0.3333333333333333,
              "#9c179e"
             ],
             [
              0.4444444444444444,
              "#bd3786"
             ],
             [
              0.5555555555555556,
              "#d8576b"
             ],
             [
              0.6666666666666666,
              "#ed7953"
             ],
             [
              0.7777777777777778,
              "#fb9f3a"
             ],
             [
              0.8888888888888888,
              "#fdca26"
             ],
             [
              1,
              "#f0f921"
             ]
            ],
            "type": "histogram2d"
           }
          ],
          "histogram2dcontour": [
           {
            "colorbar": {
             "outlinewidth": 0,
             "ticks": ""
            },
            "colorscale": [
             [
              0,
              "#0d0887"
             ],
             [
              0.1111111111111111,
              "#46039f"
             ],
             [
              0.2222222222222222,
              "#7201a8"
             ],
             [
              0.3333333333333333,
              "#9c179e"
             ],
             [
              0.4444444444444444,
              "#bd3786"
             ],
             [
              0.5555555555555556,
              "#d8576b"
             ],
             [
              0.6666666666666666,
              "#ed7953"
             ],
             [
              0.7777777777777778,
              "#fb9f3a"
             ],
             [
              0.8888888888888888,
              "#fdca26"
             ],
             [
              1,
              "#f0f921"
             ]
            ],
            "type": "histogram2dcontour"
           }
          ],
          "mesh3d": [
           {
            "colorbar": {
             "outlinewidth": 0,
             "ticks": ""
            },
            "type": "mesh3d"
           }
          ],
          "parcoords": [
           {
            "line": {
             "colorbar": {
              "outlinewidth": 0,
              "ticks": ""
             }
            },
            "type": "parcoords"
           }
          ],
          "pie": [
           {
            "automargin": true,
            "type": "pie"
           }
          ],
          "scatter": [
           {
            "marker": {
             "colorbar": {
              "outlinewidth": 0,
              "ticks": ""
             }
            },
            "type": "scatter"
           }
          ],
          "scatter3d": [
           {
            "line": {
             "colorbar": {
              "outlinewidth": 0,
              "ticks": ""
             }
            },
            "marker": {
             "colorbar": {
              "outlinewidth": 0,
              "ticks": ""
             }
            },
            "type": "scatter3d"
           }
          ],
          "scattercarpet": [
           {
            "marker": {
             "colorbar": {
              "outlinewidth": 0,
              "ticks": ""
             }
            },
            "type": "scattercarpet"
           }
          ],
          "scattergeo": [
           {
            "marker": {
             "colorbar": {
              "outlinewidth": 0,
              "ticks": ""
             }
            },
            "type": "scattergeo"
           }
          ],
          "scattergl": [
           {
            "marker": {
             "colorbar": {
              "outlinewidth": 0,
              "ticks": ""
             }
            },
            "type": "scattergl"
           }
          ],
          "scattermapbox": [
           {
            "marker": {
             "colorbar": {
              "outlinewidth": 0,
              "ticks": ""
             }
            },
            "type": "scattermapbox"
           }
          ],
          "scatterpolar": [
           {
            "marker": {
             "colorbar": {
              "outlinewidth": 0,
              "ticks": ""
             }
            },
            "type": "scatterpolar"
           }
          ],
          "scatterpolargl": [
           {
            "marker": {
             "colorbar": {
              "outlinewidth": 0,
              "ticks": ""
             }
            },
            "type": "scatterpolargl"
           }
          ],
          "scatterternary": [
           {
            "marker": {
             "colorbar": {
              "outlinewidth": 0,
              "ticks": ""
             }
            },
            "type": "scatterternary"
           }
          ],
          "surface": [
           {
            "colorbar": {
             "outlinewidth": 0,
             "ticks": ""
            },
            "colorscale": [
             [
              0,
              "#0d0887"
             ],
             [
              0.1111111111111111,
              "#46039f"
             ],
             [
              0.2222222222222222,
              "#7201a8"
             ],
             [
              0.3333333333333333,
              "#9c179e"
             ],
             [
              0.4444444444444444,
              "#bd3786"
             ],
             [
              0.5555555555555556,
              "#d8576b"
             ],
             [
              0.6666666666666666,
              "#ed7953"
             ],
             [
              0.7777777777777778,
              "#fb9f3a"
             ],
             [
              0.8888888888888888,
              "#fdca26"
             ],
             [
              1,
              "#f0f921"
             ]
            ],
            "type": "surface"
           }
          ],
          "table": [
           {
            "cells": {
             "fill": {
              "color": "#EBF0F8"
             },
             "line": {
              "color": "white"
             }
            },
            "header": {
             "fill": {
              "color": "#C8D4E3"
             },
             "line": {
              "color": "white"
             }
            },
            "type": "table"
           }
          ]
         },
         "layout": {
          "annotationdefaults": {
           "arrowcolor": "#2a3f5f",
           "arrowhead": 0,
           "arrowwidth": 1
          },
          "autotypenumbers": "strict",
          "coloraxis": {
           "colorbar": {
            "outlinewidth": 0,
            "ticks": ""
           }
          },
          "colorscale": {
           "diverging": [
            [
             0,
             "#8e0152"
            ],
            [
             0.1,
             "#c51b7d"
            ],
            [
             0.2,
             "#de77ae"
            ],
            [
             0.3,
             "#f1b6da"
            ],
            [
             0.4,
             "#fde0ef"
            ],
            [
             0.5,
             "#f7f7f7"
            ],
            [
             0.6,
             "#e6f5d0"
            ],
            [
             0.7,
             "#b8e186"
            ],
            [
             0.8,
             "#7fbc41"
            ],
            [
             0.9,
             "#4d9221"
            ],
            [
             1,
             "#276419"
            ]
           ],
           "sequential": [
            [
             0,
             "#0d0887"
            ],
            [
             0.1111111111111111,
             "#46039f"
            ],
            [
             0.2222222222222222,
             "#7201a8"
            ],
            [
             0.3333333333333333,
             "#9c179e"
            ],
            [
             0.4444444444444444,
             "#bd3786"
            ],
            [
             0.5555555555555556,
             "#d8576b"
            ],
            [
             0.6666666666666666,
             "#ed7953"
            ],
            [
             0.7777777777777778,
             "#fb9f3a"
            ],
            [
             0.8888888888888888,
             "#fdca26"
            ],
            [
             1,
             "#f0f921"
            ]
           ],
           "sequentialminus": [
            [
             0,
             "#0d0887"
            ],
            [
             0.1111111111111111,
             "#46039f"
            ],
            [
             0.2222222222222222,
             "#7201a8"
            ],
            [
             0.3333333333333333,
             "#9c179e"
            ],
            [
             0.4444444444444444,
             "#bd3786"
            ],
            [
             0.5555555555555556,
             "#d8576b"
            ],
            [
             0.6666666666666666,
             "#ed7953"
            ],
            [
             0.7777777777777778,
             "#fb9f3a"
            ],
            [
             0.8888888888888888,
             "#fdca26"
            ],
            [
             1,
             "#f0f921"
            ]
           ]
          },
          "colorway": [
           "#636efa",
           "#EF553B",
           "#00cc96",
           "#ab63fa",
           "#FFA15A",
           "#19d3f3",
           "#FF6692",
           "#B6E880",
           "#FF97FF",
           "#FECB52"
          ],
          "font": {
           "color": "#2a3f5f"
          },
          "geo": {
           "bgcolor": "white",
           "lakecolor": "white",
           "landcolor": "#E5ECF6",
           "showlakes": true,
           "showland": true,
           "subunitcolor": "white"
          },
          "hoverlabel": {
           "align": "left"
          },
          "hovermode": "closest",
          "mapbox": {
           "style": "light"
          },
          "paper_bgcolor": "white",
          "plot_bgcolor": "#E5ECF6",
          "polar": {
           "angularaxis": {
            "gridcolor": "white",
            "linecolor": "white",
            "ticks": ""
           },
           "bgcolor": "#E5ECF6",
           "radialaxis": {
            "gridcolor": "white",
            "linecolor": "white",
            "ticks": ""
           }
          },
          "scene": {
           "xaxis": {
            "backgroundcolor": "#E5ECF6",
            "gridcolor": "white",
            "gridwidth": 2,
            "linecolor": "white",
            "showbackground": true,
            "ticks": "",
            "zerolinecolor": "white"
           },
           "yaxis": {
            "backgroundcolor": "#E5ECF6",
            "gridcolor": "white",
            "gridwidth": 2,
            "linecolor": "white",
            "showbackground": true,
            "ticks": "",
            "zerolinecolor": "white"
           },
           "zaxis": {
            "backgroundcolor": "#E5ECF6",
            "gridcolor": "white",
            "gridwidth": 2,
            "linecolor": "white",
            "showbackground": true,
            "ticks": "",
            "zerolinecolor": "white"
           }
          },
          "shapedefaults": {
           "line": {
            "color": "#2a3f5f"
           }
          },
          "ternary": {
           "aaxis": {
            "gridcolor": "white",
            "linecolor": "white",
            "ticks": ""
           },
           "baxis": {
            "gridcolor": "white",
            "linecolor": "white",
            "ticks": ""
           },
           "bgcolor": "#E5ECF6",
           "caxis": {
            "gridcolor": "white",
            "linecolor": "white",
            "ticks": ""
           }
          },
          "title": {
           "x": 0.05
          },
          "xaxis": {
           "automargin": true,
           "gridcolor": "white",
           "linecolor": "white",
           "ticks": "",
           "title": {
            "standoff": 15
           },
           "zerolinecolor": "white",
           "zerolinewidth": 2
          },
          "yaxis": {
           "automargin": true,
           "gridcolor": "white",
           "linecolor": "white",
           "ticks": "",
           "title": {
            "standoff": 15
           },
           "zerolinecolor": "white",
           "zerolinewidth": 2
          }
         }
        },
        "title": {
         "text": "Count of Owners of Firms With Technical Classification by Race and Gender",
         "x": 0.5,
         "xanchor": "center",
         "y": 0.9,
         "yanchor": "top"
        },
        "width": 1000,
        "xaxis": {
         "anchor": "y",
         "domain": [
          0,
          1
         ],
         "title": {
          "text": "Race of Owner"
         }
        },
        "yaxis": {
         "anchor": "x",
         "domain": [
          0,
          1
         ],
         "title": {
          "text": "sum of owners of respondent employer firms"
         }
        }
       }
      }
     },
     "metadata": {}
    }
   ],
   "source": [
    "technical_fields_owners_races_df = technical_fields_owners_df.copy()\n",
    "technical_fields_owners_races_df.drop(technical_fields_owners_races_df.index[technical_fields_owners_races_df['OWNER_RACE_LABEL'] == 'All owners of respondent firms'], inplace=True)\n",
    "technical_fields_owners_races_df.drop(technical_fields_owners_races_df.index[technical_fields_owners_races_df['OWNER_RACE_LABEL'] == 'Minority'], inplace=True)\n",
    "technical_fields_owners_races_df.drop(technical_fields_owners_races_df.index[technical_fields_owners_races_df['OWNER_RACE_LABEL'] == 'Nonminority'], inplace=True)\n",
    "technical_fields_owners_races_df.drop(technical_fields_owners_races_df.index[technical_fields_owners_races_df['OWNER_SEX_LABEL'] == 'All owners of respondent firms'], inplace=True)\n",
    "\n",
    "fig = px.histogram(technical_fields_owners_races_df, color='OWNER_SEX_LABEL', x='OWNER_RACE_LABEL', barmode='group', y='OWNPDEMP', title='Count of Owners of Firms With Technical Classification by Race and Gender', labels={'OWNER_SEX_LABEL':'Gender', 'OWNPDEMP': 'owners of respondent employer firms', 'OWNER_RACE_LABEL':'Race of Owner'}, color_discrete_map={'Male': 'blue','Female': 'red'})\n",
    "fig.update_layout(\n",
    "    title={        \n",
    "        'y':0.9,\n",
    "        'x':0.5,\n",
    "        'xanchor': 'center',\n",
    "        'yanchor': 'top'},\n",
    "    width = 1000)\n",
    "fig.show()"
   ]
  },
  {
   "cell_type": "code",
   "execution_count": 17,
   "metadata": {},
   "outputs": [],
   "source": [
    "# drop unnecessary values\n",
    "comp_summary_tech_df = comp_summary_df.copy()\n",
    "comp_summary_tech_df.drop(comp_summary_tech_df.index[comp_summary_tech_df['RACE_GROUP_LABEL'] == 'Total'], inplace=True)\n",
    "comp_summary_tech_df.drop(comp_summary_tech_df.index[comp_summary_tech_df['RACE_GROUP_LABEL'] == 'Classifiable'], inplace=True)\n",
    "comp_summary_tech_df.drop(comp_summary_tech_df.index[comp_summary_tech_df['RACE_GROUP_LABEL'] == 'Unclassifiable'], inplace=True)\n",
    "comp_summary_tech_df.drop(comp_summary_tech_df.index[comp_summary_tech_df['RACE_GROUP_LABEL'] == 'Minority'], inplace=True)\n",
    "comp_summary_tech_df.drop(comp_summary_tech_df.index[comp_summary_tech_df['RACE_GROUP_LABEL'] == 'Nonminority'], inplace=True)\n",
    "comp_summary_tech_df.drop(comp_summary_tech_df.index[comp_summary_tech_df['RACE_GROUP_LABEL'] == 'Equally minority/nonminority'], inplace=True)\n",
    "\n",
    "comp_summary_tech_df.drop(comp_summary_tech_df.index[comp_summary_tech_df['SEX_LABEL'] == 'Total'], inplace=True)\n",
    "comp_summary_tech_df.drop(comp_summary_tech_df.index[comp_summary_tech_df['SEX_LABEL'] == 'Equally male/female'], inplace=True)"
   ]
  },
  {
   "cell_type": "code",
   "execution_count": 18,
   "metadata": {},
   "outputs": [
    {
     "output_type": "display_data",
     "data": {
      "application/vnd.plotly.v1+json": {
       "config": {
        "plotlyServerURL": "https://plot.ly"
       },
       "data": [
        {
         "alignmentgroup": "True",
         "bingroup": "x",
         "histfunc": "sum",
         "hovertemplate": "Gender=Female<br>Race Group=%{x}<br>sum of Employees=%{y}<extra></extra>",
         "legendgroup": "Female",
         "marker": {
          "color": "red",
          "pattern": {
           "shape": ""
          }
         },
         "name": "Female",
         "offsetgroup": "Female",
         "orientation": "v",
         "showlegend": true,
         "type": "histogram",
         "x": [
          "American Indian and Alaska Native",
          "American Indian and Alaska Native",
          "American Indian and Alaska Native",
          "American Indian and Alaska Native",
          "American Indian and Alaska Native",
          "American Indian and Alaska Native",
          "White",
          "White",
          "White",
          "White",
          "White",
          "White",
          "White",
          "White",
          "White",
          "White",
          "American Indian and Alaska Native",
          "White",
          "White",
          "White",
          "White",
          "White",
          "White",
          "White",
          "White",
          "White",
          "White",
          "White",
          "White",
          "White",
          "White",
          "White",
          "American Indian and Alaska Native",
          "Asian",
          "Asian",
          "Asian",
          "Asian",
          "Asian",
          "Asian",
          "Asian",
          "Asian",
          "Asian",
          "Asian",
          "Asian",
          "Asian",
          "Asian",
          "Asian",
          "Asian",
          "Asian",
          "Asian",
          "Asian",
          "Asian",
          "Asian",
          "Asian",
          "Asian",
          "Asian",
          "Asian",
          "Asian",
          "White",
          "White",
          "White",
          "Asian",
          "Black or African American",
          "Black or African American",
          "Black or African American",
          "Black or African American",
          "Black or African American",
          "Black or African American",
          "Black or African American",
          "Black or African American",
          "Black or African American",
          "Black or African American",
          "Black or African American",
          "Black or African American",
          "Black or African American",
          "Black or African American",
          "Black or African American",
          "Black or African American",
          "Black or African American",
          "Black or African American",
          "Black or African American",
          "Black or African American",
          "Asian",
          "Black or African American",
          "Black or African American",
          "Black or African American",
          "Black or African American",
          "Black or African American",
          "Native Hawaiian and Other Pacific Islander",
          "Native Hawaiian and Other Pacific Islander",
          "Native Hawaiian and Other Pacific Islander",
          "Native Hawaiian and Other Pacific Islander",
          "Native Hawaiian and Other Pacific Islander",
          "Native Hawaiian and Other Pacific Islander",
          "Native Hawaiian and Other Pacific Islander",
          "Native Hawaiian and Other Pacific Islander",
          "Native Hawaiian and Other Pacific Islander",
          "Native Hawaiian and Other Pacific Islander",
          "Native Hawaiian and Other Pacific Islander",
          "Native Hawaiian and Other Pacific Islander",
          "Native Hawaiian and Other Pacific Islander",
          "Native Hawaiian and Other Pacific Islander",
          "Native Hawaiian and Other Pacific Islander",
          "Native Hawaiian and Other Pacific Islander",
          "Native Hawaiian and Other Pacific Islander",
          "Native Hawaiian and Other Pacific Islander",
          "Native Hawaiian and Other Pacific Islander",
          "Native Hawaiian and Other Pacific Islander",
          "Native Hawaiian and Other Pacific Islander",
          "Native Hawaiian and Other Pacific Islander",
          "Native Hawaiian and Other Pacific Islander",
          "Black or African American",
          "Native Hawaiian and Other Pacific Islander",
          "Black or African American",
          "Native Hawaiian and Other Pacific Islander",
          "American Indian and Alaska Native",
          "American Indian and Alaska Native",
          "American Indian and Alaska Native",
          "American Indian and Alaska Native",
          "American Indian and Alaska Native",
          "American Indian and Alaska Native",
          "American Indian and Alaska Native",
          "American Indian and Alaska Native",
          "American Indian and Alaska Native",
          "American Indian and Alaska Native",
          "American Indian and Alaska Native",
          "American Indian and Alaska Native",
          "American Indian and Alaska Native",
          "American Indian and Alaska Native",
          "American Indian and Alaska Native",
          "American Indian and Alaska Native",
          "American Indian and Alaska Native",
          "American Indian and Alaska Native",
          "Asian",
          "Native Hawaiian and Other Pacific Islander",
          "White",
          "Black or African American",
          "American Indian and Alaska Native",
          "White",
          "Asian",
          "Native Hawaiian and Other Pacific Islander",
          "White",
          "Black or African American",
          "American Indian and Alaska Native"
         ],
         "xaxis": "x",
         "y": [
          493,
          0,
          0,
          1167,
          0,
          1305,
          847567,
          0,
          180210,
          129127,
          136095,
          109022,
          66529,
          77498,
          0,
          0,
          1297,
          794,
          1136,
          5824,
          11608,
          26120,
          79187,
          84084,
          106983,
          531830,
          63755,
          69397,
          68320,
          144646,
          155137,
          346312,
          0,
          112115,
          0,
          17983,
          14550,
          11187,
          18100,
          0,
          7189,
          0,
          10871,
          0,
          103,
          467,
          605,
          1861,
          6690,
          6746,
          9238,
          86263,
          4361,
          19063,
          9574,
          26668,
          18709,
          33740,
          50106,
          0,
          796912,
          0,
          29019,
          0,
          6866,
          4634,
          2378,
          0,
          5726,
          4176,
          1549,
          0,
          23,
          0,
          572,
          773,
          636,
          2788,
          4116,
          2090,
          17860,
          2294,
          109864,
          3937,
          3121,
          6859,
          4823,
          7985,
          1602,
          0,
          275,
          0,
          0,
          0,
          0,
          0,
          0,
          0,
          0,
          0,
          0,
          56,
          0,
          22,
          1301,
          0,
          0,
          0,
          51,
          0,
          611,
          2031,
          0,
          26988,
          1591,
          0,
          0,
          1559,
          1938,
          0,
          700,
          387,
          0,
          0,
          0,
          0,
          8,
          0,
          125,
          543,
          1071,
          1262,
          0,
          658,
          216,
          835182,
          25576,
          0,
          0,
          111457,
          1385,
          11025,
          0,
          0
         ],
         "yaxis": "y"
        },
        {
         "alignmentgroup": "True",
         "bingroup": "x",
         "histfunc": "sum",
         "hovertemplate": "Gender=Male<br>Race Group=%{x}<br>sum of Employees=%{y}<extra></extra>",
         "legendgroup": "Male",
         "marker": {
          "color": "blue",
          "pattern": {
           "shape": ""
          }
         },
         "name": "Male",
         "offsetgroup": "Male",
         "orientation": "v",
         "showlegend": true,
         "type": "histogram",
         "x": [
          "American Indian and Alaska Native",
          "American Indian and Alaska Native",
          "American Indian and Alaska Native",
          "American Indian and Alaska Native",
          "American Indian and Alaska Native",
          "American Indian and Alaska Native",
          "American Indian and Alaska Native",
          "American Indian and Alaska Native",
          "American Indian and Alaska Native",
          "American Indian and Alaska Native",
          "American Indian and Alaska Native",
          "American Indian and Alaska Native",
          "American Indian and Alaska Native",
          "American Indian and Alaska Native",
          "American Indian and Alaska Native",
          "American Indian and Alaska Native",
          "American Indian and Alaska Native",
          "American Indian and Alaska Native",
          "American Indian and Alaska Native",
          "American Indian and Alaska Native",
          "American Indian and Alaska Native",
          "American Indian and Alaska Native",
          "American Indian and Alaska Native",
          "American Indian and Alaska Native",
          "American Indian and Alaska Native",
          "American Indian and Alaska Native",
          "White",
          "White",
          "White",
          "White",
          "White",
          "White",
          "White",
          "White",
          "White",
          "White",
          "White",
          "White",
          "White",
          "White",
          "White",
          "White",
          "White",
          "White",
          "White",
          "White",
          "White",
          "White",
          "White",
          "White",
          "White",
          "American Indian and Alaska Native",
          "Asian",
          "White",
          "Asian",
          "Asian",
          "Asian",
          "Asian",
          "Asian",
          "Asian",
          "Asian",
          "Asian",
          "Asian",
          "Asian",
          "Asian",
          "Asian",
          "Asian",
          "Asian",
          "Asian",
          "Asian",
          "Asian",
          "Asian",
          "Asian",
          "Asian",
          "Asian",
          "Asian",
          "Asian",
          "Asian",
          "White",
          "White",
          "Asian",
          "Asian",
          "Black or African American",
          "Black or African American",
          "Black or African American",
          "Black or African American",
          "Black or African American",
          "Black or African American",
          "Black or African American",
          "Black or African American",
          "Black or African American",
          "Black or African American",
          "Black or African American",
          "Black or African American",
          "Black or African American",
          "Black or African American",
          "Black or African American",
          "Black or African American",
          "Black or African American",
          "Black or African American",
          "Black or African American",
          "Black or African American",
          "Black or African American",
          "Black or African American",
          "Black or African American",
          "Black or African American",
          "Black or African American",
          "Native Hawaiian and Other Pacific Islander",
          "Native Hawaiian and Other Pacific Islander",
          "Native Hawaiian and Other Pacific Islander",
          "Native Hawaiian and Other Pacific Islander",
          "Native Hawaiian and Other Pacific Islander",
          "Native Hawaiian and Other Pacific Islander",
          "Native Hawaiian and Other Pacific Islander",
          "Native Hawaiian and Other Pacific Islander",
          "Native Hawaiian and Other Pacific Islander",
          "Native Hawaiian and Other Pacific Islander",
          "Native Hawaiian and Other Pacific Islander",
          "Native Hawaiian and Other Pacific Islander",
          "Black or African American",
          "Native Hawaiian and Other Pacific Islander",
          "Native Hawaiian and Other Pacific Islander",
          "Native Hawaiian and Other Pacific Islander",
          "Native Hawaiian and Other Pacific Islander",
          "Native Hawaiian and Other Pacific Islander",
          "Native Hawaiian and Other Pacific Islander",
          "Native Hawaiian and Other Pacific Islander",
          "Native Hawaiian and Other Pacific Islander",
          "Native Hawaiian and Other Pacific Islander",
          "Native Hawaiian and Other Pacific Islander",
          "Native Hawaiian and Other Pacific Islander",
          "Native Hawaiian and Other Pacific Islander",
          "Native Hawaiian and Other Pacific Islander",
          "Black or African American",
          "Native Hawaiian and Other Pacific Islander",
          "Asian",
          "Native Hawaiian and Other Pacific Islander",
          "White",
          "Black or African American",
          "American Indian and Alaska Native",
          "White",
          "Asian",
          "Black or African American",
          "American Indian and Alaska Native",
          "Native Hawaiian and Other Pacific Islander",
          "Asian",
          "Native Hawaiian and Other Pacific Islander",
          "White",
          "Black or African American",
          "American Indian and Alaska Native"
         ],
         "xaxis": "x",
         "y": [
          14068,
          0,
          2487,
          1572,
          0,
          2036,
          803,
          0,
          1974,
          0,
          0,
          0,
          0,
          127,
          318,
          1090,
          1227,
          1503,
          9750,
          2138,
          592,
          847,
          2506,
          2422,
          5563,
          0,
          3532829,
          0,
          489343,
          398921,
          487041,
          613634,
          357946,
          436930,
          308750,
          440265,
          6693,
          4370,
          10120,
          28085,
          49026,
          161037,
          226185,
          299158,
          2748156,
          163821,
          211649,
          250797,
          594406,
          514570,
          1797586,
          12808,
          294115,
          124866,
          0,
          35484,
          25470,
          32634,
          46627,
          33347,
          53011,
          25945,
          41597,
          460,
          627,
          546,
          1406,
          3890,
          12700,
          14797,
          18887,
          240802,
          12122,
          21838,
          28946,
          50258,
          54238,
          126712,
          11480,
          3396483,
          585,
          293530,
          66287,
          0,
          11092,
          9098,
          8666,
          9259,
          9887,
          7678,
          2862,
          7744,
          138,
          55,
          207,
          456,
          1288,
          4091,
          5270,
          10295,
          44488,
          5538,
          6354,
          7121,
          10488,
          11826,
          24960,
          2984,
          0,
          0,
          0,
          286,
          392,
          389,
          575,
          0,
          0,
          0,
          5,
          3043,
          7,
          37,
          321,
          0,
          0,
          1991,
          0,
          0,
          0,
          0,
          857,
          1138,
          0,
          63244,
          2583,
          7082,
          454,
          3151566,
          54099,
          11427,
          35349,
          286923,
          0,
          0,
          2473,
          0,
          0,
          345915,
          12130,
          2533
         ],
         "yaxis": "y"
        }
       ],
       "layout": {
        "barmode": "group",
        "legend": {
         "title": {
          "text": "Gender"
         },
         "tracegroupgap": 0
        },
        "template": {
         "data": {
          "bar": [
           {
            "error_x": {
             "color": "#2a3f5f"
            },
            "error_y": {
             "color": "#2a3f5f"
            },
            "marker": {
             "line": {
              "color": "#E5ECF6",
              "width": 0.5
             },
             "pattern": {
              "fillmode": "overlay",
              "size": 10,
              "solidity": 0.2
             }
            },
            "type": "bar"
           }
          ],
          "barpolar": [
           {
            "marker": {
             "line": {
              "color": "#E5ECF6",
              "width": 0.5
             },
             "pattern": {
              "fillmode": "overlay",
              "size": 10,
              "solidity": 0.2
             }
            },
            "type": "barpolar"
           }
          ],
          "carpet": [
           {
            "aaxis": {
             "endlinecolor": "#2a3f5f",
             "gridcolor": "white",
             "linecolor": "white",
             "minorgridcolor": "white",
             "startlinecolor": "#2a3f5f"
            },
            "baxis": {
             "endlinecolor": "#2a3f5f",
             "gridcolor": "white",
             "linecolor": "white",
             "minorgridcolor": "white",
             "startlinecolor": "#2a3f5f"
            },
            "type": "carpet"
           }
          ],
          "choropleth": [
           {
            "colorbar": {
             "outlinewidth": 0,
             "ticks": ""
            },
            "type": "choropleth"
           }
          ],
          "contour": [
           {
            "colorbar": {
             "outlinewidth": 0,
             "ticks": ""
            },
            "colorscale": [
             [
              0,
              "#0d0887"
             ],
             [
              0.1111111111111111,
              "#46039f"
             ],
             [
              0.2222222222222222,
              "#7201a8"
             ],
             [
              0.3333333333333333,
              "#9c179e"
             ],
             [
              0.4444444444444444,
              "#bd3786"
             ],
             [
              0.5555555555555556,
              "#d8576b"
             ],
             [
              0.6666666666666666,
              "#ed7953"
             ],
             [
              0.7777777777777778,
              "#fb9f3a"
             ],
             [
              0.8888888888888888,
              "#fdca26"
             ],
             [
              1,
              "#f0f921"
             ]
            ],
            "type": "contour"
           }
          ],
          "contourcarpet": [
           {
            "colorbar": {
             "outlinewidth": 0,
             "ticks": ""
            },
            "type": "contourcarpet"
           }
          ],
          "heatmap": [
           {
            "colorbar": {
             "outlinewidth": 0,
             "ticks": ""
            },
            "colorscale": [
             [
              0,
              "#0d0887"
             ],
             [
              0.1111111111111111,
              "#46039f"
             ],
             [
              0.2222222222222222,
              "#7201a8"
             ],
             [
              0.3333333333333333,
              "#9c179e"
             ],
             [
              0.4444444444444444,
              "#bd3786"
             ],
             [
              0.5555555555555556,
              "#d8576b"
             ],
             [
              0.6666666666666666,
              "#ed7953"
             ],
             [
              0.7777777777777778,
              "#fb9f3a"
             ],
             [
              0.8888888888888888,
              "#fdca26"
             ],
             [
              1,
              "#f0f921"
             ]
            ],
            "type": "heatmap"
           }
          ],
          "heatmapgl": [
           {
            "colorbar": {
             "outlinewidth": 0,
             "ticks": ""
            },
            "colorscale": [
             [
              0,
              "#0d0887"
             ],
             [
              0.1111111111111111,
              "#46039f"
             ],
             [
              0.2222222222222222,
              "#7201a8"
             ],
             [
              0.3333333333333333,
              "#9c179e"
             ],
             [
              0.4444444444444444,
              "#bd3786"
             ],
             [
              0.5555555555555556,
              "#d8576b"
             ],
             [
              0.6666666666666666,
              "#ed7953"
             ],
             [
              0.7777777777777778,
              "#fb9f3a"
             ],
             [
              0.8888888888888888,
              "#fdca26"
             ],
             [
              1,
              "#f0f921"
             ]
            ],
            "type": "heatmapgl"
           }
          ],
          "histogram": [
           {
            "marker": {
             "pattern": {
              "fillmode": "overlay",
              "size": 10,
              "solidity": 0.2
             }
            },
            "type": "histogram"
           }
          ],
          "histogram2d": [
           {
            "colorbar": {
             "outlinewidth": 0,
             "ticks": ""
            },
            "colorscale": [
             [
              0,
              "#0d0887"
             ],
             [
              0.1111111111111111,
              "#46039f"
             ],
             [
              0.2222222222222222,
              "#7201a8"
             ],
             [
              0.3333333333333333,
              "#9c179e"
             ],
             [
              0.4444444444444444,
              "#bd3786"
             ],
             [
              0.5555555555555556,
              "#d8576b"
             ],
             [
              0.6666666666666666,
              "#ed7953"
             ],
             [
              0.7777777777777778,
              "#fb9f3a"
             ],
             [
              0.8888888888888888,
              "#fdca26"
             ],
             [
              1,
              "#f0f921"
             ]
            ],
            "type": "histogram2d"
           }
          ],
          "histogram2dcontour": [
           {
            "colorbar": {
             "outlinewidth": 0,
             "ticks": ""
            },
            "colorscale": [
             [
              0,
              "#0d0887"
             ],
             [
              0.1111111111111111,
              "#46039f"
             ],
             [
              0.2222222222222222,
              "#7201a8"
             ],
             [
              0.3333333333333333,
              "#9c179e"
             ],
             [
              0.4444444444444444,
              "#bd3786"
             ],
             [
              0.5555555555555556,
              "#d8576b"
             ],
             [
              0.6666666666666666,
              "#ed7953"
             ],
             [
              0.7777777777777778,
              "#fb9f3a"
             ],
             [
              0.8888888888888888,
              "#fdca26"
             ],
             [
              1,
              "#f0f921"
             ]
            ],
            "type": "histogram2dcontour"
           }
          ],
          "mesh3d": [
           {
            "colorbar": {
             "outlinewidth": 0,
             "ticks": ""
            },
            "type": "mesh3d"
           }
          ],
          "parcoords": [
           {
            "line": {
             "colorbar": {
              "outlinewidth": 0,
              "ticks": ""
             }
            },
            "type": "parcoords"
           }
          ],
          "pie": [
           {
            "automargin": true,
            "type": "pie"
           }
          ],
          "scatter": [
           {
            "marker": {
             "colorbar": {
              "outlinewidth": 0,
              "ticks": ""
             }
            },
            "type": "scatter"
           }
          ],
          "scatter3d": [
           {
            "line": {
             "colorbar": {
              "outlinewidth": 0,
              "ticks": ""
             }
            },
            "marker": {
             "colorbar": {
              "outlinewidth": 0,
              "ticks": ""
             }
            },
            "type": "scatter3d"
           }
          ],
          "scattercarpet": [
           {
            "marker": {
             "colorbar": {
              "outlinewidth": 0,
              "ticks": ""
             }
            },
            "type": "scattercarpet"
           }
          ],
          "scattergeo": [
           {
            "marker": {
             "colorbar": {
              "outlinewidth": 0,
              "ticks": ""
             }
            },
            "type": "scattergeo"
           }
          ],
          "scattergl": [
           {
            "marker": {
             "colorbar": {
              "outlinewidth": 0,
              "ticks": ""
             }
            },
            "type": "scattergl"
           }
          ],
          "scattermapbox": [
           {
            "marker": {
             "colorbar": {
              "outlinewidth": 0,
              "ticks": ""
             }
            },
            "type": "scattermapbox"
           }
          ],
          "scatterpolar": [
           {
            "marker": {
             "colorbar": {
              "outlinewidth": 0,
              "ticks": ""
             }
            },
            "type": "scatterpolar"
           }
          ],
          "scatterpolargl": [
           {
            "marker": {
             "colorbar": {
              "outlinewidth": 0,
              "ticks": ""
             }
            },
            "type": "scatterpolargl"
           }
          ],
          "scatterternary": [
           {
            "marker": {
             "colorbar": {
              "outlinewidth": 0,
              "ticks": ""
             }
            },
            "type": "scatterternary"
           }
          ],
          "surface": [
           {
            "colorbar": {
             "outlinewidth": 0,
             "ticks": ""
            },
            "colorscale": [
             [
              0,
              "#0d0887"
             ],
             [
              0.1111111111111111,
              "#46039f"
             ],
             [
              0.2222222222222222,
              "#7201a8"
             ],
             [
              0.3333333333333333,
              "#9c179e"
             ],
             [
              0.4444444444444444,
              "#bd3786"
             ],
             [
              0.5555555555555556,
              "#d8576b"
             ],
             [
              0.6666666666666666,
              "#ed7953"
             ],
             [
              0.7777777777777778,
              "#fb9f3a"
             ],
             [
              0.8888888888888888,
              "#fdca26"
             ],
             [
              1,
              "#f0f921"
             ]
            ],
            "type": "surface"
           }
          ],
          "table": [
           {
            "cells": {
             "fill": {
              "color": "#EBF0F8"
             },
             "line": {
              "color": "white"
             }
            },
            "header": {
             "fill": {
              "color": "#C8D4E3"
             },
             "line": {
              "color": "white"
             }
            },
            "type": "table"
           }
          ]
         },
         "layout": {
          "annotationdefaults": {
           "arrowcolor": "#2a3f5f",
           "arrowhead": 0,
           "arrowwidth": 1
          },
          "autotypenumbers": "strict",
          "coloraxis": {
           "colorbar": {
            "outlinewidth": 0,
            "ticks": ""
           }
          },
          "colorscale": {
           "diverging": [
            [
             0,
             "#8e0152"
            ],
            [
             0.1,
             "#c51b7d"
            ],
            [
             0.2,
             "#de77ae"
            ],
            [
             0.3,
             "#f1b6da"
            ],
            [
             0.4,
             "#fde0ef"
            ],
            [
             0.5,
             "#f7f7f7"
            ],
            [
             0.6,
             "#e6f5d0"
            ],
            [
             0.7,
             "#b8e186"
            ],
            [
             0.8,
             "#7fbc41"
            ],
            [
             0.9,
             "#4d9221"
            ],
            [
             1,
             "#276419"
            ]
           ],
           "sequential": [
            [
             0,
             "#0d0887"
            ],
            [
             0.1111111111111111,
             "#46039f"
            ],
            [
             0.2222222222222222,
             "#7201a8"
            ],
            [
             0.3333333333333333,
             "#9c179e"
            ],
            [
             0.4444444444444444,
             "#bd3786"
            ],
            [
             0.5555555555555556,
             "#d8576b"
            ],
            [
             0.6666666666666666,
             "#ed7953"
            ],
            [
             0.7777777777777778,
             "#fb9f3a"
            ],
            [
             0.8888888888888888,
             "#fdca26"
            ],
            [
             1,
             "#f0f921"
            ]
           ],
           "sequentialminus": [
            [
             0,
             "#0d0887"
            ],
            [
             0.1111111111111111,
             "#46039f"
            ],
            [
             0.2222222222222222,
             "#7201a8"
            ],
            [
             0.3333333333333333,
             "#9c179e"
            ],
            [
             0.4444444444444444,
             "#bd3786"
            ],
            [
             0.5555555555555556,
             "#d8576b"
            ],
            [
             0.6666666666666666,
             "#ed7953"
            ],
            [
             0.7777777777777778,
             "#fb9f3a"
            ],
            [
             0.8888888888888888,
             "#fdca26"
            ],
            [
             1,
             "#f0f921"
            ]
           ]
          },
          "colorway": [
           "#636efa",
           "#EF553B",
           "#00cc96",
           "#ab63fa",
           "#FFA15A",
           "#19d3f3",
           "#FF6692",
           "#B6E880",
           "#FF97FF",
           "#FECB52"
          ],
          "font": {
           "color": "#2a3f5f"
          },
          "geo": {
           "bgcolor": "white",
           "lakecolor": "white",
           "landcolor": "#E5ECF6",
           "showlakes": true,
           "showland": true,
           "subunitcolor": "white"
          },
          "hoverlabel": {
           "align": "left"
          },
          "hovermode": "closest",
          "mapbox": {
           "style": "light"
          },
          "paper_bgcolor": "white",
          "plot_bgcolor": "#E5ECF6",
          "polar": {
           "angularaxis": {
            "gridcolor": "white",
            "linecolor": "white",
            "ticks": ""
           },
           "bgcolor": "#E5ECF6",
           "radialaxis": {
            "gridcolor": "white",
            "linecolor": "white",
            "ticks": ""
           }
          },
          "scene": {
           "xaxis": {
            "backgroundcolor": "#E5ECF6",
            "gridcolor": "white",
            "gridwidth": 2,
            "linecolor": "white",
            "showbackground": true,
            "ticks": "",
            "zerolinecolor": "white"
           },
           "yaxis": {
            "backgroundcolor": "#E5ECF6",
            "gridcolor": "white",
            "gridwidth": 2,
            "linecolor": "white",
            "showbackground": true,
            "ticks": "",
            "zerolinecolor": "white"
           },
           "zaxis": {
            "backgroundcolor": "#E5ECF6",
            "gridcolor": "white",
            "gridwidth": 2,
            "linecolor": "white",
            "showbackground": true,
            "ticks": "",
            "zerolinecolor": "white"
           }
          },
          "shapedefaults": {
           "line": {
            "color": "#2a3f5f"
           }
          },
          "ternary": {
           "aaxis": {
            "gridcolor": "white",
            "linecolor": "white",
            "ticks": ""
           },
           "baxis": {
            "gridcolor": "white",
            "linecolor": "white",
            "ticks": ""
           },
           "bgcolor": "#E5ECF6",
           "caxis": {
            "gridcolor": "white",
            "linecolor": "white",
            "ticks": ""
           }
          },
          "title": {
           "x": 0.05
          },
          "xaxis": {
           "automargin": true,
           "gridcolor": "white",
           "linecolor": "white",
           "ticks": "",
           "title": {
            "standoff": 15
           },
           "zerolinecolor": "white",
           "zerolinewidth": 2
          },
          "yaxis": {
           "automargin": true,
           "gridcolor": "white",
           "linecolor": "white",
           "ticks": "",
           "title": {
            "standoff": 15
           },
           "zerolinecolor": "white",
           "zerolinewidth": 2
          }
         }
        },
        "title": {
         "text": "Count of Tech Employees by Race and Gender",
         "x": 0.5,
         "xanchor": "center",
         "y": 0.9,
         "yanchor": "top"
        },
        "width": 1000,
        "xaxis": {
         "anchor": "y",
         "domain": [
          0,
          1
         ],
         "title": {
          "text": "Race Group"
         }
        },
        "yaxis": {
         "anchor": "x",
         "domain": [
          0,
          1
         ],
         "title": {
          "text": "sum of Employees"
         }
        }
       }
      }
     },
     "metadata": {}
    }
   ],
   "source": [
    "comp_summary_tech_df['EMP'] = comp_summary_tech_df['EMP'].astype(int)\n",
    "\n",
    "fig = px.histogram(comp_summary_tech_df, color='SEX_LABEL', x='RACE_GROUP_LABEL', y='EMP', barmode='group', title='Count of Tech Employees by Race and Gender', labels={'SEX_LABEL':'Gender', 'RACE_GROUP_LABEL':'Race Group', 'EMP':'Employees'}, color_discrete_map={'Male': 'blue','Female': 'red'})\n",
    "fig.update_layout(\n",
    "    title={        \n",
    "        'y':0.9,\n",
    "        'x':0.5,\n",
    "        'xanchor': 'center',\n",
    "        'yanchor': 'top'},\n",
    "    width = 1000)\n",
    "fig.show()"
   ]
  },
  {
   "cell_type": "code",
   "execution_count": null,
   "metadata": {},
   "outputs": [],
   "source": [
    "ints_tech_char_df = tech_char_df[['FIRMPDEMP', 'EMP', 'PAYANN']]\n",
    "ints_tech_char_df['PAYANN'] = ints_tech_char_df['PAYANN'].astype(int)\n",
    "ints_tech_char_df['EMP'] = ints_tech_char_df['EMP'].astype(int)\n",
    "ints_tech_char_df['FIRMPDEMP'] = ints_tech_char_df['FIRMPDEMP'].astype(int)\n",
    "fig = px.scatter_matrix(ints_tech_char_df, title='Scatter Matrix of Number Firms, Employees, and Annual Pay', labels={'FIRMPDEMP':'Number of Employer Firms', 'PAYANN':'Annual Payroll ($1000)', 'EMP':'Number of Employees'})\n",
    "fig.update_layout(\n",
    "    title={        \n",
    "        'y':0.9,\n",
    "        'x':0.5,\n",
    "        'xanchor': 'center',\n",
    "        'yanchor': 'top'},\n",
    "    width=1000,\n",
    "    height=800,\n",
    "    )\n",
    "fig.show()"
   ]
  },
  {
   "cell_type": "code",
   "execution_count": 42,
   "metadata": {},
   "outputs": [
    {
     "output_type": "stream",
     "name": "stderr",
     "text": [
      "<ipython-input-42-7776a7c5494c>:2: SettingWithCopyWarning:\n\n\nA value is trying to be set on a copy of a slice from a DataFrame.\nTry using .loc[row_indexer,col_indexer] = value instead\n\nSee the caveats in the documentation: https://pandas.pydata.org/pandas-docs/stable/user_guide/indexing.html#returning-a-view-versus-a-copy\n\n<ipython-input-42-7776a7c5494c>:3: SettingWithCopyWarning:\n\n\nA value is trying to be set on a copy of a slice from a DataFrame.\nTry using .loc[row_indexer,col_indexer] = value instead\n\nSee the caveats in the documentation: https://pandas.pydata.org/pandas-docs/stable/user_guide/indexing.html#returning-a-view-versus-a-copy\n\n<ipython-input-42-7776a7c5494c>:4: SettingWithCopyWarning:\n\n\nA value is trying to be set on a copy of a slice from a DataFrame.\nTry using .loc[row_indexer,col_indexer] = value instead\n\nSee the caveats in the documentation: https://pandas.pydata.org/pandas-docs/stable/user_guide/indexing.html#returning-a-view-versus-a-copy\n\n"
     ]
    },
    {
     "output_type": "display_data",
     "data": {
      "application/vnd.plotly.v1+json": {
       "config": {
        "plotlyServerURL": "https://plot.ly"
       },
       "data": [
        {
         "dimensions": [
          {
           "axis": {
            "matches": true
           },
           "label": "Number of Employer Firms",
           "values": [
            8800,
            197109,
            430879,
            683989,
            23653,
            4073,
            1535,
            1171,
            3459,
            1881,
            2814,
            4247,
            346663,
            303654,
            683083,
            27567,
            3215,
            1562,
            1261,
            4087,
            2751,
            3461,
            7656,
            295695,
            349615,
            686590,
            23764,
            10646,
            2652,
            359,
            24311,
            11016,
            3140,
            538,
            24364,
            10298,
            38339,
            18154,
            3136,
            170236,
            173266,
            17263,
            4693,
            230099,
            112735,
            14176,
            2570,
            227147,
            120899,
            21254,
            4874,
            233829,
            104837,
            364794,
            18867,
            4292,
            195843,
            180026,
            15097,
            4937,
            253691,
            125303,
            12451,
            2586,
            253292,
            130699,
            18346,
            4851,
            257008,
            118823,
            399029,
            1269,
            359,
            9619,
            4705,
            699,
            161,
            11297,
            3794,
            577,
            122,
            11747,
            3505,
            711,
            150,
            11609,
            3483,
            15952,
            6774,
            1420,
            61630,
            37198,
            5073,
            1300,
            74671,
            25975,
            4724,
            774,
            74643,
            26881,
            5518,
            1277,
            74083,
            26142,
            107022,
            3617,
            410,
            18219,
            16095,
            3055,
            876,
            30181,
            16338,
            4692,
            2930,
            8411,
            3194,
            5865,
            7874,
            317711,
            316296,
            686310,
            30654,
            6847,
            3177,
            2429,
            6951,
            5301,
            26343,
            7861,
            194082,
            420178,
            684532,
            34106,
            4099,
            2420,
            1809,
            7259,
            4700,
            7450
           ]
          },
          {
           "axis": {
            "matches": true
           },
           "label": "Number of Employees",
           "values": [
            169328,
            1618804,
            4870980,
            7241176,
            386921,
            321167,
            90267,
            72875,
            209129,
            88967,
            189229,
            111040,
            3144603,
            3498609,
            7221953,
            452470,
            205525,
            94366,
            95829,
            159858,
            148989,
            168889,
            183257,
            2517929,
            4126058,
            7245226,
            797742,
            164495,
            255702,
            58777,
            934417,
            90834,
            273590,
            98809,
            875056,
            92275,
            1339730,
            477837,
            88907,
            2213275,
            1966175,
            744574,
            144049,
            3046194,
            811377,
            708276,
            120812,
            3340482,
            576623,
            852036,
            193180,
            3221752,
            479226,
            4746194,
            513772,
            105960,
            2313761,
            1915236,
            724440,
            169492,
            3223771,
            731026,
            642957,
            98762,
            3541160,
            565850,
            764698,
            164031,
            3451329,
            468672,
            4848729,
            88878,
            53187,
            647371,
            321894,
            231354,
            54370,
            765033,
            60573,
            153029,
            44962,
            867726,
            45614,
            186522,
            63674,
            818812,
            42323,
            1111330,
            259323,
            65192,
            1164325,
            452225,
            353540,
            77070,
            1352254,
            158202,
            334153,
            50701,
            1423175,
            133036,
            369922,
            85918,
            1344619,
            140606,
            1941066,
            130094,
            47957,
            699588,
            462091,
            265507,
            111985,
            497666,
            590673,
            187811,
            158664,
            388334,
            143288,
            259111,
            214063,
            2680034,
            3631314,
            7249029,
            439411,
            211662,
            91019,
            74243,
            176722,
            138208,
            489972,
            201936,
            1523615,
            4790650,
            7244030,
            490132,
            176708,
            81720,
            82152,
            224739,
            193248,
            262138
           ]
          },
          {
           "axis": {
            "matches": true
           },
           "label": "Annual Payroll ($1000)",
           "values": [
            18410761,
            133555531,
            433573054,
            631988238,
            34610063,
            34283514,
            10508152,
            8842757,
            24687482,
            9926144,
            20751484,
            13026743,
            260899274,
            317944586,
            630618484,
            37293221,
            22645712,
            12111163,
            11547875,
            17867070,
            16954420,
            17968987,
            19253154,
            211155365,
            370332007,
            631425011,
            90352080,
            20315595,
            30008977,
            8086644,
            104477038,
            12490672,
            31634524,
            12254681,
            98012652,
            13161475,
            155063332,
            40968271,
            10203097,
            201811559,
            174481059,
            70324960,
            15657366,
            275188660,
            66292999,
            66172844,
            13329827,
            307190919,
            40770397,
            76711551,
            20730905,
            289816873,
            40204658,
            427463986,
            42691462,
            11657746,
            205823417,
            166824118,
            67348360,
            17766084,
            284184039,
            57698260,
            60477424,
            10270329,
            316345233,
            39903758,
            72541920,
            16927736,
            298403130,
            39123958,
            426996744,
            8977486,
            8834545,
            74342572,
            37186947,
            28479321,
            8021404,
            85143618,
            7697207,
            18752586,
            6988699,
            97227444,
            6372821,
            22664630,
            9130119,
            91273546,
            6273255,
            129341550,
            19830929,
            9109172,
            104040923,
            43592830,
            33207986,
            11404600,
            116681492,
            15279777,
            31756151,
            7593652,
            125079039,
            12145013,
            34545359,
            11853004,
            116446720,
            13728771,
            176573854,
            13721452,
            7331469,
            80751584,
            53258826,
            29917939,
            14477717,
            42162598,
            64797903,
            22288644,
            19730112,
            40924905,
            17300342,
            29101294,
            22694578,
            216261620,
            329032282,
            632438841,
            38759908,
            23677619,
            10098422,
            8442753,
            18521365,
            15752675,
            49645039,
            21119052,
            124119401,
            428078423,
            632258388,
            41780659,
            19754668,
            9715338,
            9586285,
            23805839,
            21957684,
            29416393
           ]
          }
         ],
         "hovertemplate": "%{xaxis.title.text}=%{x}<br>%{yaxis.title.text}=%{y}<extra></extra>",
         "legendgroup": "",
         "marker": {
          "color": "#636efa",
          "symbol": "circle"
         },
         "name": "",
         "showlegend": false,
         "type": "splom"
        }
       ],
       "layout": {
        "dragmode": "select",
        "height": 800,
        "legend": {
         "tracegroupgap": 0
        },
        "template": {
         "data": {
          "bar": [
           {
            "error_x": {
             "color": "#2a3f5f"
            },
            "error_y": {
             "color": "#2a3f5f"
            },
            "marker": {
             "line": {
              "color": "#E5ECF6",
              "width": 0.5
             },
             "pattern": {
              "fillmode": "overlay",
              "size": 10,
              "solidity": 0.2
             }
            },
            "type": "bar"
           }
          ],
          "barpolar": [
           {
            "marker": {
             "line": {
              "color": "#E5ECF6",
              "width": 0.5
             },
             "pattern": {
              "fillmode": "overlay",
              "size": 10,
              "solidity": 0.2
             }
            },
            "type": "barpolar"
           }
          ],
          "carpet": [
           {
            "aaxis": {
             "endlinecolor": "#2a3f5f",
             "gridcolor": "white",
             "linecolor": "white",
             "minorgridcolor": "white",
             "startlinecolor": "#2a3f5f"
            },
            "baxis": {
             "endlinecolor": "#2a3f5f",
             "gridcolor": "white",
             "linecolor": "white",
             "minorgridcolor": "white",
             "startlinecolor": "#2a3f5f"
            },
            "type": "carpet"
           }
          ],
          "choropleth": [
           {
            "colorbar": {
             "outlinewidth": 0,
             "ticks": ""
            },
            "type": "choropleth"
           }
          ],
          "contour": [
           {
            "colorbar": {
             "outlinewidth": 0,
             "ticks": ""
            },
            "colorscale": [
             [
              0,
              "#0d0887"
             ],
             [
              0.1111111111111111,
              "#46039f"
             ],
             [
              0.2222222222222222,
              "#7201a8"
             ],
             [
              0.3333333333333333,
              "#9c179e"
             ],
             [
              0.4444444444444444,
              "#bd3786"
             ],
             [
              0.5555555555555556,
              "#d8576b"
             ],
             [
              0.6666666666666666,
              "#ed7953"
             ],
             [
              0.7777777777777778,
              "#fb9f3a"
             ],
             [
              0.8888888888888888,
              "#fdca26"
             ],
             [
              1,
              "#f0f921"
             ]
            ],
            "type": "contour"
           }
          ],
          "contourcarpet": [
           {
            "colorbar": {
             "outlinewidth": 0,
             "ticks": ""
            },
            "type": "contourcarpet"
           }
          ],
          "heatmap": [
           {
            "colorbar": {
             "outlinewidth": 0,
             "ticks": ""
            },
            "colorscale": [
             [
              0,
              "#0d0887"
             ],
             [
              0.1111111111111111,
              "#46039f"
             ],
             [
              0.2222222222222222,
              "#7201a8"
             ],
             [
              0.3333333333333333,
              "#9c179e"
             ],
             [
              0.4444444444444444,
              "#bd3786"
             ],
             [
              0.5555555555555556,
              "#d8576b"
             ],
             [
              0.6666666666666666,
              "#ed7953"
             ],
             [
              0.7777777777777778,
              "#fb9f3a"
             ],
             [
              0.8888888888888888,
              "#fdca26"
             ],
             [
              1,
              "#f0f921"
             ]
            ],
            "type": "heatmap"
           }
          ],
          "heatmapgl": [
           {
            "colorbar": {
             "outlinewidth": 0,
             "ticks": ""
            },
            "colorscale": [
             [
              0,
              "#0d0887"
             ],
             [
              0.1111111111111111,
              "#46039f"
             ],
             [
              0.2222222222222222,
              "#7201a8"
             ],
             [
              0.3333333333333333,
              "#9c179e"
             ],
             [
              0.4444444444444444,
              "#bd3786"
             ],
             [
              0.5555555555555556,
              "#d8576b"
             ],
             [
              0.6666666666666666,
              "#ed7953"
             ],
             [
              0.7777777777777778,
              "#fb9f3a"
             ],
             [
              0.8888888888888888,
              "#fdca26"
             ],
             [
              1,
              "#f0f921"
             ]
            ],
            "type": "heatmapgl"
           }
          ],
          "histogram": [
           {
            "marker": {
             "pattern": {
              "fillmode": "overlay",
              "size": 10,
              "solidity": 0.2
             }
            },
            "type": "histogram"
           }
          ],
          "histogram2d": [
           {
            "colorbar": {
             "outlinewidth": 0,
             "ticks": ""
            },
            "colorscale": [
             [
              0,
              "#0d0887"
             ],
             [
              0.1111111111111111,
              "#46039f"
             ],
             [
              0.2222222222222222,
              "#7201a8"
             ],
             [
              0.3333333333333333,
              "#9c179e"
             ],
             [
              0.4444444444444444,
              "#bd3786"
             ],
             [
              0.5555555555555556,
              "#d8576b"
             ],
             [
              0.6666666666666666,
              "#ed7953"
             ],
             [
              0.7777777777777778,
              "#fb9f3a"
             ],
             [
              0.8888888888888888,
              "#fdca26"
             ],
             [
              1,
              "#f0f921"
             ]
            ],
            "type": "histogram2d"
           }
          ],
          "histogram2dcontour": [
           {
            "colorbar": {
             "outlinewidth": 0,
             "ticks": ""
            },
            "colorscale": [
             [
              0,
              "#0d0887"
             ],
             [
              0.1111111111111111,
              "#46039f"
             ],
             [
              0.2222222222222222,
              "#7201a8"
             ],
             [
              0.3333333333333333,
              "#9c179e"
             ],
             [
              0.4444444444444444,
              "#bd3786"
             ],
             [
              0.5555555555555556,
              "#d8576b"
             ],
             [
              0.6666666666666666,
              "#ed7953"
             ],
             [
              0.7777777777777778,
              "#fb9f3a"
             ],
             [
              0.8888888888888888,
              "#fdca26"
             ],
             [
              1,
              "#f0f921"
             ]
            ],
            "type": "histogram2dcontour"
           }
          ],
          "mesh3d": [
           {
            "colorbar": {
             "outlinewidth": 0,
             "ticks": ""
            },
            "type": "mesh3d"
           }
          ],
          "parcoords": [
           {
            "line": {
             "colorbar": {
              "outlinewidth": 0,
              "ticks": ""
             }
            },
            "type": "parcoords"
           }
          ],
          "pie": [
           {
            "automargin": true,
            "type": "pie"
           }
          ],
          "scatter": [
           {
            "marker": {
             "colorbar": {
              "outlinewidth": 0,
              "ticks": ""
             }
            },
            "type": "scatter"
           }
          ],
          "scatter3d": [
           {
            "line": {
             "colorbar": {
              "outlinewidth": 0,
              "ticks": ""
             }
            },
            "marker": {
             "colorbar": {
              "outlinewidth": 0,
              "ticks": ""
             }
            },
            "type": "scatter3d"
           }
          ],
          "scattercarpet": [
           {
            "marker": {
             "colorbar": {
              "outlinewidth": 0,
              "ticks": ""
             }
            },
            "type": "scattercarpet"
           }
          ],
          "scattergeo": [
           {
            "marker": {
             "colorbar": {
              "outlinewidth": 0,
              "ticks": ""
             }
            },
            "type": "scattergeo"
           }
          ],
          "scattergl": [
           {
            "marker": {
             "colorbar": {
              "outlinewidth": 0,
              "ticks": ""
             }
            },
            "type": "scattergl"
           }
          ],
          "scattermapbox": [
           {
            "marker": {
             "colorbar": {
              "outlinewidth": 0,
              "ticks": ""
             }
            },
            "type": "scattermapbox"
           }
          ],
          "scatterpolar": [
           {
            "marker": {
             "colorbar": {
              "outlinewidth": 0,
              "ticks": ""
             }
            },
            "type": "scatterpolar"
           }
          ],
          "scatterpolargl": [
           {
            "marker": {
             "colorbar": {
              "outlinewidth": 0,
              "ticks": ""
             }
            },
            "type": "scatterpolargl"
           }
          ],
          "scatterternary": [
           {
            "marker": {
             "colorbar": {
              "outlinewidth": 0,
              "ticks": ""
             }
            },
            "type": "scatterternary"
           }
          ],
          "surface": [
           {
            "colorbar": {
             "outlinewidth": 0,
             "ticks": ""
            },
            "colorscale": [
             [
              0,
              "#0d0887"
             ],
             [
              0.1111111111111111,
              "#46039f"
             ],
             [
              0.2222222222222222,
              "#7201a8"
             ],
             [
              0.3333333333333333,
              "#9c179e"
             ],
             [
              0.4444444444444444,
              "#bd3786"
             ],
             [
              0.5555555555555556,
              "#d8576b"
             ],
             [
              0.6666666666666666,
              "#ed7953"
             ],
             [
              0.7777777777777778,
              "#fb9f3a"
             ],
             [
              0.8888888888888888,
              "#fdca26"
             ],
             [
              1,
              "#f0f921"
             ]
            ],
            "type": "surface"
           }
          ],
          "table": [
           {
            "cells": {
             "fill": {
              "color": "#EBF0F8"
             },
             "line": {
              "color": "white"
             }
            },
            "header": {
             "fill": {
              "color": "#C8D4E3"
             },
             "line": {
              "color": "white"
             }
            },
            "type": "table"
           }
          ]
         },
         "layout": {
          "annotationdefaults": {
           "arrowcolor": "#2a3f5f",
           "arrowhead": 0,
           "arrowwidth": 1
          },
          "autotypenumbers": "strict",
          "coloraxis": {
           "colorbar": {
            "outlinewidth": 0,
            "ticks": ""
           }
          },
          "colorscale": {
           "diverging": [
            [
             0,
             "#8e0152"
            ],
            [
             0.1,
             "#c51b7d"
            ],
            [
             0.2,
             "#de77ae"
            ],
            [
             0.3,
             "#f1b6da"
            ],
            [
             0.4,
             "#fde0ef"
            ],
            [
             0.5,
             "#f7f7f7"
            ],
            [
             0.6,
             "#e6f5d0"
            ],
            [
             0.7,
             "#b8e186"
            ],
            [
             0.8,
             "#7fbc41"
            ],
            [
             0.9,
             "#4d9221"
            ],
            [
             1,
             "#276419"
            ]
           ],
           "sequential": [
            [
             0,
             "#0d0887"
            ],
            [
             0.1111111111111111,
             "#46039f"
            ],
            [
             0.2222222222222222,
             "#7201a8"
            ],
            [
             0.3333333333333333,
             "#9c179e"
            ],
            [
             0.4444444444444444,
             "#bd3786"
            ],
            [
             0.5555555555555556,
             "#d8576b"
            ],
            [
             0.6666666666666666,
             "#ed7953"
            ],
            [
             0.7777777777777778,
             "#fb9f3a"
            ],
            [
             0.8888888888888888,
             "#fdca26"
            ],
            [
             1,
             "#f0f921"
            ]
           ],
           "sequentialminus": [
            [
             0,
             "#0d0887"
            ],
            [
             0.1111111111111111,
             "#46039f"
            ],
            [
             0.2222222222222222,
             "#7201a8"
            ],
            [
             0.3333333333333333,
             "#9c179e"
            ],
            [
             0.4444444444444444,
             "#bd3786"
            ],
            [
             0.5555555555555556,
             "#d8576b"
            ],
            [
             0.6666666666666666,
             "#ed7953"
            ],
            [
             0.7777777777777778,
             "#fb9f3a"
            ],
            [
             0.8888888888888888,
             "#fdca26"
            ],
            [
             1,
             "#f0f921"
            ]
           ]
          },
          "colorway": [
           "#636efa",
           "#EF553B",
           "#00cc96",
           "#ab63fa",
           "#FFA15A",
           "#19d3f3",
           "#FF6692",
           "#B6E880",
           "#FF97FF",
           "#FECB52"
          ],
          "font": {
           "color": "#2a3f5f"
          },
          "geo": {
           "bgcolor": "white",
           "lakecolor": "white",
           "landcolor": "#E5ECF6",
           "showlakes": true,
           "showland": true,
           "subunitcolor": "white"
          },
          "hoverlabel": {
           "align": "left"
          },
          "hovermode": "closest",
          "mapbox": {
           "style": "light"
          },
          "paper_bgcolor": "white",
          "plot_bgcolor": "#E5ECF6",
          "polar": {
           "angularaxis": {
            "gridcolor": "white",
            "linecolor": "white",
            "ticks": ""
           },
           "bgcolor": "#E5ECF6",
           "radialaxis": {
            "gridcolor": "white",
            "linecolor": "white",
            "ticks": ""
           }
          },
          "scene": {
           "xaxis": {
            "backgroundcolor": "#E5ECF6",
            "gridcolor": "white",
            "gridwidth": 2,
            "linecolor": "white",
            "showbackground": true,
            "ticks": "",
            "zerolinecolor": "white"
           },
           "yaxis": {
            "backgroundcolor": "#E5ECF6",
            "gridcolor": "white",
            "gridwidth": 2,
            "linecolor": "white",
            "showbackground": true,
            "ticks": "",
            "zerolinecolor": "white"
           },
           "zaxis": {
            "backgroundcolor": "#E5ECF6",
            "gridcolor": "white",
            "gridwidth": 2,
            "linecolor": "white",
            "showbackground": true,
            "ticks": "",
            "zerolinecolor": "white"
           }
          },
          "shapedefaults": {
           "line": {
            "color": "#2a3f5f"
           }
          },
          "ternary": {
           "aaxis": {
            "gridcolor": "white",
            "linecolor": "white",
            "ticks": ""
           },
           "baxis": {
            "gridcolor": "white",
            "linecolor": "white",
            "ticks": ""
           },
           "bgcolor": "#E5ECF6",
           "caxis": {
            "gridcolor": "white",
            "linecolor": "white",
            "ticks": ""
           }
          },
          "title": {
           "x": 0.05
          },
          "xaxis": {
           "automargin": true,
           "gridcolor": "white",
           "linecolor": "white",
           "ticks": "",
           "title": {
            "standoff": 15
           },
           "zerolinecolor": "white",
           "zerolinewidth": 2
          },
          "yaxis": {
           "automargin": true,
           "gridcolor": "white",
           "linecolor": "white",
           "ticks": "",
           "title": {
            "standoff": 15
           },
           "zerolinecolor": "white",
           "zerolinewidth": 2
          }
         }
        },
        "title": {
         "text": "Scatter Matrix of Number Firms, Employees, and Annual Pay",
         "x": 0.5,
         "xanchor": "center",
         "y": 0.9,
         "yanchor": "top"
        },
        "width": 1000
       }
      }
     },
     "metadata": {}
    }
   ],
   "source": [
    "ints_tech_char_df = tech_char_df[['FIRMPDEMP', 'EMP', 'PAYANN']]\n",
    "ints_tech_char_df['PAYANN'] = ints_tech_char_df['PAYANN'].astype(int)\n",
    "ints_tech_char_df['EMP'] = ints_tech_char_df['EMP'].astype(int)\n",
    "ints_tech_char_df['FIRMPDEMP'] = ints_tech_char_df['FIRMPDEMP'].astype(int)\n",
    "fig = px.scatter_matrix(ints_tech_char_df, title='Scatter Matrix of Number Firms, Employees, and Annual Pay', labels={'FIRMPDEMP':'Number of Employer Firms', 'PAYANN':'Annual Payroll ($1000)', 'EMP':'Number of Employees'})\n",
    "fig.update_layout(\n",
    "    title={        \n",
    "        'y':0.9,\n",
    "        'x':0.5,\n",
    "        'xanchor': 'center',\n",
    "        'yanchor': 'top'},\n",
    "    width=1000,\n",
    "    height=800,\n",
    "    )\n",
    "fig.show()"
   ]
  },
  {
   "cell_type": "code",
   "execution_count": null,
   "metadata": {},
   "outputs": [],
   "source": []
  }
 ]
}